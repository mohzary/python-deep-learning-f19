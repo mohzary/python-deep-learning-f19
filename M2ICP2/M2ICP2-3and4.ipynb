{
 "cells": [
  {
   "cell_type": "code",
   "execution_count": 1,
   "metadata": {},
   "outputs": [
    {
     "name": "stderr",
     "output_type": "stream",
     "text": [
      "Using TensorFlow backend.\n",
      "/home/mohzary/.local/lib/python3.7/site-packages/tensorflow/python/framework/dtypes.py:516: FutureWarning: Passing (type, 1) or '1type' as a synonym of type is deprecated; in a future version of numpy, it will be understood as (type, (1,)) / '(1,)type'.\n",
      "  _np_qint8 = np.dtype([(\"qint8\", np.int8, 1)])\n",
      "/home/mohzary/.local/lib/python3.7/site-packages/tensorflow/python/framework/dtypes.py:517: FutureWarning: Passing (type, 1) or '1type' as a synonym of type is deprecated; in a future version of numpy, it will be understood as (type, (1,)) / '(1,)type'.\n",
      "  _np_quint8 = np.dtype([(\"quint8\", np.uint8, 1)])\n",
      "/home/mohzary/.local/lib/python3.7/site-packages/tensorflow/python/framework/dtypes.py:518: FutureWarning: Passing (type, 1) or '1type' as a synonym of type is deprecated; in a future version of numpy, it will be understood as (type, (1,)) / '(1,)type'.\n",
      "  _np_qint16 = np.dtype([(\"qint16\", np.int16, 1)])\n",
      "/home/mohzary/.local/lib/python3.7/site-packages/tensorflow/python/framework/dtypes.py:519: FutureWarning: Passing (type, 1) or '1type' as a synonym of type is deprecated; in a future version of numpy, it will be understood as (type, (1,)) / '(1,)type'.\n",
      "  _np_quint16 = np.dtype([(\"quint16\", np.uint16, 1)])\n",
      "/home/mohzary/.local/lib/python3.7/site-packages/tensorflow/python/framework/dtypes.py:520: FutureWarning: Passing (type, 1) or '1type' as a synonym of type is deprecated; in a future version of numpy, it will be understood as (type, (1,)) / '(1,)type'.\n",
      "  _np_qint32 = np.dtype([(\"qint32\", np.int32, 1)])\n",
      "/home/mohzary/.local/lib/python3.7/site-packages/tensorflow/python/framework/dtypes.py:525: FutureWarning: Passing (type, 1) or '1type' as a synonym of type is deprecated; in a future version of numpy, it will be understood as (type, (1,)) / '(1,)type'.\n",
      "  np_resource = np.dtype([(\"resource\", np.ubyte, 1)])\n",
      "/home/mohzary/.local/lib/python3.7/site-packages/tensorboard/compat/tensorflow_stub/dtypes.py:541: FutureWarning: Passing (type, 1) or '1type' as a synonym of type is deprecated; in a future version of numpy, it will be understood as (type, (1,)) / '(1,)type'.\n",
      "  _np_qint8 = np.dtype([(\"qint8\", np.int8, 1)])\n",
      "/home/mohzary/.local/lib/python3.7/site-packages/tensorboard/compat/tensorflow_stub/dtypes.py:542: FutureWarning: Passing (type, 1) or '1type' as a synonym of type is deprecated; in a future version of numpy, it will be understood as (type, (1,)) / '(1,)type'.\n",
      "  _np_quint8 = np.dtype([(\"quint8\", np.uint8, 1)])\n",
      "/home/mohzary/.local/lib/python3.7/site-packages/tensorboard/compat/tensorflow_stub/dtypes.py:543: FutureWarning: Passing (type, 1) or '1type' as a synonym of type is deprecated; in a future version of numpy, it will be understood as (type, (1,)) / '(1,)type'.\n",
      "  _np_qint16 = np.dtype([(\"qint16\", np.int16, 1)])\n",
      "/home/mohzary/.local/lib/python3.7/site-packages/tensorboard/compat/tensorflow_stub/dtypes.py:544: FutureWarning: Passing (type, 1) or '1type' as a synonym of type is deprecated; in a future version of numpy, it will be understood as (type, (1,)) / '(1,)type'.\n",
      "  _np_quint16 = np.dtype([(\"quint16\", np.uint16, 1)])\n",
      "/home/mohzary/.local/lib/python3.7/site-packages/tensorboard/compat/tensorflow_stub/dtypes.py:545: FutureWarning: Passing (type, 1) or '1type' as a synonym of type is deprecated; in a future version of numpy, it will be understood as (type, (1,)) / '(1,)type'.\n",
      "  _np_qint32 = np.dtype([(\"qint32\", np.int32, 1)])\n",
      "/home/mohzary/.local/lib/python3.7/site-packages/tensorboard/compat/tensorflow_stub/dtypes.py:550: FutureWarning: Passing (type, 1) or '1type' as a synonym of type is deprecated; in a future version of numpy, it will be understood as (type, (1,)) / '(1,)type'.\n",
      "  np_resource = np.dtype([(\"resource\", np.ubyte, 1)])\n"
     ]
    }
   ],
   "source": [
    "from keras import Sequential\n",
    "from keras.datasets import mnist\n",
    "import numpy as np\n",
    "import matplotlib.pyplot as plt\n",
    "from keras.layers import Dense\n",
    "from keras.utils import to_categorical"
   ]
  },
  {
   "cell_type": "code",
   "execution_count": 2,
   "metadata": {},
   "outputs": [],
   "source": [
    "(train_images,train_labels),(test_images, test_labels) = mnist.load_data()"
   ]
  },
  {
   "cell_type": "code",
   "execution_count": 3,
   "metadata": {},
   "outputs": [
    {
     "data": {
      "image/png": "[encoded data removed]",
      "text/plain": [
       "<Figure size 432x288 with 1 Axes>"
      ]
     },
     "metadata": {
      "needs_background": "light"
     },
     "output_type": "display_data"
    }
   ],
   "source": [
    "#display the first image in the training data\n",
    "plt.imshow(train_images[10,:,:],cmap='gray')\n",
    "plt.title('Ground Truth : {}'.format(train_labels[10]))\n",
    "plt.show()"
   ]
  },
  {
   "cell_type": "code",
   "execution_count": 4,
   "metadata": {},
   "outputs": [],
   "source": [
    "#process the data\n",
    "#1. convert each image of shape 28*28 to 784 dimensional which will be fed to the network as a single feature\n",
    "dimData = np.prod(train_images.shape[1:])\n",
    "train_data = train_images.reshape(train_images.shape[0],dimData)\n",
    "test_data = test_images.reshape(test_images.shape[0],dimData)"
   ]
  },
  {
   "cell_type": "code",
   "execution_count": 5,
   "metadata": {},
   "outputs": [],
   "source": [
    "#convert data to float and scale values between 0 and 1\n",
    "train_data = train_data.astype('float')\n",
    "test_data = test_data.astype('float')"
   ]
  },
  {
   "cell_type": "code",
   "execution_count": 7,
   "metadata": {},
   "outputs": [],
   "source": [
    "#scale data\n",
    "train_data /=255.0\n",
    "test_data /=255.0"
   ]
  },
  {
   "cell_type": "code",
   "execution_count": 8,
   "metadata": {},
   "outputs": [],
   "source": [
    "#change the labels frominteger to one-hot encoding\n",
    "train_labels_one_hot = to_categorical(train_labels)\n",
    "test_labels_one_hot = to_categorical(test_labels)"
   ]
  },
  {
   "cell_type": "code",
   "execution_count": 9,
   "metadata": {},
   "outputs": [
    {
     "name": "stdout",
     "output_type": "stream",
     "text": [
      "WARNING:tensorflow:From /home/mohzary/.local/lib/python3.7/site-packages/keras/backend/tensorflow_backend.py:422: The name tf.global_variables is deprecated. Please use tf.compat.v1.global_variables instead.\n",
      "\n",
      "Train on 60000 samples, validate on 10000 samples\n",
      "Epoch 1/30\n",
      "60000/60000 [==============================] - 11s 181us/step - loss: 1.0498 - accuracy: 0.6263 - val_loss: 0.5127 - val_accuracy: 0.8298\n",
      "Epoch 2/30\n",
      "60000/60000 [==============================] - 10s 160us/step - loss: 0.4095 - accuracy: 0.8708 - val_loss: 0.3105 - val_accuracy: 0.9022\n",
      "Epoch 3/30\n",
      "60000/60000 [==============================] - 10s 159us/step - loss: 0.2798 - accuracy: 0.9134 - val_loss: 0.2471 - val_accuracy: 0.9241\n",
      "Epoch 4/30\n",
      "60000/60000 [==============================] - 10s 168us/step - loss: 0.2095 - accuracy: 0.9354 - val_loss: 0.1856 - val_accuracy: 0.9428\n",
      "Epoch 5/30\n",
      "60000/60000 [==============================] - 10s 161us/step - loss: 0.1668 - accuracy: 0.9486 - val_loss: 0.2244 - val_accuracy: 0.9267\n",
      "Epoch 6/30\n",
      "60000/60000 [==============================] - 10s 166us/step - loss: 0.1358 - accuracy: 0.9584 - val_loss: 0.1580 - val_accuracy: 0.9510\n",
      "Epoch 7/30\n",
      "60000/60000 [==============================] - 10s 163us/step - loss: 0.1151 - accuracy: 0.9643 - val_loss: 0.1726 - val_accuracy: 0.9464\n",
      "Epoch 8/30\n",
      "60000/60000 [==============================] - 10s 167us/step - loss: 0.0992 - accuracy: 0.9686 - val_loss: 0.1187 - val_accuracy: 0.9627\n",
      "Epoch 9/30\n",
      "60000/60000 [==============================] - 10s 165us/step - loss: 0.0858 - accuracy: 0.9741 - val_loss: 0.1004 - val_accuracy: 0.9694\n",
      "Epoch 10/30\n",
      "60000/60000 [==============================] - 11s 183us/step - loss: 0.0752 - accuracy: 0.9778 - val_loss: 0.0867 - val_accuracy: 0.9742\n",
      "Epoch 11/30\n",
      "60000/60000 [==============================] - 12s 199us/step - loss: 0.0660 - accuracy: 0.9792 - val_loss: 0.0891 - val_accuracy: 0.9735\n",
      "Epoch 12/30\n",
      "60000/60000 [==============================] - 12s 206us/step - loss: 0.0599 - accuracy: 0.9817 - val_loss: 0.1291 - val_accuracy: 0.9619\n",
      "Epoch 13/30\n",
      "60000/60000 [==============================] - 13s 212us/step - loss: 0.0515 - accuracy: 0.9839 - val_loss: 0.1142 - val_accuracy: 0.9681\n",
      "Epoch 14/30\n",
      "60000/60000 [==============================] - 13s 214us/step - loss: 0.0461 - accuracy: 0.9858 - val_loss: 0.0992 - val_accuracy: 0.9708\n",
      "Epoch 15/30\n",
      "60000/60000 [==============================] - 15s 243us/step - loss: 0.0403 - accuracy: 0.9873 - val_loss: 0.1040 - val_accuracy: 0.9732\n",
      "Epoch 16/30\n",
      "60000/60000 [==============================] - 16s 259us/step - loss: 0.0359 - accuracy: 0.9887 - val_loss: 0.1133 - val_accuracy: 0.9707\n",
      "Epoch 17/30\n",
      "60000/60000 [==============================] - 15s 258us/step - loss: 0.0316 - accuracy: 0.9901 - val_loss: 0.0990 - val_accuracy: 0.9749\n",
      "Epoch 18/30\n",
      "60000/60000 [==============================] - 12s 205us/step - loss: 0.0290 - accuracy: 0.9910 - val_loss: 0.1046 - val_accuracy: 0.9735\n",
      "Epoch 19/30\n",
      "60000/60000 [==============================] - 13s 212us/step - loss: 0.0252 - accuracy: 0.9920 - val_loss: 0.1144 - val_accuracy: 0.9724\n",
      "Epoch 20/30\n",
      "60000/60000 [==============================] - 13s 217us/step - loss: 0.0222 - accuracy: 0.9932 - val_loss: 0.0868 - val_accuracy: 0.9813\n",
      "Epoch 21/30\n",
      "60000/60000 [==============================] - 16s 259us/step - loss: 0.0196 - accuracy: 0.9939 - val_loss: 0.2508 - val_accuracy: 0.9405\n",
      "Epoch 22/30\n",
      "60000/60000 [==============================] - 16s 269us/step - loss: 0.0181 - accuracy: 0.9940 - val_loss: 0.1111 - val_accuracy: 0.9762\n",
      "Epoch 23/30\n",
      "60000/60000 [==============================] - 17s 280us/step - loss: 0.0167 - accuracy: 0.9947 - val_loss: 0.1076 - val_accuracy: 0.9776\n",
      "Epoch 24/30\n",
      "60000/60000 [==============================] - 17s 281us/step - loss: 0.0148 - accuracy: 0.9955 - val_loss: 0.1149 - val_accuracy: 0.9789\n",
      "Epoch 25/30\n",
      "60000/60000 [==============================] - 17s 284us/step - loss: 0.0133 - accuracy: 0.9958 - val_loss: 0.1087 - val_accuracy: 0.9798\n",
      "Epoch 26/30\n",
      "60000/60000 [==============================] - 17s 286us/step - loss: 0.0128 - accuracy: 0.9962 - val_loss: 0.1098 - val_accuracy: 0.9782\n",
      "Epoch 27/30\n",
      "60000/60000 [==============================] - 17s 285us/step - loss: 0.0113 - accuracy: 0.9967 - val_loss: 0.1158 - val_accuracy: 0.9793\n",
      "Epoch 28/30\n",
      "60000/60000 [==============================] - 17s 286us/step - loss: 0.0109 - accuracy: 0.9968 - val_loss: 0.1212 - val_accuracy: 0.9798\n",
      "Epoch 29/30\n",
      "60000/60000 [==============================] - 17s 286us/step - loss: 0.0110 - accuracy: 0.9968 - val_loss: 0.1259 - val_accuracy: 0.9775\n",
      "Epoch 30/30\n",
      "60000/60000 [==============================] - 17s 281us/step - loss: 0.0096 - accuracy: 0.9973 - val_loss: 0.1672 - val_accuracy: 0.9714\n"
     ]
    }
   ],
   "source": [
    "#creating network, to change the number of hidden layer and the activation to tanh or sigmoid and see what happens\n",
    "model = Sequential()\n",
    "model.add(Dense(512, activation='sigmoid', input_shape=(dimData,)))\n",
    "model.add(Dense(512, activation='sigmoid'))\n",
    "model.add(Dense(512, activation='sigmoid'))\n",
    "model.add(Dense(512, activation='sigmoid'))\n",
    "model.add(Dense(10, activation='softmax'))\n",
    "\n",
    "model.compile(optimizer='rmsprop', loss='categorical_crossentropy', metrics=['accuracy'])\n",
    "history = model.fit(train_data, train_labels_one_hot, batch_size=256, epochs=30, verbose=1,\n",
    "                   validation_data=(test_data, test_labels_one_hot))\n"
   ]
  },
  {
   "cell_type": "code",
   "execution_count": 10,
   "metadata": {},
   "outputs": [
    {
     "name": "stdout",
     "output_type": "stream",
     "text": [
      "10000/10000 [==============================] - 1s 115us/step\n",
      "Evaluation result on Test Data : Loss = 0.1671866798070132, accuracy = 0.9714000225067139\n"
     ]
    }
   ],
   "source": [
    "[test_loss, test_acc] = model.evaluate(test_data, test_labels_one_hot)\n",
    "print(\"Evaluation result on Test Data : Loss = {}, accuracy = {}\".format(test_loss, test_acc))"
   ]
  },
  {
   "cell_type": "code",
   "execution_count": 11,
   "metadata": {},
   "outputs": [
    {
     "name": "stdout",
     "output_type": "stream",
     "text": [
      "{'val_loss': [0.5127385931968689, 0.3105050313949585, 0.2471179266810417, 0.18558422360420226, 0.2243884857416153, 0.15804253368377685, 0.17260270614624024, 0.1186895434036851, 0.10041113547235728, 0.08670458762645722, 0.08909639702886343, 0.1291407153479755, 0.11416093947887421, 0.0991895449101925, 0.1039711551092565, 0.11333445509411394, 0.09896191369430161, 0.1046478881213814, 0.11436317159682512, 0.08684985350902426, 0.25084123633801936, 0.1110774862627266, 0.10764025356132478, 0.11492171007614815, 0.10870803809220451, 0.10978377815855747, 0.11584816521142748, 0.12119524306040166, 0.12587154937977757, 0.1671866691022122], 'val_accuracy': [0.829800009727478, 0.9021999835968018, 0.9240999817848206, 0.942799985408783, 0.9266999959945679, 0.9509999752044678, 0.946399986743927, 0.9627000093460083, 0.9693999886512756, 0.9742000102996826, 0.9735000133514404, 0.961899995803833, 0.9681000113487244, 0.97079998254776, 0.9732000231742859, 0.9707000255584717, 0.9749000072479248, 0.9735000133514404, 0.9724000096321106, 0.9812999963760376, 0.940500020980835, 0.9761999845504761, 0.9775999784469604, 0.9789000153541565, 0.9797999858856201, 0.9782000184059143, 0.9793000221252441, 0.9797999858856201, 0.9775000214576721, 0.9714000225067139], 'loss': [1.0497779781977337, 0.40951610050996146, 0.27982731526692706, 0.20945159897009533, 0.166790394004186, 0.13575311784744262, 0.11512399539152782, 0.09916562087933223, 0.0857548911134402, 0.07522166994710763, 0.06604909752209981, 0.059912364896138506, 0.051529534104963144, 0.046059256380796436, 0.040261067203680674, 0.03585058579246203, 0.031625162800153095, 0.029043177688618502, 0.025225918821493786, 0.02221738257780671, 0.019602903781086208, 0.01807145365923643, 0.016709152502939105, 0.014761372292041778, 0.013318740644554298, 0.01275788892385705, 0.011345302354486194, 0.01088299145239095, 0.01103247615081879, 0.009588382627644266], 'accuracy': [0.62633336, 0.8708, 0.9133833, 0.9354, 0.9485667, 0.95843333, 0.96431667, 0.96861666, 0.9740667, 0.9777833, 0.9792167, 0.9816833, 0.9838667, 0.98581666, 0.98735, 0.98871666, 0.99006665, 0.9910167, 0.99196666, 0.9931833, 0.9938667, 0.99395, 0.99473333, 0.99555, 0.9958, 0.99615, 0.99666667, 0.9968167, 0.9968, 0.99726665]}\n"
     ]
    }
   ],
   "source": [
    "print(history.history)"
   ]
  },
  {
   "cell_type": "code",
   "execution_count": 14,
   "metadata": {},
   "outputs": [
    {
     "data": {
      "text/plain": [
       "<matplotlib.legend.Legend at 0x7f33f4100668>"
      ]
     },
     "execution_count": 14,
     "metadata": {},
     "output_type": "execute_result"
    },
    {
     "data": {
      "image/png": "[encoded data removed]",
      "text/plain": [
       "<Figure size 432x288 with 1 Axes>"
      ]
     },
     "metadata": {
      "needs_background": "light"
     },
     "output_type": "display_data"
    }
   ],
   "source": [
    "#plot the loss and accuracy for both training data and validation data. \n",
    "plt.figure()\n",
    "plt.plot(np.arange(0, 30), history.history[\"val_loss\"], label=\"validation loss\")\n",
    "plt.plot(np.arange(0, 30), history.history[\"val_accuracy\"], label=\"validation accuracy\")\n",
    "plt.plot(np.arange(0, 30), history.history[\"loss\"], label=\"training Loss\")\n",
    "plt.plot(np.arange(0, 30), history.history[\"accuracy\"], label=\"training accuracy\")\n",
    "plt.title(\"the loss and accuracy for both training data and validation data\")\n",
    "plt.xlabel(\"Epoch #\")\n",
    "plt.ylabel(\"Loss/Accuracy\")\n",
    "plt.legend(loc=\"best\")"
   ]
  },
  {
   "cell_type": "code",
   "execution_count": 15,
   "metadata": {},
   "outputs": [
    {
     "name": "stdout",
     "output_type": "stream",
     "text": [
      "[9]\n"
     ]
    },
    {
     "data": {
      "image/png": "[encoded data removed]",
      "text/plain": [
       "<Figure size 432x288 with 1 Axes>"
      ]
     },
     "metadata": {
      "needs_background": "light"
     },
     "output_type": "display_data"
    }
   ],
   "source": [
    "# To plot one of the images in the test data, and then do inferencing to check what is the prediction of the model on that single image in the test data\n",
    "\n",
    "\n",
    "predict_classe = model.predict_classes(test_data[[150],:])\n",
    "print(predict_classe)\n",
    "plt.imshow(test_images[150].reshape((28, 28)), cmap = 'gray')\n",
    "plt.title(\"This is: \" + str(predict_classe[0]))\n",
    "plt.show()\n"
   ]
  },
  {
   "cell_type": "code",
   "execution_count": null,
   "metadata": {},
   "outputs": [],
   "source": []
  }
 ],
 "metadata": {
  "kernelspec": {
   "display_name": "Python 3",
   "language": "python",
   "name": "python3"
  },
  "language_info": {
   "codemirror_mode": {
    "name": "ipython",
    "version": 3
   },
   "file_extension": ".py",
   "mimetype": "text/x-python",
   "name": "python",
   "nbconvert_exporter": "python",
   "pygments_lexer": "ipython3",
   "version": "3.7.3"
  }
 },
 "nbformat": 4,
 "nbformat_minor": 2
}
