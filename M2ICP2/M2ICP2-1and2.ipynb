{
 "cells": [
  {
   "cell_type": "code",
   "execution_count": 1,
   "metadata": {},
   "outputs": [
    {
     "name": "stderr",
     "output_type": "stream",
     "text": [
      "Using TensorFlow backend.\n",
      "/home/mohzary/.local/lib/python3.7/site-packages/tensorflow/python/framework/dtypes.py:516: FutureWarning: Passing (type, 1) or '1type' as a synonym of type is deprecated; in a future version of numpy, it will be understood as (type, (1,)) / '(1,)type'.\n",
      "  _np_qint8 = np.dtype([(\"qint8\", np.int8, 1)])\n",
      "/home/mohzary/.local/lib/python3.7/site-packages/tensorflow/python/framework/dtypes.py:517: FutureWarning: Passing (type, 1) or '1type' as a synonym of type is deprecated; in a future version of numpy, it will be understood as (type, (1,)) / '(1,)type'.\n",
      "  _np_quint8 = np.dtype([(\"quint8\", np.uint8, 1)])\n",
      "/home/mohzary/.local/lib/python3.7/site-packages/tensorflow/python/framework/dtypes.py:518: FutureWarning: Passing (type, 1) or '1type' as a synonym of type is deprecated; in a future version of numpy, it will be understood as (type, (1,)) / '(1,)type'.\n",
      "  _np_qint16 = np.dtype([(\"qint16\", np.int16, 1)])\n",
      "/home/mohzary/.local/lib/python3.7/site-packages/tensorflow/python/framework/dtypes.py:519: FutureWarning: Passing (type, 1) or '1type' as a synonym of type is deprecated; in a future version of numpy, it will be understood as (type, (1,)) / '(1,)type'.\n",
      "  _np_quint16 = np.dtype([(\"quint16\", np.uint16, 1)])\n",
      "/home/mohzary/.local/lib/python3.7/site-packages/tensorflow/python/framework/dtypes.py:520: FutureWarning: Passing (type, 1) or '1type' as a synonym of type is deprecated; in a future version of numpy, it will be understood as (type, (1,)) / '(1,)type'.\n",
      "  _np_qint32 = np.dtype([(\"qint32\", np.int32, 1)])\n",
      "/home/mohzary/.local/lib/python3.7/site-packages/tensorflow/python/framework/dtypes.py:525: FutureWarning: Passing (type, 1) or '1type' as a synonym of type is deprecated; in a future version of numpy, it will be understood as (type, (1,)) / '(1,)type'.\n",
      "  np_resource = np.dtype([(\"resource\", np.ubyte, 1)])\n",
      "/home/mohzary/.local/lib/python3.7/site-packages/tensorboard/compat/tensorflow_stub/dtypes.py:541: FutureWarning: Passing (type, 1) or '1type' as a synonym of type is deprecated; in a future version of numpy, it will be understood as (type, (1,)) / '(1,)type'.\n",
      "  _np_qint8 = np.dtype([(\"qint8\", np.int8, 1)])\n",
      "/home/mohzary/.local/lib/python3.7/site-packages/tensorboard/compat/tensorflow_stub/dtypes.py:542: FutureWarning: Passing (type, 1) or '1type' as a synonym of type is deprecated; in a future version of numpy, it will be understood as (type, (1,)) / '(1,)type'.\n",
      "  _np_quint8 = np.dtype([(\"quint8\", np.uint8, 1)])\n",
      "/home/mohzary/.local/lib/python3.7/site-packages/tensorboard/compat/tensorflow_stub/dtypes.py:543: FutureWarning: Passing (type, 1) or '1type' as a synonym of type is deprecated; in a future version of numpy, it will be understood as (type, (1,)) / '(1,)type'.\n",
      "  _np_qint16 = np.dtype([(\"qint16\", np.int16, 1)])\n",
      "/home/mohzary/.local/lib/python3.7/site-packages/tensorboard/compat/tensorflow_stub/dtypes.py:544: FutureWarning: Passing (type, 1) or '1type' as a synonym of type is deprecated; in a future version of numpy, it will be understood as (type, (1,)) / '(1,)type'.\n",
      "  _np_quint16 = np.dtype([(\"quint16\", np.uint16, 1)])\n",
      "/home/mohzary/.local/lib/python3.7/site-packages/tensorboard/compat/tensorflow_stub/dtypes.py:545: FutureWarning: Passing (type, 1) or '1type' as a synonym of type is deprecated; in a future version of numpy, it will be understood as (type, (1,)) / '(1,)type'.\n",
      "  _np_qint32 = np.dtype([(\"qint32\", np.int32, 1)])\n",
      "/home/mohzary/.local/lib/python3.7/site-packages/tensorboard/compat/tensorflow_stub/dtypes.py:550: FutureWarning: Passing (type, 1) or '1type' as a synonym of type is deprecated; in a future version of numpy, it will be understood as (type, (1,)) / '(1,)type'.\n",
      "  np_resource = np.dtype([(\"resource\", np.ubyte, 1)])\n"
     ]
    }
   ],
   "source": [
    "from keras import Sequential\n",
    "from keras.datasets import mnist\n",
    "import numpy as np\n",
    "import matplotlib.pyplot as plt\n",
    "from keras.layers import Dense\n",
    "from keras.utils import to_categorical"
   ]
  },
  {
   "cell_type": "code",
   "execution_count": 2,
   "metadata": {},
   "outputs": [],
   "source": [
    "(train_images,train_labels),(test_images, test_labels) = mnist.load_data()"
   ]
  },
  {
   "cell_type": "code",
   "execution_count": 3,
   "metadata": {},
   "outputs": [
    {
     "data": {
      "image/png": "[encoded data removed]",
      "text/plain": [
       "<Figure size 432x288 with 1 Axes>"
      ]
     },
     "metadata": {
      "needs_background": "light"
     },
     "output_type": "display_data"
    }
   ],
   "source": [
    "#display the first image in the training data\n",
    "plt.imshow(train_images[0,:,:],cmap='gray')\n",
    "plt.title('Ground Truth : {}'.format(train_labels[0]))\n",
    "plt.show()"
   ]
  },
  {
   "cell_type": "code",
   "execution_count": 4,
   "metadata": {},
   "outputs": [],
   "source": [
    "#process the data\n",
    "#1. convert each image of shape 28*28 to 784 dimensional which will be fed to the network as a single feature\n",
    "dimData = np.prod(train_images.shape[1:])\n",
    "train_data = train_images.reshape(train_images.shape[0],dimData)\n",
    "test_data = test_images.reshape(test_images.shape[0],dimData)"
   ]
  },
  {
   "cell_type": "code",
   "execution_count": 7,
   "metadata": {},
   "outputs": [],
   "source": [
    "#convert data to float and scale values between 0 and 1\n",
    "train_data = train_data.astype('float')\n",
    "test_data = test_data.astype('float')"
   ]
  },
  {
   "cell_type": "code",
   "execution_count": 8,
   "metadata": {},
   "outputs": [],
   "source": [
    "#scale data\n",
    "train_data /=255.0\n",
    "test_data /=255.0"
   ]
  },
  {
   "cell_type": "code",
   "execution_count": 9,
   "metadata": {},
   "outputs": [],
   "source": [
    "#change the labels frominteger to one-hot encoding\n",
    "train_labels_one_hot = to_categorical(train_labels)\n",
    "test_labels_one_hot = to_categorical(test_labels)"
   ]
  },
  {
   "cell_type": "code",
   "execution_count": 10,
   "metadata": {},
   "outputs": [
    {
     "name": "stdout",
     "output_type": "stream",
     "text": [
      "WARNING:tensorflow:From /home/mohzary/.local/lib/python3.7/site-packages/keras/backend/tensorflow_backend.py:422: The name tf.global_variables is deprecated. Please use tf.compat.v1.global_variables instead.\n",
      "\n",
      "Train on 60000 samples, validate on 10000 samples\n",
      "Epoch 1/20\n",
      "60000/60000 [==============================] - 7s 120us/step - loss: 0.2747 - accuracy: 0.9145 - val_loss: 0.1533 - val_accuracy: 0.9509\n",
      "Epoch 2/20\n",
      "60000/60000 [==============================] - 6s 97us/step - loss: 0.0922 - accuracy: 0.9715 - val_loss: 0.0900 - val_accuracy: 0.9729\n",
      "Epoch 3/20\n",
      "60000/60000 [==============================] - 6s 101us/step - loss: 0.0586 - accuracy: 0.9816 - val_loss: 0.0697 - val_accuracy: 0.9791\n",
      "Epoch 4/20\n",
      "60000/60000 [==============================] - 6s 102us/step - loss: 0.0396 - accuracy: 0.9878 - val_loss: 0.0701 - val_accuracy: 0.9794\n",
      "Epoch 5/20\n",
      "60000/60000 [==============================] - 6s 104us/step - loss: 0.0288 - accuracy: 0.9908 - val_loss: 0.0877 - val_accuracy: 0.9762\n",
      "Epoch 6/20\n",
      "60000/60000 [==============================] - 6s 102us/step - loss: 0.0216 - accuracy: 0.9930 - val_loss: 0.0659 - val_accuracy: 0.9802\n",
      "Epoch 7/20\n",
      "60000/60000 [==============================] - 6s 100us/step - loss: 0.0172 - accuracy: 0.9943 - val_loss: 0.0760 - val_accuracy: 0.9804\n",
      "Epoch 8/20\n",
      "60000/60000 [==============================] - 6s 102us/step - loss: 0.0136 - accuracy: 0.9956 - val_loss: 0.0779 - val_accuracy: 0.9814\n",
      "Epoch 9/20\n",
      "60000/60000 [==============================] - 6s 99us/step - loss: 0.0100 - accuracy: 0.9969 - val_loss: 0.1000 - val_accuracy: 0.9802\n",
      "Epoch 10/20\n",
      "60000/60000 [==============================] - 6s 104us/step - loss: 0.0094 - accuracy: 0.9969 - val_loss: 0.0992 - val_accuracy: 0.9792\n",
      "Epoch 11/20\n",
      "60000/60000 [==============================] - 6s 104us/step - loss: 0.0082 - accuracy: 0.9971 - val_loss: 0.0961 - val_accuracy: 0.9824\n",
      "Epoch 12/20\n",
      "60000/60000 [==============================] - 6s 106us/step - loss: 0.0082 - accuracy: 0.9972 - val_loss: 0.1160 - val_accuracy: 0.9794\n",
      "Epoch 13/20\n",
      "60000/60000 [==============================] - 6s 102us/step - loss: 0.0068 - accuracy: 0.9978 - val_loss: 0.0992 - val_accuracy: 0.9827\n",
      "Epoch 14/20\n",
      "60000/60000 [==============================] - 6s 103us/step - loss: 0.0050 - accuracy: 0.9985 - val_loss: 0.1213 - val_accuracy: 0.9808\n",
      "Epoch 15/20\n",
      "60000/60000 [==============================] - 6s 103us/step - loss: 0.0058 - accuracy: 0.9981 - val_loss: 0.1155 - val_accuracy: 0.9819\n",
      "Epoch 16/20\n",
      "60000/60000 [==============================] - 6s 105us/step - loss: 0.0043 - accuracy: 0.9987 - val_loss: 0.1404 - val_accuracy: 0.9806\n",
      "Epoch 17/20\n",
      "60000/60000 [==============================] - 6s 100us/step - loss: 0.0048 - accuracy: 0.9984 - val_loss: 0.1150 - val_accuracy: 0.9836\n",
      "Epoch 18/20\n",
      "60000/60000 [==============================] - 6s 105us/step - loss: 0.0046 - accuracy: 0.9987 - val_loss: 0.1565 - val_accuracy: 0.9802\n",
      "Epoch 19/20\n",
      "60000/60000 [==============================] - 7s 113us/step - loss: 0.0040 - accuracy: 0.9989 - val_loss: 0.1277 - val_accuracy: 0.9817\n",
      "Epoch 20/20\n",
      "60000/60000 [==============================] - 6s 96us/step - loss: 0.0035 - accuracy: 0.9990 - val_loss: 0.1417 - val_accuracy: 0.9822\n"
     ]
    }
   ],
   "source": [
    "#creating network\n",
    "model = Sequential()\n",
    "model.add(Dense(512, activation='relu', input_shape=(dimData,)))\n",
    "model.add(Dense(512, activation='relu'))\n",
    "model.add(Dense(10, activation='softmax'))\n",
    "\n",
    "model.compile(optimizer='rmsprop', loss='categorical_crossentropy', metrics=['accuracy'])\n",
    "history = model.fit(train_data, train_labels_one_hot, batch_size=256, epochs=20, verbose=1,\n",
    "                   validation_data=(test_data, test_labels_one_hot))\n"
   ]
  },
  {
   "cell_type": "code",
   "execution_count": 11,
   "metadata": {},
   "outputs": [
    {
     "name": "stdout",
     "output_type": "stream",
     "text": [
      "10000/10000 [==============================] - 1s 81us/step\n",
      "Evaluation result on Test Data : Loss = 0.14171044317796228, accuracy = 0.982200026512146\n"
     ]
    }
   ],
   "source": [
    "[test_loss, test_acc] = model.evaluate(test_data, test_labels_one_hot)\n",
    "print(\"Evaluation result on Test Data : Loss = {}, accuracy = {}\".format(test_loss, test_acc))"
   ]
  },
  {
   "cell_type": "code",
   "execution_count": 23,
   "metadata": {},
   "outputs": [
    {
     "name": "stdout",
     "output_type": "stream",
     "text": [
      "{'val_loss': [0.15328406630158425, 0.089963105120603, 0.06972652938701213, 0.07006780037626159, 0.08766857575625181, 0.06590939724801574, 0.07600331909190863, 0.07787934005740463, 0.09999905456564284, 0.09923041043053381, 0.09609522164959633, 0.11597900902369293, 0.09918679569619271, 0.12127691689133638, 0.11550874353420222, 0.14035681219174467, 0.1150015718351584, 0.1564666978346184, 0.12773224152382462, 0.14171044225213336], 'val_accuracy': [0.9509000182151794, 0.9728999733924866, 0.9790999889373779, 0.9793999791145325, 0.9761999845504761, 0.9801999926567078, 0.980400025844574, 0.9814000129699707, 0.9801999926567078, 0.979200005531311, 0.9824000000953674, 0.9793999791145325, 0.982699990272522, 0.9807999730110168, 0.9818999767303467, 0.9805999994277954, 0.9836000204086304, 0.9801999926567078, 0.9817000031471252, 0.982200026512146], 'loss': [0.2746646710117658, 0.09223209805488586, 0.058609863001604874, 0.03961990443468094, 0.028762753763794897, 0.021600353087484838, 0.01715383669336637, 0.013573778816809257, 0.009991416093707085, 0.009422951598962148, 0.00815582985090247, 0.00822663817514355, 0.006754251182413525, 0.005047586520908711, 0.005825499539616673, 0.00428768140127213, 0.004754623245606005, 0.004582674824511317, 0.004030721532153499, 0.0034797338179215634], 'accuracy': [0.9144833, 0.97146666, 0.98165, 0.9877667, 0.99081665, 0.99305, 0.9942833, 0.9956167, 0.99686664, 0.99688333, 0.9971333, 0.99723333, 0.9978167, 0.99848336, 0.99813336, 0.9987, 0.99835, 0.99866664, 0.9989167, 0.99901664]}\n"
     ]
    }
   ],
   "source": [
    "print(history.history)"
   ]
  },
  {
   "cell_type": "code",
   "execution_count": 26,
   "metadata": {},
   "outputs": [
    {
     "data": {
      "text/plain": [
       "<matplotlib.legend.Legend at 0x7f0bb9d27f98>"
      ]
     },
     "execution_count": 26,
     "metadata": {},
     "output_type": "execute_result"
    },
    {
     "data": {
      "image/png": "[encoded data removed]",
      "text/plain": [
       "<Figure size 432x288 with 1 Axes>"
      ]
     },
     "metadata": {
      "needs_background": "light"
     },
     "output_type": "display_data"
    }
   ],
   "source": [
    "#plot the loss and accuracy for both training data and validation data. \n",
    "plt.figure()\n",
    "plt.plot(np.arange(0, 20), history.history[\"val_loss\"], label=\"validation loss\")\n",
    "plt.plot(np.arange(0, 20), history.history[\"val_accuracy\"], label=\"validation accuracy\")\n",
    "plt.plot(np.arange(0, 20), history.history[\"loss\"], label=\"training Loss\")\n",
    "plt.plot(np.arange(0, 20), history.history[\"accuracy\"], label=\"training accuracy\")\n",
    "plt.title(\"the loss and accuracy for both training data and validation data\")\n",
    "plt.xlabel(\"Epoch #\")\n",
    "plt.ylabel(\"Loss/Accuracy\")\n",
    "plt.legend(loc=\"best\")"
   ]
  },
  {
   "cell_type": "code",
   "execution_count": 34,
   "metadata": {},
   "outputs": [
    {
     "name": "stdout",
     "output_type": "stream",
     "text": [
      "[6]\n"
     ]
    },
    {
     "data": {
      "image/png": "[encoded data removed]",
      "text/plain": [
       "<Figure size 432x288 with 1 Axes>"
      ]
     },
     "metadata": {
      "needs_background": "light"
     },
     "output_type": "display_data"
    }
   ],
   "source": [
    "# To plot one of the images in the test data, and then do inferencing to check what is the prediction of the model on that single image in the test data\n",
    "\n",
    "\n",
    "predict_classe = model.predict_classes(test_data[[50],:])\n",
    "print(predict_classe)\n",
    "plt.imshow(test_images[50].reshape((28, 28)), cmap = 'gray')\n",
    "plt.title(\"This is: \" + str(predict_classe[0]))\n",
    "plt.show()\n"
   ]
  },
  {
   "cell_type": "code",
   "execution_count": null,
   "metadata": {},
   "outputs": [],
   "source": []
  }
 ],
 "metadata": {
  "kernelspec": {
   "display_name": "Python 3",
   "language": "python",
   "name": "python3"
  },
  "language_info": {
   "codemirror_mode": {
    "name": "ipython",
    "version": 3
   },
   "file_extension": ".py",
   "mimetype": "text/x-python",
   "name": "python",
   "nbconvert_exporter": "python",
   "pygments_lexer": "ipython3",
   "version": "3.7.3"
  }
 },
 "nbformat": 4,
 "nbformat_minor": 2
}
