{
 "cells": [
  {
   "cell_type": "markdown",
   "metadata": {},
   "source": [
    "# Task 1"
   ]
  },
  {
   "cell_type": "code",
   "execution_count": 16,
   "metadata": {},
   "outputs": [
    {
     "name": "stdout",
     "output_type": "stream",
     "text": [
      "Enter the number of students: 2\n",
      "Enter a weight in lbs  >> 155\n",
      "Enter a weight in lbs  >> 130\n",
      "[155.0, 130.0]\n",
      "[70.45, 59.09]\n"
     ]
    }
   ],
   "source": [
    "num = int(input(\"Enter the number of students: \"))\n",
    "lbweights = []\n",
    "kgweights = []\n",
    "for i in range(num):\n",
    "    x = float(input(\"Enter a weight in lbs  >> \"))\n",
    "    lbweights.append(x)\n",
    "kgweights = [round(x / 2.2, 2) for x in (lbweights)]\n",
    "print(lbweights)\n",
    "print(kgweights)"
   ]
  },
  {
   "cell_type": "markdown",
   "metadata": {},
   "source": [
    "# Task 2"
   ]
  },
  {
   "cell_type": "code",
   "execution_count": 2,
   "metadata": {},
   "outputs": [
    {
     "name": "stdout",
     "output_type": "stream",
     "text": [
      "Please type any sentence: Good Evening\n",
      "The sentence after delete characters : \n",
      "Go vnn\n"
     ]
    }
   ],
   "source": [
    "#ICP 2\n",
    "#Muhammad Mohzary\n",
    "\n",
    "#A program that returns every other char of a given string starting with first\n",
    "\n",
    "# function to delete characters\n",
    "def string_alternative(sentence):\n",
    "    newSentence = slice(0,len(sentence),2)\n",
    "    return(sentence[newSentence])\n",
    "\n",
    "# Ask user to enter any sentence \n",
    "orginalString = str(input(\"Please type any sentence: \"))\n",
    "\n",
    "# Call the  string_alternative function and show the the final result\n",
    "print(\"The sentence after delete characters : \")\n",
    "print(string_alternative(orginalString))"
   ]
  },
  {
   "cell_type": "markdown",
   "metadata": {},
   "source": [
    "# Task 3"
   ]
  },
  {
   "cell_type": "code",
   "execution_count": 3,
   "metadata": {},
   "outputs": [],
   "source": [
    "def counting(filewords):\n",
    "    counts = dict()\n",
    "    words = filewords.split()\n",
    "\n",
    "    for w in words:\n",
    "        if w in counts:\n",
    "            counts[w] += 1\n",
    "        else:\n",
    "            counts[w] = 1\n",
    "#     for i in counts:\n",
    "#         print(i)\n",
    "    return counts\n",
    "\n",
    "f = open(\"test.txt\", \"r\")\n",
    "words = f.read()\n",
    "# words = words.split()\n",
    "# print(words)\n",
    "result = counting(words)\n",
    "file = open(\"test.txt\", \"a\")\n",
    "for r, v in result.items():\n",
    "#     print(r + \" = \"+ str(v))\n",
    "    file.write(\"\\n\" + r + \" = \"+ str(v) + \"\\n\")\n"
   ]
  },
  {
   "cell_type": "code",
   "execution_count": null,
   "metadata": {},
   "outputs": [],
   "source": []
  }
 ],
 "metadata": {
  "kernelspec": {
   "display_name": "Python 3",
   "language": "python",
   "name": "python3"
  },
  "language_info": {
   "codemirror_mode": {
    "name": "ipython",
    "version": 3
   },
   "file_extension": ".py",
   "mimetype": "text/x-python",
   "name": "python",
   "nbconvert_exporter": "python",
   "pygments_lexer": "ipython3",
   "version": "3.7.3"
  }
 },
 "nbformat": 4,
 "nbformat_minor": 2
}
