{
  "nbformat": 4,
  "nbformat_minor": 0,
  "metadata": {
    "colab": {
      "name": "M2ICP3-3.ipynb",
      "provenance": [],
      "machine_shape": "hm",
      "include_colab_link": true
    },
    "kernelspec": {
      "name": "python3",
      "display_name": "Python 3"
    },
    "accelerator": "GPU"
  },
  "cells": [
    {
      "cell_type": "markdown",
      "metadata": {
        "id": "view-in-github",
        "colab_type": "text"
      },
      "source": [
        "<a href=\"https://colab.research.google.com/github/mohzary/python-deep-learning-f19/blob/master/M2ICP3/M2ICP3_3.ipynb\" target=\"_parent\"><img src=\"https://colab.research.google.com/assets/colab-badge.svg\" alt=\"Open In Colab\"/></a>"
      ]
    },
    {
      "cell_type": "code",
      "metadata": {
        "id": "cqfI57VTOUDn",
        "colab_type": "code",
        "colab": {
          "base_uri": "https://localhost:8080/",
          "height": 80
        },
        "outputId": "a7319da7-a885-4886-e4fb-92663d5adf81"
      },
      "source": [
        "from sklearn.datasets import fetch_20newsgroups\n",
        "from keras.models import Sequential\n",
        "from keras import layers\n",
        "from keras.preprocessing.text import Tokenizer\n",
        "import pandas as pd\n",
        "from sklearn import preprocessing\n",
        "from sklearn.model_selection import train_test_split\n",
        "from sklearn.feature_extraction.text import CountVectorizer, TfidfVectorizer\n",
        "from sklearn.feature_extraction.text import TfidfTransformer\n",
        "from sklearn import metrics\n",
        "from sklearn.pipeline import Pipeline\n",
        "from sklearn.naive_bayes import MultinomialNB\n",
        "\n",
        "#To fetch 20newsgroups training dataset\n",
        "twenty_train = fetch_20newsgroups(subset='train', shuffle=True)\n",
        "\n",
        "#To get the data labels and save them in y\n",
        "y = twenty_train.target\n",
        "\n",
        "# To assign the text data into sentences variable\n",
        "sentences = twenty_train.data\n",
        "\n",
        "#To Tokenize the sentences into words we set up the number of words to be 2000\n",
        "tokenizer = Tokenizer(num_words=2000)\n",
        "tokenizer.fit_on_texts(sentences)\n",
        "# To represent the sentences as a numerical data we grt the text matrix of the sentences  \n",
        "sentences = tokenizer.texts_to_matrix(sentences)\n",
        "\n",
        "#To encode and process our data labels\n",
        "le = preprocessing.LabelEncoder()\n",
        "y = le.fit_transform(y)\n"
      ],
      "execution_count": 1,
      "outputs": [
        {
          "output_type": "stream",
          "text": [
            "Using TensorFlow backend.\n"
          ],
          "name": "stderr"
        },
        {
          "output_type": "display_data",
          "data": {
            "text/html": [
              
            ],
            "text/plain": [
              "<IPython.core.display.HTML object>"
            ]
          },
          "metadata": {
            "tags": []
          }
        }
      ]
    },
    {
      "cell_type": "code",
      "metadata": {
        "id": "rHBOq6jpTWIY",
        "colab_type": "code",
        "outputId": "d70cf1b1-40cd-4d7d-89c5-8e715f066550",
        "colab": {
          "base_uri": "https://localhost:8080/",
          "height": 34
        }
      },
      "source": [
        "y.min()"
      ],
      "execution_count": 2,
      "outputs": [
        {
          "output_type": "execute_result",
          "data": {
            "text/plain": [
              "0"
            ]
          },
          "metadata": {
            "tags": []
          },
          "execution_count": 2
        }
      ]
    },
    {
      "cell_type": "code",
      "metadata": {
        "id": "B68Tn-w8OcUq",
        "colab_type": "code",
        "colab": {}
      },
      "source": [
        "# To split our dataset into testing and training\n",
        "X_train, X_test, y_train, y_test = train_test_split(sentences, y, test_size=0.25, random_state=1000)"
      ],
      "execution_count": 0,
      "outputs": []
    },
    {
      "cell_type": "code",
      "metadata": {
        "id": "L9YcWtl5VBDF",
        "colab_type": "code",
        "outputId": "676bbb22-cfad-4a3f-b44a-ea6663d9ec10",
        "colab": {
          "base_uri": "https://localhost:8080/",
          "height": 1000
        }
      },
      "source": [
        "# First we create 3 layers of size 2000 for input layer and 300 for the hidden layer and 20 for the output we set the epochs to 50\n",
        "model = Sequential()\n",
        "model.add(layers.Dense(300,input_dim=2000, activation='relu'))\n",
        "model.add(layers.Dense(20, activation='softmax'))\n",
        "model.compile(loss='sparse_categorical_crossentropy',optimizer='adam',metrics=['acc'])\n",
        "history1=model.fit(X_train,y_train, epochs=50, verbose=True, validation_data=(X_test,y_test), batch_size=256)\n"
      ],
      "execution_count": 13,
      "outputs": [
        {
          "output_type": "stream",
          "text": [
            "Train on 8485 samples, validate on 2829 samples\n",
            "Epoch 1/50\n",
            "8485/8485 [==============================] - 1s 84us/step - loss: 2.1767 - acc: 0.4915 - val_loss: 1.3115 - val_acc: 0.7395\n",
            "Epoch 2/50\n",
            "8485/8485 [==============================] - 0s 32us/step - loss: 0.8763 - acc: 0.8262 - val_loss: 0.8243 - val_acc: 0.8042\n",
            "Epoch 3/50\n",
            "8485/8485 [==============================] - 0s 33us/step - loss: 0.5143 - acc: 0.8951 - val_loss: 0.6802 - val_acc: 0.8243\n",
            "Epoch 4/50\n",
            "8485/8485 [==============================] - 0s 33us/step - loss: 0.3501 - acc: 0.9369 - val_loss: 0.6173 - val_acc: 0.8282\n",
            "Epoch 5/50\n",
            "8485/8485 [==============================] - 0s 33us/step - loss: 0.2597 - acc: 0.9578 - val_loss: 0.5882 - val_acc: 0.8406\n",
            "Epoch 6/50\n",
            "8485/8485 [==============================] - 0s 32us/step - loss: 0.1967 - acc: 0.9725 - val_loss: 0.5718 - val_acc: 0.8353\n",
            "Epoch 7/50\n",
            "8485/8485 [==============================] - 0s 33us/step - loss: 0.1508 - acc: 0.9821 - val_loss: 0.5633 - val_acc: 0.8370\n",
            "Epoch 8/50\n",
            "8485/8485 [==============================] - 0s 32us/step - loss: 0.1166 - acc: 0.9895 - val_loss: 0.5644 - val_acc: 0.8342\n",
            "Epoch 9/50\n",
            "8485/8485 [==============================] - 0s 32us/step - loss: 0.0941 - acc: 0.9922 - val_loss: 0.5716 - val_acc: 0.8317\n",
            "Epoch 10/50\n",
            "8485/8485 [==============================] - 0s 33us/step - loss: 0.0748 - acc: 0.9955 - val_loss: 0.5671 - val_acc: 0.8335\n",
            "Epoch 11/50\n",
            "8485/8485 [==============================] - 0s 33us/step - loss: 0.0605 - acc: 0.9971 - val_loss: 0.5755 - val_acc: 0.8342\n",
            "Epoch 12/50\n",
            "8485/8485 [==============================] - 0s 32us/step - loss: 0.0499 - acc: 0.9981 - val_loss: 0.5833 - val_acc: 0.8303\n",
            "Epoch 13/50\n",
            "8485/8485 [==============================] - 0s 33us/step - loss: 0.0419 - acc: 0.9986 - val_loss: 0.5883 - val_acc: 0.8279\n",
            "Epoch 14/50\n",
            "8485/8485 [==============================] - 0s 32us/step - loss: 0.0357 - acc: 0.9991 - val_loss: 0.5982 - val_acc: 0.8279\n",
            "Epoch 15/50\n",
            "8485/8485 [==============================] - 0s 33us/step - loss: 0.0306 - acc: 0.9991 - val_loss: 0.6091 - val_acc: 0.8271\n",
            "Epoch 16/50\n",
            "8485/8485 [==============================] - 0s 32us/step - loss: 0.0262 - acc: 0.9992 - val_loss: 0.6132 - val_acc: 0.8257\n",
            "Epoch 17/50\n",
            "8485/8485 [==============================] - 0s 32us/step - loss: 0.0230 - acc: 0.9993 - val_loss: 0.6196 - val_acc: 0.8261\n",
            "Epoch 18/50\n",
            "8485/8485 [==============================] - 0s 32us/step - loss: 0.0203 - acc: 0.9993 - val_loss: 0.6266 - val_acc: 0.8240\n",
            "Epoch 19/50\n",
            "8485/8485 [==============================] - 0s 32us/step - loss: 0.0177 - acc: 0.9996 - val_loss: 0.6335 - val_acc: 0.8243\n",
            "Epoch 20/50\n",
            "8485/8485 [==============================] - 0s 32us/step - loss: 0.0159 - acc: 0.9994 - val_loss: 0.6406 - val_acc: 0.8264\n",
            "Epoch 21/50\n",
            "8485/8485 [==============================] - 0s 33us/step - loss: 0.0142 - acc: 0.9995 - val_loss: 0.6509 - val_acc: 0.8233\n",
            "Epoch 22/50\n",
            "8485/8485 [==============================] - 0s 33us/step - loss: 0.0129 - acc: 0.9995 - val_loss: 0.6541 - val_acc: 0.8247\n",
            "Epoch 23/50\n",
            "8485/8485 [==============================] - 0s 33us/step - loss: 0.0117 - acc: 0.9996 - val_loss: 0.6565 - val_acc: 0.8243\n",
            "Epoch 24/50\n",
            "8485/8485 [==============================] - 0s 32us/step - loss: 0.0106 - acc: 0.9996 - val_loss: 0.6677 - val_acc: 0.8236\n",
            "Epoch 25/50\n",
            "8485/8485 [==============================] - 0s 33us/step - loss: 0.0096 - acc: 0.9996 - val_loss: 0.6726 - val_acc: 0.8243\n",
            "Epoch 26/50\n",
            "8485/8485 [==============================] - 0s 33us/step - loss: 0.0089 - acc: 0.9996 - val_loss: 0.6780 - val_acc: 0.8226\n",
            "Epoch 27/50\n",
            "8485/8485 [==============================] - 0s 32us/step - loss: 0.0081 - acc: 0.9998 - val_loss: 0.6840 - val_acc: 0.8240\n",
            "Epoch 28/50\n",
            "8485/8485 [==============================] - 0s 33us/step - loss: 0.0075 - acc: 0.9996 - val_loss: 0.6898 - val_acc: 0.8240\n",
            "Epoch 29/50\n",
            "8485/8485 [==============================] - 0s 33us/step - loss: 0.0070 - acc: 0.9996 - val_loss: 0.6950 - val_acc: 0.8240\n",
            "Epoch 30/50\n",
            "8485/8485 [==============================] - 0s 33us/step - loss: 0.0065 - acc: 0.9998 - val_loss: 0.7009 - val_acc: 0.8218\n",
            "Epoch 31/50\n",
            "8485/8485 [==============================] - 0s 32us/step - loss: 0.0061 - acc: 0.9995 - val_loss: 0.7039 - val_acc: 0.8236\n",
            "Epoch 32/50\n",
            "8485/8485 [==============================] - 0s 33us/step - loss: 0.0057 - acc: 0.9998 - val_loss: 0.7125 - val_acc: 0.8222\n",
            "Epoch 33/50\n",
            "8485/8485 [==============================] - 0s 33us/step - loss: 0.0053 - acc: 0.9995 - val_loss: 0.7142 - val_acc: 0.8204\n",
            "Epoch 34/50\n",
            "8485/8485 [==============================] - 0s 32us/step - loss: 0.0050 - acc: 0.9998 - val_loss: 0.7198 - val_acc: 0.8211\n",
            "Epoch 35/50\n",
            "8485/8485 [==============================] - 0s 32us/step - loss: 0.0048 - acc: 0.9998 - val_loss: 0.7248 - val_acc: 0.8222\n",
            "Epoch 36/50\n",
            "8485/8485 [==============================] - 0s 33us/step - loss: 0.0045 - acc: 0.9998 - val_loss: 0.7309 - val_acc: 0.8204\n",
            "Epoch 37/50\n",
            "8485/8485 [==============================] - 0s 33us/step - loss: 0.0042 - acc: 0.9999 - val_loss: 0.7317 - val_acc: 0.8197\n",
            "Epoch 38/50\n",
            "8485/8485 [==============================] - 0s 32us/step - loss: 0.0040 - acc: 0.9996 - val_loss: 0.7363 - val_acc: 0.8194\n",
            "Epoch 39/50\n",
            "8485/8485 [==============================] - 0s 33us/step - loss: 0.0038 - acc: 0.9996 - val_loss: 0.7430 - val_acc: 0.8208\n",
            "Epoch 40/50\n",
            "8485/8485 [==============================] - 0s 33us/step - loss: 0.0036 - acc: 0.9999 - val_loss: 0.7470 - val_acc: 0.8208\n",
            "Epoch 41/50\n",
            "8485/8485 [==============================] - 0s 32us/step - loss: 0.0034 - acc: 0.9999 - val_loss: 0.7490 - val_acc: 0.8218\n",
            "Epoch 42/50\n",
            "8485/8485 [==============================] - 0s 32us/step - loss: 0.0034 - acc: 0.9996 - val_loss: 0.7538 - val_acc: 0.8208\n",
            "Epoch 43/50\n",
            "8485/8485 [==============================] - 0s 33us/step - loss: 0.0038 - acc: 0.9996 - val_loss: 0.7586 - val_acc: 0.8194\n",
            "Epoch 44/50\n",
            "8485/8485 [==============================] - 0s 33us/step - loss: 0.0031 - acc: 0.9998 - val_loss: 0.7641 - val_acc: 0.8197\n",
            "Epoch 45/50\n",
            "8485/8485 [==============================] - 0s 32us/step - loss: 0.0028 - acc: 0.9998 - val_loss: 0.7654 - val_acc: 0.8215\n",
            "Epoch 46/50\n",
            "8485/8485 [==============================] - 0s 32us/step - loss: 0.0027 - acc: 0.9998 - val_loss: 0.7703 - val_acc: 0.8201\n",
            "Epoch 47/50\n",
            "8485/8485 [==============================] - 0s 33us/step - loss: 0.0026 - acc: 0.9999 - val_loss: 0.7762 - val_acc: 0.8180\n",
            "Epoch 48/50\n",
            "8485/8485 [==============================] - 0s 33us/step - loss: 0.0025 - acc: 0.9998 - val_loss: 0.7772 - val_acc: 0.8204\n",
            "Epoch 49/50\n",
            "8485/8485 [==============================] - 0s 33us/step - loss: 0.0024 - acc: 0.9999 - val_loss: 0.7792 - val_acc: 0.8194\n",
            "Epoch 50/50\n",
            "8485/8485 [==============================] - 0s 32us/step - loss: 0.0022 - acc: 0.9998 - val_loss: 0.7835 - val_acc: 0.8194\n"
          ],
          "name": "stdout"
        }
      ]
    },
    {
      "cell_type": "code",
      "metadata": {
        "id": "gEI088Ycc37g",
        "colab_type": "code",
        "colab": {
          "base_uri": "https://localhost:8080/",
          "height": 51
        },
        "outputId": "a3d0ffdc-2cca-45be-e147-df3eb87438ce"
      },
      "source": [
        "# To get the Evaluation result on Test Data\n",
        "[test_loss, test_acc] = model.evaluate(X_test,y_test)\n",
        "print(\"Evaluation result on Test Data : Loss = {}, accuracy = {}\".format(test_loss, test_acc))"
      ],
      "execution_count": 14,
      "outputs": [
        {
          "output_type": "stream",
          "text": [
            "2829/2829 [==============================] - 0s 60us/step\n",
            "Evaluation result on Test Data : Loss = 0.783524376252971, accuracy = 0.8193708024879528\n"
          ],
          "name": "stdout"
        }
      ]
    },
    {
      "cell_type": "code",
      "metadata": {
        "id": "CNvaTdNUdTEF",
        "colab_type": "code",
        "colab": {
          "base_uri": "https://localhost:8080/",
          "height": 312
        },
        "outputId": "61e4786d-405d-4bbd-f10a-73612b8ce58c"
      },
      "source": [
        "\n",
        "import matplotlib.pyplot as plt\n",
        "import numpy as np\n",
        "\n",
        "\n",
        "#To plot the loss and accuracy for both training data and validation data. \n",
        "plt.figure()\n",
        "plt.plot(np.arange(0, 50), history1.history[\"val_loss\"], label=\"validation loss\")\n",
        "plt.plot(np.arange(0, 50), history1.history[\"val_acc\"], label=\"validation accuracy\")\n",
        "plt.plot(np.arange(0, 50), history1.history[\"loss\"], label=\"training Loss\")\n",
        "plt.plot(np.arange(0, 50), history1.history[\"acc\"], label=\"training accuracy\")\n",
        "plt.title(\"the loss and accuracy for both training data and validation data\")\n",
        "plt.xlabel(\"Epoch #\")\n",
        "plt.ylabel(\"Loss/Accuracy\")\n",
        "plt.legend(loc=\"best\")"
      ],
      "execution_count": 15,
      "outputs": [
        {
          "output_type": "execute_result",
          "data": {
            "text/plain": [
              "<matplotlib.legend.Legend at 0x7f64e28b4a20>"
            ]
          },
          "metadata": {
            "tags": []
          },
          "execution_count": 15
        },
        {
          "output_type": "display_data",
          "data": {
            "image/png": "[encoded data removed]",
            "text/plain": [
              "<Figure size 432x288 with 1 Axes>"
            ]
          },
          "metadata": {
            "tags": []
          }
        }
      ]
    },
    {
      "cell_type": "code",
      "metadata": {
        "id": "PHs-gUL8eTXQ",
        "colab_type": "code",
        "colab": {
          "base_uri": "https://localhost:8080/",
          "height": 748
        },
        "outputId": "8b3e07fc-86a3-47fd-eb2a-97dd8029c994"
      },
      "source": [
        "#We add embedding layer with flatten to check if the accuracy improved\n",
        "from keras.layers import Embedding, Flatten\n",
        "model2 = Sequential()\n",
        "model2.add(Embedding(2000, 50, input_length=2000))\n",
        "model2.add(Flatten())\n",
        "model2.add(layers.Dense(300,input_dim=2000, activation='relu'))\n",
        "model2.add(layers.Dense(20,activation='softmax'))\n",
        "\n",
        "model2.compile(loss='sparse_categorical_crossentropy',optimizer='adam',metrics=['acc'])\n",
        "\n",
        "history2=model2.fit(X_train,y_train, epochs=20, verbose=True, validation_data=(X_test,y_test), batch_size=256)\n",
        "\n",
        "[test_loss, test_acc] = model2.evaluate(X_test, y_test)\n",
        "print(\"Evaluation result on Test Data : Loss = {}, accuracy = {}\".format(test_loss, test_acc))"
      ],
      "execution_count": 17,
      "outputs": [
        {
          "output_type": "stream",
          "text": [
            "Train on 8485 samples, validate on 2829 samples\n",
            "Epoch 1/20\n",
            "8485/8485 [==============================] - 4s 512us/step - loss: 3.3578 - acc: 0.0937 - val_loss: 2.7700 - val_acc: 0.2517\n",
            "Epoch 2/20\n",
            "8485/8485 [==============================] - 3s 388us/step - loss: 2.4164 - acc: 0.4136 - val_loss: 1.9770 - val_acc: 0.5292\n",
            "Epoch 3/20\n",
            "8485/8485 [==============================] - 3s 387us/step - loss: 1.3973 - acc: 0.6780 - val_loss: 1.1500 - val_acc: 0.6882\n",
            "Epoch 4/20\n",
            "8485/8485 [==============================] - 3s 387us/step - loss: 0.7425 - acc: 0.8180 - val_loss: 0.8581 - val_acc: 0.7504\n",
            "Epoch 5/20\n",
            "8485/8485 [==============================] - 3s 390us/step - loss: 0.4730 - acc: 0.8798 - val_loss: 0.7152 - val_acc: 0.7869\n",
            "Epoch 6/20\n",
            "8485/8485 [==============================] - 3s 385us/step - loss: 0.3258 - acc: 0.9173 - val_loss: 0.6795 - val_acc: 0.7925\n",
            "Epoch 7/20\n",
            "8485/8485 [==============================] - 3s 387us/step - loss: 0.2318 - acc: 0.9480 - val_loss: 0.6783 - val_acc: 0.8077\n",
            "Epoch 8/20\n",
            "8485/8485 [==============================] - 3s 392us/step - loss: 0.1649 - acc: 0.9672 - val_loss: 0.6640 - val_acc: 0.8084\n",
            "Epoch 9/20\n",
            "8485/8485 [==============================] - 3s 385us/step - loss: 0.1204 - acc: 0.9802 - val_loss: 0.6792 - val_acc: 0.8066\n",
            "Epoch 10/20\n",
            "8485/8485 [==============================] - 3s 389us/step - loss: 0.0901 - acc: 0.9863 - val_loss: 0.6861 - val_acc: 0.8084\n",
            "Epoch 11/20\n",
            "8485/8485 [==============================] - 3s 389us/step - loss: 0.0671 - acc: 0.9916 - val_loss: 0.7231 - val_acc: 0.8042\n",
            "Epoch 12/20\n",
            "8485/8485 [==============================] - 3s 384us/step - loss: 0.0535 - acc: 0.9932 - val_loss: 0.7211 - val_acc: 0.8105\n",
            "Epoch 13/20\n",
            "8485/8485 [==============================] - 3s 390us/step - loss: 0.0342 - acc: 0.9976 - val_loss: 0.7397 - val_acc: 0.8077\n",
            "Epoch 14/20\n",
            "8485/8485 [==============================] - 3s 383us/step - loss: 0.0268 - acc: 0.9985 - val_loss: 0.7619 - val_acc: 0.8042\n",
            "Epoch 15/20\n",
            "8485/8485 [==============================] - 3s 391us/step - loss: 0.0209 - acc: 0.9989 - val_loss: 0.7713 - val_acc: 0.8031\n",
            "Epoch 16/20\n",
            "8485/8485 [==============================] - 3s 387us/step - loss: 0.0169 - acc: 0.9994 - val_loss: 0.7881 - val_acc: 0.8052\n",
            "Epoch 17/20\n",
            "8485/8485 [==============================] - 3s 384us/step - loss: 0.0150 - acc: 0.9993 - val_loss: 0.8116 - val_acc: 0.8049\n",
            "Epoch 18/20\n",
            "8485/8485 [==============================] - 3s 386us/step - loss: 0.0122 - acc: 0.9993 - val_loss: 0.8157 - val_acc: 0.8070\n",
            "Epoch 19/20\n",
            "8485/8485 [==============================] - 3s 390us/step - loss: 0.0102 - acc: 0.9994 - val_loss: 0.8375 - val_acc: 0.8024\n",
            "Epoch 20/20\n",
            "8485/8485 [==============================] - 3s 391us/step - loss: 0.0091 - acc: 0.9995 - val_loss: 0.8390 - val_acc: 0.8074\n",
            "2829/2829 [==============================] - 0s 144us/step\n",
            "Evaluation result on Test Data : Loss = 0.8389951205160897, accuracy = 0.8073524214556462\n"
          ],
          "name": "stdout"
        }
      ]
    }
  ]
}
