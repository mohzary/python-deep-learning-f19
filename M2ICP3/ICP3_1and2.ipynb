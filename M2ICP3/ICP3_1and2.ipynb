{
  "nbformat": 4,
  "nbformat_minor": 0,
  "metadata": {
    "kernelspec": {
      "name": "python3",
      "display_name": "Python 3"
    },
    "language_info": {
      "codemirror_mode": {
        "name": "ipython",
        "version": 3
      },
      "file_extension": ".py",
      "mimetype": "text/x-python",
      "name": "python",
      "nbconvert_exporter": "python",
      "pygments_lexer": "ipython3",
      "version": "3.7.3"
    },
    "colab": {
      "name": "ICP3-1and2.ipynb",
      "provenance": [],
      "collapsed_sections": []
    },
    "accelerator": "GPU"
  },
  "cells": [
    {
      "cell_type": "markdown",
      "metadata": {
        "id": "PAL7Mf0Uf51J",
        "colab_type": "text"
      },
      "source": [
        "In class programming:\n",
        "1. In the code provided there are three mistake which stop the code to get run successfully;\n",
        "find those mistakes and explain why they need to be corrected to be able to get the code run\n",
        "2. Add embedding layer to the model, did you experience any improvement?"
      ]
    },
    {
      "cell_type": "code",
      "metadata": {
        "id": "Dg2duvRyf1qD",
        "colab_type": "code",
        "colab": {}
      },
      "source": [
        "from keras.models import Sequential\n",
        "from keras import layers\n",
        "from keras.preprocessing.text import Tokenizer\n",
        "import pandas as pd\n",
        "from sklearn import preprocessing\n",
        "from sklearn.model_selection import train_test_split\n",
        "import io\n",
        "from google.colab import files"
      ],
      "execution_count": 0,
      "outputs": []
    },
    {
      "cell_type": "code",
      "metadata": {
        "id": "lf6DSAflpOWu",
        "colab_type": "code",
        "outputId": "05e340ad-97b0-492c-e64a-a5403985a1a7",
        "colab": {
          "resources": {
            "http://localhost:8080/nbextensions/google.colab/files.js": {
              "data": "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",
              "ok": true,
              "headers": [
                [
                  "content-type",
                  "application/javascript"
                ]
              ],
              "status": 200,
              "status_text": ""
            }
          },
          "base_uri": "https://localhost:8080/",
          "height": 74
        }
      },
      "source": [
        "dataFile = files.upload()"
      ],
      "execution_count": 0,
      "outputs": [
        {
          "output_type": "display_data",
          "data": {
            "text/html": [
              "\n",
              "     <input type=\"file\" id=\"files-24f76ba5-25f8-42e7-9500-1a958aeb6da8\" name=\"files[]\" multiple disabled />\n",
              "     <output id=\"result-24f76ba5-25f8-42e7-9500-1a958aeb6da8\">\n",
              "      Upload widget is only available when the cell has been executed in the\n",
              "      current browser session. Please rerun this cell to enable.\n",
              "      </output>\n",
              "      <script src=\"/nbextensions/google.colab/files.js\"></script> "
            ],
            "text/plain": [
              "<IPython.core.display.HTML object>"
            ]
          },
          "metadata": {
            "tags": []
          }
        },
        {
          "output_type": "stream",
          "text": [
            "Saving imdb_master.csv to imdb_master.csv\n"
          ],
          "name": "stdout"
        }
      ]
    },
    {
      "cell_type": "code",
      "metadata": {
        "id": "QF40NUCPgzby",
        "colab_type": "code",
        "colab": {}
      },
      "source": [
        "df =pd.read_csv(io.StringIO(dataFile['imdb_master.csv'].decode('latin-1')))"
      ],
      "execution_count": 0,
      "outputs": []
    },
    {
      "cell_type": "code",
      "metadata": {
        "id": "smDbCS3Jf1qI",
        "colab_type": "code",
        "outputId": "e8198ba5-18f7-4758-ba80-4241da242918",
        "colab": {
          "base_uri": "https://localhost:8080/",
          "height": 204
        }
      },
      "source": [
        "\n",
        "df.head(5)"
      ],
      "execution_count": 72,
      "outputs": [
        {
          "output_type": "execute_result",
          "data": {
            "text/html": [
              "<div>\n",
              "<style scoped>\n",
              "    .dataframe tbody tr th:only-of-type {\n",
              "        vertical-align: middle;\n",
              "    }\n",
              "\n",
              "    .dataframe tbody tr th {\n",
              "        vertical-align: top;\n",
              "    }\n",
              "\n",
              "    .dataframe thead th {\n",
              "        text-align: right;\n",
              "    }\n",
              "</style>\n",
              "<table border=\"1\" class=\"dataframe\">\n",
              "  <thead>\n",
              "    <tr style=\"text-align: right;\">\n",
              "      <th></th>\n",
              "      <th>Unnamed: 0</th>\n",
              "      <th>type</th>\n",
              "      <th>review</th>\n",
              "      <th>label</th>\n",
              "      <th>file</th>\n",
              "    </tr>\n",
              "  </thead>\n",
              "  <tbody>\n",
              "    <tr>\n",
              "      <th>0</th>\n",
              "      <td>0</td>\n",
              "      <td>test</td>\n",
              "      <td>Once again Mr. Costner has dragged out a movie...</td>\n",
              "      <td>neg</td>\n",
              "      <td>0_2.txt</td>\n",
              "    </tr>\n",
              "    <tr>\n",
              "      <th>1</th>\n",
              "      <td>1</td>\n",
              "      <td>test</td>\n",
              "      <td>This is an example of why the majority of acti...</td>\n",
              "      <td>neg</td>\n",
              "      <td>10000_4.txt</td>\n",
              "    </tr>\n",
              "    <tr>\n",
              "      <th>2</th>\n",
              "      <td>2</td>\n",
              "      <td>test</td>\n",
              "      <td>First of all I hate those moronic rappers, who...</td>\n",
              "      <td>neg</td>\n",
              "      <td>10001_1.txt</td>\n",
              "    </tr>\n",
              "    <tr>\n",
              "      <th>3</th>\n",
              "      <td>3</td>\n",
              "      <td>test</td>\n",
              "      <td>Not even the Beatles could write songs everyon...</td>\n",
              "      <td>neg</td>\n",
              "      <td>10002_3.txt</td>\n",
              "    </tr>\n",
              "    <tr>\n",
              "      <th>4</th>\n",
              "      <td>4</td>\n",
              "      <td>test</td>\n",
              "      <td>Brass pictures (movies is not a fitting word f...</td>\n",
              "      <td>neg</td>\n",
              "      <td>10003_3.txt</td>\n",
              "    </tr>\n",
              "  </tbody>\n",
              "</table>\n",
              "</div>"
            ],
            "text/plain": [
              "   Unnamed: 0  type  ... label         file\n",
              "0           0  test  ...   neg      0_2.txt\n",
              "1           1  test  ...   neg  10000_4.txt\n",
              "2           2  test  ...   neg  10001_1.txt\n",
              "3           3  test  ...   neg  10002_3.txt\n",
              "4           4  test  ...   neg  10003_3.txt\n",
              "\n",
              "[5 rows x 5 columns]"
            ]
          },
          "metadata": {
            "tags": []
          },
          "execution_count": 72
        }
      ]
    },
    {
      "cell_type": "code",
      "metadata": {
        "id": "y6ia5ARUyRtJ",
        "colab_type": "code",
        "outputId": "ac698232-7e55-4bd7-fda9-07322a7c9cc4",
        "colab": {
          "base_uri": "https://localhost:8080/",
          "height": 85
        }
      },
      "source": [
        "df.label.value_counts()"
      ],
      "execution_count": 73,
      "outputs": [
        {
          "output_type": "execute_result",
          "data": {
            "text/plain": [
              "unsup    50000\n",
              "neg      25000\n",
              "pos      25000\n",
              "Name: label, dtype: int64"
            ]
          },
          "metadata": {
            "tags": []
          },
          "execution_count": 73
        }
      ]
    },
    {
      "cell_type": "code",
      "metadata": {
        "id": "QHx9tg62_WF_",
        "colab_type": "code",
        "colab": {}
      },
      "source": [
        "df = df.drop(df[df.label == 'unsup'].index)"
      ],
      "execution_count": 0,
      "outputs": []
    },
    {
      "cell_type": "code",
      "metadata": {
        "id": "_x0FBFgSBJj9",
        "colab_type": "code",
        "outputId": "c62f127e-bea5-4bbb-d6d7-9c7978e9f3b0",
        "colab": {
          "base_uri": "https://localhost:8080/",
          "height": 68
        }
      },
      "source": [
        "df.label.value_counts()"
      ],
      "execution_count": 75,
      "outputs": [
        {
          "output_type": "execute_result",
          "data": {
            "text/plain": [
              "neg    25000\n",
              "pos    25000\n",
              "Name: label, dtype: int64"
            ]
          },
          "metadata": {
            "tags": []
          },
          "execution_count": 75
        }
      ]
    },
    {
      "cell_type": "code",
      "metadata": {
        "id": "IRbI1TpPf1qL",
        "colab_type": "code",
        "colab": {}
      },
      "source": [
        "sentences = df['review'].values\n",
        "y = df['label'].values"
      ],
      "execution_count": 0,
      "outputs": []
    },
    {
      "cell_type": "code",
      "metadata": {
        "id": "rVHF-1RTf1qP",
        "colab_type": "code",
        "colab": {}
      },
      "source": [
        "#tokenizing data\n",
        "tokenizer = Tokenizer(num_words=2000)\n",
        "tokenizer.fit_on_texts(sentences)"
      ],
      "execution_count": 0,
      "outputs": []
    },
    {
      "cell_type": "code",
      "metadata": {
        "id": "2rwWMiOLf1qT",
        "colab_type": "code",
        "colab": {}
      },
      "source": [
        "#getting the vocabulary of data\n",
        "sentences = tokenizer.texts_to_matrix(sentences)"
      ],
      "execution_count": 0,
      "outputs": []
    },
    {
      "cell_type": "code",
      "metadata": {
        "id": "ftcX4KLgf1qW",
        "colab_type": "code",
        "outputId": "e7cdfc14-4458-480a-e3b8-b45e1633d887",
        "colab": {
          "base_uri": "https://localhost:8080/",
          "height": 34
        }
      },
      "source": [
        "len(sentences[0])"
      ],
      "execution_count": 79,
      "outputs": [
        {
          "output_type": "execute_result",
          "data": {
            "text/plain": [
              "2000"
            ]
          },
          "metadata": {
            "tags": []
          },
          "execution_count": 79
        }
      ]
    },
    {
      "cell_type": "code",
      "metadata": {
        "id": "7ih63wow498X",
        "colab_type": "code",
        "outputId": "777e7a11-cc1d-41af-f430-a3735ffc0d7d",
        "colab": {
          "base_uri": "https://localhost:8080/",
          "height": 34
        }
      },
      "source": [
        "len(sentences[0])"
      ],
      "execution_count": 81,
      "outputs": [
        {
          "output_type": "execute_result",
          "data": {
            "text/plain": [
              "2000"
            ]
          },
          "metadata": {
            "tags": []
          },
          "execution_count": 81
        }
      ]
    },
    {
      "cell_type": "code",
      "metadata": {
        "id": "H3D1efUff1qd",
        "colab_type": "code",
        "colab": {}
      },
      "source": [
        "#convert data to float and scale values between 0 and 1\n",
        "\n",
        "le = preprocessing.LabelEncoder()\n",
        "y = le.fit_transform(y)\n",
        "X_train, X_test, y_train, y_test = train_test_split(sentences, y, test_size=0.25, random_state=1000)"
      ],
      "execution_count": 0,
      "outputs": []
    },
    {
      "cell_type": "code",
      "metadata": {
        "id": "hUbcJgnJf1qj",
        "colab_type": "code",
        "outputId": "3df5f367-fdbd-44aa-9cde-d66ed86e7477",
        "colab": {
          "base_uri": "https://localhost:8080/",
          "height": 714
        }
      },
      "source": [
        "model = Sequential()\n",
        "model.add(layers.Dense(300,input_dim=2000, activation='relu'))\n",
        "model.add(layers.Dense(3, activation='softmax'))\n",
        "model.compile(loss='sparse_categorical_crossentropy',optimizer='adam',metrics=['acc'])\n",
        "history=model.fit(X_train,y_train, epochs=20, verbose=True, validation_data=(X_test,y_test), batch_size=256)\n"
      ],
      "execution_count": 83,
      "outputs": [
        {
          "output_type": "stream",
          "text": [
            "Train on 37500 samples, validate on 12500 samples\n",
            "Epoch 1/20\n",
            "37500/37500 [==============================] - 2s 42us/step - loss: 0.3526 - acc: 0.8494 - val_loss: 0.3061 - val_acc: 0.8732\n",
            "Epoch 2/20\n",
            "37500/37500 [==============================] - 1s 33us/step - loss: 0.2654 - acc: 0.8911 - val_loss: 0.2927 - val_acc: 0.8783\n",
            "Epoch 3/20\n",
            "37500/37500 [==============================] - 1s 34us/step - loss: 0.2218 - acc: 0.9112 - val_loss: 0.2973 - val_acc: 0.8766\n",
            "Epoch 4/20\n",
            "37500/37500 [==============================] - 1s 33us/step - loss: 0.1541 - acc: 0.9468 - val_loss: 0.3032 - val_acc: 0.8761\n",
            "Epoch 5/20\n",
            "37500/37500 [==============================] - 1s 34us/step - loss: 0.0871 - acc: 0.9781 - val_loss: 0.3309 - val_acc: 0.8752\n",
            "Epoch 6/20\n",
            "37500/37500 [==============================] - 1s 33us/step - loss: 0.0399 - acc: 0.9952 - val_loss: 0.3571 - val_acc: 0.8726\n",
            "Epoch 7/20\n",
            "37500/37500 [==============================] - 1s 34us/step - loss: 0.0179 - acc: 0.9990 - val_loss: 0.3792 - val_acc: 0.8735\n",
            "Epoch 8/20\n",
            "37500/37500 [==============================] - 1s 33us/step - loss: 0.0092 - acc: 0.9998 - val_loss: 0.4055 - val_acc: 0.8754\n",
            "Epoch 9/20\n",
            "37500/37500 [==============================] - 1s 34us/step - loss: 0.0055 - acc: 0.9999 - val_loss: 0.4279 - val_acc: 0.8762\n",
            "Epoch 10/20\n",
            "37500/37500 [==============================] - 1s 33us/step - loss: 0.0037 - acc: 1.0000 - val_loss: 0.4447 - val_acc: 0.8766\n",
            "Epoch 11/20\n",
            "37500/37500 [==============================] - 1s 34us/step - loss: 0.0026 - acc: 1.0000 - val_loss: 0.4598 - val_acc: 0.8769\n",
            "Epoch 12/20\n",
            "37500/37500 [==============================] - 1s 33us/step - loss: 0.0020 - acc: 1.0000 - val_loss: 0.4730 - val_acc: 0.8767\n",
            "Epoch 13/20\n",
            "37500/37500 [==============================] - 1s 33us/step - loss: 0.0015 - acc: 1.0000 - val_loss: 0.4855 - val_acc: 0.8770\n",
            "Epoch 14/20\n",
            "37500/37500 [==============================] - 1s 33us/step - loss: 0.0012 - acc: 1.0000 - val_loss: 0.4954 - val_acc: 0.8770\n",
            "Epoch 15/20\n",
            "37500/37500 [==============================] - 1s 33us/step - loss: 9.9012e-04 - acc: 1.0000 - val_loss: 0.5066 - val_acc: 0.8769\n",
            "Epoch 16/20\n",
            "37500/37500 [==============================] - 1s 33us/step - loss: 8.1391e-04 - acc: 1.0000 - val_loss: 0.5149 - val_acc: 0.8769\n",
            "Epoch 17/20\n",
            "37500/37500 [==============================] - 1s 34us/step - loss: 6.7718e-04 - acc: 1.0000 - val_loss: 0.5245 - val_acc: 0.8769\n",
            "Epoch 18/20\n",
            "37500/37500 [==============================] - 1s 33us/step - loss: 5.6966e-04 - acc: 1.0000 - val_loss: 0.5336 - val_acc: 0.8770\n",
            "Epoch 19/20\n",
            "37500/37500 [==============================] - 1s 33us/step - loss: 4.8233e-04 - acc: 1.0000 - val_loss: 0.5414 - val_acc: 0.8768\n",
            "Epoch 20/20\n",
            "37500/37500 [==============================] - 1s 34us/step - loss: 4.1076e-04 - acc: 1.0000 - val_loss: 0.5486 - val_acc: 0.8770\n"
          ],
          "name": "stdout"
        }
      ]
    },
    {
      "cell_type": "code",
      "metadata": {
        "id": "ZVj_jigp9ict",
        "colab_type": "code",
        "outputId": "8f2bfc25-f15a-4276-8324-cc7d8bf705af",
        "colab": {
          "base_uri": "https://localhost:8080/",
          "height": 51
        }
      },
      "source": [
        "[test_loss, test_acc] = model.evaluate(X_test,y_test)\n",
        "print(\"Evaluation result on Test Data : Loss = {}, accuracy = {}\".format(test_loss, test_acc))"
      ],
      "execution_count": 84,
      "outputs": [
        {
          "output_type": "stream",
          "text": [
            "12500/12500 [==============================] - 1s 62us/step\n",
            "Evaluation result on Test Data : Loss = 0.5485619051337242, accuracy = 0.876960000038147\n"
          ],
          "name": "stdout"
        }
      ]
    },
    {
      "cell_type": "code",
      "metadata": {
        "id": "pnnnQ6JkDaoJ",
        "colab_type": "code",
        "outputId": "988d0445-b734-46f2-8a67-97b66e42232b",
        "colab": {
          "base_uri": "https://localhost:8080/",
          "height": 312
        }
      },
      "source": [
        "import matplotlib.pyplot as plt\n",
        "\n",
        "#plot the loss and accuracy for both training data and validation data. \n",
        "plt.figure()\n",
        "plt.plot(np.arange(0, 20), history.history[\"val_loss\"], label=\"validation loss\")\n",
        "plt.plot(np.arange(0, 20), history.history[\"val_acc\"], label=\"validation accuracy\")\n",
        "plt.plot(np.arange(0, 20), history.history[\"loss\"], label=\"training Loss\")\n",
        "plt.plot(np.arange(0, 20), history.history[\"acc\"], label=\"training accuracy\")\n",
        "plt.title(\"the loss and accuracy for both training data and validation data\")\n",
        "plt.xlabel(\"Epoch #\")\n",
        "plt.ylabel(\"Loss/Accuracy\")\n",
        "plt.legend(loc=\"best\")"
      ],
      "execution_count": 88,
      "outputs": [
        {
          "output_type": "execute_result",
          "data": {
            "text/plain": [
              "<matplotlib.legend.Legend at 0x7f0fc6205978>"
            ]
          },
          "metadata": {
            "tags": []
          },
          "execution_count": 88
        },
        {
          "output_type": "display_data",
          "data": {
            "image/png": "[encoded data removed]",
            "text/plain": [
              "<Figure size 432x288 with 1 Axes>"
            ]
          },
          "metadata": {
            "tags": []
          }
        }
      ]
    },
    {
      "cell_type": "code",
      "metadata": {
        "id": "lGvpXAUHCC1f",
        "colab_type": "code",
        "colab": {
          "base_uri": "https://localhost:8080/",
          "height": 748
        },
        "outputId": "951908c1-0405-4819-e58c-f9855852cbdd"
      },
      "source": [
        "from keras.layers import Embedding, Flatten\n",
        "#print(input_dim)\n",
        "model2 = Sequential()\n",
        "model2.add(Embedding(2000, 50, input_length=2000))\n",
        "model2.add(Flatten())\n",
        "model2.add(layers.Dense(300,input_dim=2000, activation='relu'))\n",
        "model2.add(layers.Dense(3,activation='softmax'))\n",
        "\n",
        "model2.compile(loss='sparse_categorical_crossentropy',optimizer='adam',metrics=['acc'])\n",
        "\n",
        "history2=model2.fit(X_train,y_train, epochs=20, verbose=True, validation_data=(X_test,y_test), batch_size=256)\n",
        "\n",
        "[test_loss, test_acc] = model2.evaluate(X_test, y_test)\n",
        "print(\"Evaluation result on Test Data : Loss = {}, accuracy = {}\".format(test_loss, test_acc))\n"
      ],
      "execution_count": 90,
      "outputs": [
        {
          "output_type": "stream",
          "text": [
            "Train on 37500 samples, validate on 12500 samples\n",
            "Epoch 1/20\n",
            "37500/37500 [==============================] - 16s 430us/step - loss: 0.5290 - acc: 0.8021 - val_loss: 0.2993 - val_acc: 0.8781\n",
            "Epoch 2/20\n",
            "37500/37500 [==============================] - 15s 413us/step - loss: 0.2844 - acc: 0.8822 - val_loss: 0.2910 - val_acc: 0.8819\n",
            "Epoch 3/20\n",
            "37500/37500 [==============================] - 15s 406us/step - loss: 0.2701 - acc: 0.8889 - val_loss: 0.2881 - val_acc: 0.8759\n",
            "Epoch 4/20\n",
            "37500/37500 [==============================] - 15s 406us/step - loss: 0.2579 - acc: 0.8936 - val_loss: 0.2897 - val_acc: 0.8791\n",
            "Epoch 5/20\n",
            "37500/37500 [==============================] - 15s 410us/step - loss: 0.2476 - acc: 0.8982 - val_loss: 0.2886 - val_acc: 0.8789\n",
            "Epoch 6/20\n",
            "37500/37500 [==============================] - 16s 416us/step - loss: 0.2355 - acc: 0.9029 - val_loss: 0.2913 - val_acc: 0.8767\n",
            "Epoch 7/20\n",
            "37500/37500 [==============================] - 16s 414us/step - loss: 0.2201 - acc: 0.9090 - val_loss: 0.2998 - val_acc: 0.8730\n",
            "Epoch 8/20\n",
            "37500/37500 [==============================] - 16s 415us/step - loss: 0.1966 - acc: 0.9212 - val_loss: 0.3211 - val_acc: 0.8723\n",
            "Epoch 9/20\n",
            "37500/37500 [==============================] - 15s 408us/step - loss: 0.1657 - acc: 0.9371 - val_loss: 0.3520 - val_acc: 0.8712\n",
            "Epoch 10/20\n",
            "37500/37500 [==============================] - 15s 409us/step - loss: 0.1296 - acc: 0.9538 - val_loss: 0.3913 - val_acc: 0.8630\n",
            "Epoch 11/20\n",
            "37500/37500 [==============================] - 15s 410us/step - loss: 0.0892 - acc: 0.9701 - val_loss: 0.4639 - val_acc: 0.8654\n",
            "Epoch 12/20\n",
            "37500/37500 [==============================] - 16s 414us/step - loss: 0.0474 - acc: 0.9883 - val_loss: 0.5383 - val_acc: 0.8586\n",
            "Epoch 13/20\n",
            "37500/37500 [==============================] - 16s 415us/step - loss: 0.0198 - acc: 0.9967 - val_loss: 0.6144 - val_acc: 0.8564\n",
            "Epoch 14/20\n",
            "37500/37500 [==============================] - 15s 408us/step - loss: 0.0066 - acc: 0.9994 - val_loss: 0.6651 - val_acc: 0.8602\n",
            "Epoch 15/20\n",
            "37500/37500 [==============================] - 15s 410us/step - loss: 0.0026 - acc: 0.9998 - val_loss: 0.7273 - val_acc: 0.8610\n",
            "Epoch 16/20\n",
            "37500/37500 [==============================] - 16s 413us/step - loss: 0.0014 - acc: 0.9999 - val_loss: 0.7581 - val_acc: 0.8606\n",
            "Epoch 17/20\n",
            "37500/37500 [==============================] - 15s 412us/step - loss: 9.3076e-04 - acc: 0.9999 - val_loss: 0.7852 - val_acc: 0.8612\n",
            "Epoch 18/20\n",
            "37500/37500 [==============================] - 15s 413us/step - loss: 6.6690e-04 - acc: 0.9999 - val_loss: 0.8058 - val_acc: 0.8614\n",
            "Epoch 19/20\n",
            "37500/37500 [==============================] - 15s 405us/step - loss: 5.0963e-04 - acc: 1.0000 - val_loss: 0.8211 - val_acc: 0.8618\n",
            "Epoch 20/20\n",
            "37500/37500 [==============================] - 15s 406us/step - loss: 3.9851e-04 - acc: 1.0000 - val_loss: 0.8337 - val_acc: 0.8618\n",
            "12500/12500 [==============================] - 2s 151us/step\n",
            "Evaluation result on Test Data : Loss = 0.8336756276345253, accuracy = 0.8617599999809266\n"
          ],
          "name": "stdout"
        }
      ]
    }
  ]
}