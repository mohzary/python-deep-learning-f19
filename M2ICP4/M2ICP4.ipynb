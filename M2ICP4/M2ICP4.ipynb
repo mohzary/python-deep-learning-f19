{
  "nbformat": 4,
  "nbformat_minor": 0,
  "metadata": {
    "colab": {
      "name": "M2ICP4.ipynb",
      "provenance": [],
      "include_colab_link": true
    },
    "kernelspec": {
      "name": "python3",
      "display_name": "Python 3"
    },
    "accelerator": "GPU"
  },
  "cells": [
    {
      "cell_type": "markdown",
      "metadata": {
        "id": "view-in-github",
        "colab_type": "text"
      },
      "source": [
        "<a href=\"https://colab.research.google.com/github/mohzary/python-deep-learning-f19/blob/master/M2ICP4/M2ICP4.ipynb\" target=\"_parent\"><img src=\"https://colab.research.google.com/assets/colab-badge.svg\" alt=\"Open In Colab\"/></a>"
      ]
    },
    {
      "cell_type": "code",
      "metadata": {
        "id": "Ktehv3AxKYUX",
        "colab_type": "code",
        "colab": {}
      },
      "source": [
        "# Simple CNN model for CIFAR-10\n",
        "import numpy\n",
        "from keras.datasets import cifar10\n",
        "from keras.models import Sequential\n",
        "from keras.layers import Dense\n",
        "from keras.layers import Dropout\n",
        "from keras.layers import Flatten\n",
        "from keras.constraints import maxnorm\n",
        "from keras.optimizers import SGD\n",
        "from keras.layers.convolutional import Conv2D\n",
        "from keras.layers.convolutional import MaxPooling2D\n",
        "from keras.utils import np_utils\n",
        "from keras import backend as K\n",
        "K.tensorflow_backend.set_image_dim_ordering('th')"
      ],
      "execution_count": 0,
      "outputs": []
    },
    {
      "cell_type": "code",
      "metadata": {
        "id": "EOiy1vWlLWfv",
        "colab_type": "code",
        "colab": {}
      },
      "source": [
        "# fix random seed for reproducibility\n",
        "seed = 7\n",
        "numpy.random.seed(seed)"
      ],
      "execution_count": 0,
      "outputs": []
    },
    {
      "cell_type": "code",
      "metadata": {
        "id": "xTWm3hbyLdRP",
        "colab_type": "code",
        "colab": {
          "base_uri": "https://localhost:8080/",
          "height": 51
        },
        "outputId": "7762fa32-d10b-4441-cce2-ef1c48de0ab7"
      },
      "source": [
        "# load data\n",
        "(X_train, y_train), (X_test, y_test) = cifar10.load_data()"
      ],
      "execution_count": 5,
      "outputs": [
        {
          "output_type": "stream",
          "text": [
            "Downloading data from https://www.cs.toronto.edu/~kriz/cifar-10-python.tar.gz\n",
            "170500096/170498071 [==============================] - 4s 0us/step\n"
          ],
          "name": "stdout"
        }
      ]
    },
    {
      "cell_type": "code",
      "metadata": {
        "id": "gmrH4EHCL6M9",
        "colab_type": "code",
        "colab": {}
      },
      "source": [
        "# normalize inputs from 0-255 to 0.0-1.0\n",
        "X_train = X_train.astype('float32')\n",
        "X_test = X_test.astype('float32')\n",
        "X_train = X_train / 255.0\n",
        "X_test = X_test / 255.0"
      ],
      "execution_count": 0,
      "outputs": []
    },
    {
      "cell_type": "code",
      "metadata": {
        "id": "H2kElA7TMB_l",
        "colab_type": "code",
        "colab": {}
      },
      "source": [
        "# one hot encode outputs\n",
        "y_train = np_utils.to_categorical(y_train)\n",
        "y_test = np_utils.to_categorical(y_test)\n",
        "num_classes = y_test.shape[1]"
      ],
      "execution_count": 0,
      "outputs": []
    },
    {
      "cell_type": "code",
      "metadata": {
        "id": "YGsb7bpuMPNB",
        "colab_type": "code",
        "colab": {
          "base_uri": "https://localhost:8080/",
          "height": 34
        },
        "outputId": "c5cb47a6-6bab-4d51-c7a3-9de1b7dfbdbb"
      },
      "source": [
        "num_classes"
      ],
      "execution_count": 8,
      "outputs": [
        {
          "output_type": "execute_result",
          "data": {
            "text/plain": [
              "10"
            ]
          },
          "metadata": {
            "tags": []
          },
          "execution_count": 8
        }
      ]
    },
    {
      "cell_type": "code",
      "metadata": {
        "id": "sGAbl-qmMSHa",
        "colab_type": "code",
        "colab": {
          "base_uri": "https://localhost:8080/",
          "height": 462
        },
        "outputId": "df3404fe-6919-40e3-a743-7bbf16691f75"
      },
      "source": [
        "# Create the model\n",
        "model = Sequential()\n",
        "model.add(Conv2D(32, (3, 3), input_shape=(3, 32, 32), padding='same', activation='relu', kernel_constraint=maxnorm(3)))\n",
        "model.add(Dropout(0.2))\n",
        "model.add(Conv2D(32, (3, 3), activation='relu', padding='same', kernel_constraint=maxnorm(3)))\n",
        "model.add(MaxPooling2D(pool_size=(2, 2)))\n",
        "model.add(Flatten())\n",
        "model.add(Dense(512, activation='relu', kernel_constraint=maxnorm(3)))\n",
        "model.add(Dropout(0.5))\n",
        "model.add(Dense(num_classes, activation='softmax'))"
      ],
      "execution_count": 9,
      "outputs": [
        {
          "output_type": "stream",
          "text": [
            "WARNING:tensorflow:From /usr/local/lib/python3.6/dist-packages/keras/backend/tensorflow_backend.py:66: The name tf.get_default_graph is deprecated. Please use tf.compat.v1.get_default_graph instead.\n",
            "\n",
            "WARNING:tensorflow:From /usr/local/lib/python3.6/dist-packages/keras/backend/tensorflow_backend.py:541: The name tf.placeholder is deprecated. Please use tf.compat.v1.placeholder instead.\n",
            "\n",
            "WARNING:tensorflow:From /usr/local/lib/python3.6/dist-packages/keras/backend/tensorflow_backend.py:4432: The name tf.random_uniform is deprecated. Please use tf.random.uniform instead.\n",
            "\n",
            "WARNING:tensorflow:From /usr/local/lib/python3.6/dist-packages/keras/backend/tensorflow_backend.py:190: The name tf.get_default_session is deprecated. Please use tf.compat.v1.get_default_session instead.\n",
            "\n",
            "WARNING:tensorflow:From /usr/local/lib/python3.6/dist-packages/keras/backend/tensorflow_backend.py:197: The name tf.ConfigProto is deprecated. Please use tf.compat.v1.ConfigProto instead.\n",
            "\n",
            "WARNING:tensorflow:From /usr/local/lib/python3.6/dist-packages/keras/backend/tensorflow_backend.py:203: The name tf.Session is deprecated. Please use tf.compat.v1.Session instead.\n",
            "\n",
            "WARNING:tensorflow:From /usr/local/lib/python3.6/dist-packages/keras/backend/tensorflow_backend.py:207: The name tf.global_variables is deprecated. Please use tf.compat.v1.global_variables instead.\n",
            "\n",
            "WARNING:tensorflow:From /usr/local/lib/python3.6/dist-packages/keras/backend/tensorflow_backend.py:216: The name tf.is_variable_initialized is deprecated. Please use tf.compat.v1.is_variable_initialized instead.\n",
            "\n",
            "WARNING:tensorflow:From /usr/local/lib/python3.6/dist-packages/keras/backend/tensorflow_backend.py:223: The name tf.variables_initializer is deprecated. Please use tf.compat.v1.variables_initializer instead.\n",
            "\n",
            "WARNING:tensorflow:From /usr/local/lib/python3.6/dist-packages/keras/backend/tensorflow_backend.py:148: The name tf.placeholder_with_default is deprecated. Please use tf.compat.v1.placeholder_with_default instead.\n",
            "\n",
            "WARNING:tensorflow:From /usr/local/lib/python3.6/dist-packages/keras/backend/tensorflow_backend.py:3733: calling dropout (from tensorflow.python.ops.nn_ops) with keep_prob is deprecated and will be removed in a future version.\n",
            "Instructions for updating:\n",
            "Please use `rate` instead of `keep_prob`. Rate should be set to `rate = 1 - keep_prob`.\n",
            "WARNING:tensorflow:From /usr/local/lib/python3.6/dist-packages/keras/backend/tensorflow_backend.py:4267: The name tf.nn.max_pool is deprecated. Please use tf.nn.max_pool2d instead.\n",
            "\n"
          ],
          "name": "stdout"
        }
      ]
    },
    {
      "cell_type": "code",
      "metadata": {
        "id": "NszJjwtdM7uo",
        "colab_type": "code",
        "colab": {
          "base_uri": "https://localhost:8080/",
          "height": 530
        },
        "outputId": "666afc16-8b97-4361-8953-a6fc1c7e492e"
      },
      "source": [
        "# Compile model\n",
        "epochs = 25\n",
        "lrate = 0.01\n",
        "decay = lrate/epochs\n",
        "sgd = SGD(lr=lrate, momentum=0.9, decay=decay, nesterov=False)\n",
        "model.compile(loss='categorical_crossentropy', optimizer=sgd, metrics=['accuracy'])\n",
        "print(model.summary())"
      ],
      "execution_count": 10,
      "outputs": [
        {
          "output_type": "stream",
          "text": [
            "WARNING:tensorflow:From /usr/local/lib/python3.6/dist-packages/keras/optimizers.py:793: The name tf.train.Optimizer is deprecated. Please use tf.compat.v1.train.Optimizer instead.\n",
            "\n",
            "WARNING:tensorflow:From /usr/local/lib/python3.6/dist-packages/keras/backend/tensorflow_backend.py:3576: The name tf.log is deprecated. Please use tf.math.log instead.\n",
            "\n",
            "Model: \"sequential_1\"\n",
            "_________________________________________________________________\n",
            "Layer (type)                 Output Shape              Param #   \n",
            "=================================================================\n",
            "conv2d_1 (Conv2D)            (None, 32, 32, 32)        896       \n",
            "_________________________________________________________________\n",
            "dropout_1 (Dropout)          (None, 32, 32, 32)        0         \n",
            "_________________________________________________________________\n",
            "conv2d_2 (Conv2D)            (None, 32, 32, 32)        9248      \n",
            "_________________________________________________________________\n",
            "max_pooling2d_1 (MaxPooling2 (None, 32, 16, 16)        0         \n",
            "_________________________________________________________________\n",
            "flatten_1 (Flatten)          (None, 8192)              0         \n",
            "_________________________________________________________________\n",
            "dense_1 (Dense)              (None, 512)               4194816   \n",
            "_________________________________________________________________\n",
            "dropout_2 (Dropout)          (None, 512)               0         \n",
            "_________________________________________________________________\n",
            "dense_2 (Dense)              (None, 10)                5130      \n",
            "=================================================================\n",
            "Total params: 4,210,090\n",
            "Trainable params: 4,210,090\n",
            "Non-trainable params: 0\n",
            "_________________________________________________________________\n",
            "None\n"
          ],
          "name": "stdout"
        }
      ]
    },
    {
      "cell_type": "code",
      "metadata": {
        "id": "72E5PxxJNBeZ",
        "colab_type": "code",
        "colab": {
          "base_uri": "https://localhost:8080/",
          "height": 1000
        },
        "outputId": "75a51a50-7ff1-4884-ef15-621b5ec72ae2"
      },
      "source": [
        "# Fit the model\n",
        "model.fit(X_train, y_train, validation_data=(X_test, y_test), epochs=epochs, batch_size=32)"
      ],
      "execution_count": 11,
      "outputs": [
        {
          "output_type": "stream",
          "text": [
            "WARNING:tensorflow:From /usr/local/lib/python3.6/dist-packages/tensorflow_core/python/ops/math_grad.py:1424: where (from tensorflow.python.ops.array_ops) is deprecated and will be removed in a future version.\n",
            "Instructions for updating:\n",
            "Use tf.where in 2.0, which has the same broadcast rule as np.where\n",
            "WARNING:tensorflow:From /usr/local/lib/python3.6/dist-packages/keras/backend/tensorflow_backend.py:1033: The name tf.assign_add is deprecated. Please use tf.compat.v1.assign_add instead.\n",
            "\n",
            "WARNING:tensorflow:From /usr/local/lib/python3.6/dist-packages/keras/backend/tensorflow_backend.py:1020: The name tf.assign is deprecated. Please use tf.compat.v1.assign instead.\n",
            "\n",
            "Train on 50000 samples, validate on 10000 samples\n",
            "Epoch 1/25\n",
            "50000/50000 [==============================] - 13s 254us/step - loss: 1.7032 - acc: 0.3826 - val_loss: 1.3507 - val_acc: 0.5171\n",
            "Epoch 2/25\n",
            "50000/50000 [==============================] - 9s 176us/step - loss: 1.3205 - acc: 0.5219 - val_loss: 1.2011 - val_acc: 0.5847\n",
            "Epoch 3/25\n",
            "50000/50000 [==============================] - 9s 177us/step - loss: 1.1496 - acc: 0.5903 - val_loss: 1.0873 - val_acc: 0.6132\n",
            "Epoch 4/25\n",
            "50000/50000 [==============================] - 9s 176us/step - loss: 1.0231 - acc: 0.6375 - val_loss: 1.0252 - val_acc: 0.6377\n",
            "Epoch 5/25\n",
            "50000/50000 [==============================] - 9s 177us/step - loss: 0.9176 - acc: 0.6751 - val_loss: 0.9828 - val_acc: 0.6491\n",
            "Epoch 6/25\n",
            "50000/50000 [==============================] - 9s 180us/step - loss: 0.8316 - acc: 0.7058 - val_loss: 0.9385 - val_acc: 0.6732\n",
            "Epoch 7/25\n",
            "50000/50000 [==============================] - 9s 176us/step - loss: 0.7570 - acc: 0.7319 - val_loss: 0.9306 - val_acc: 0.6731\n",
            "Epoch 8/25\n",
            "50000/50000 [==============================] - 9s 177us/step - loss: 0.6888 - acc: 0.7572 - val_loss: 0.9189 - val_acc: 0.6861\n",
            "Epoch 9/25\n",
            "50000/50000 [==============================] - 9s 177us/step - loss: 0.6273 - acc: 0.7778 - val_loss: 0.8973 - val_acc: 0.6925\n",
            "Epoch 10/25\n",
            "50000/50000 [==============================] - 9s 176us/step - loss: 0.5709 - acc: 0.8004 - val_loss: 0.9288 - val_acc: 0.6897\n",
            "Epoch 11/25\n",
            "50000/50000 [==============================] - 9s 177us/step - loss: 0.5303 - acc: 0.8137 - val_loss: 0.9112 - val_acc: 0.6985\n",
            "Epoch 12/25\n",
            "50000/50000 [==============================] - 9s 176us/step - loss: 0.4862 - acc: 0.8275 - val_loss: 0.9220 - val_acc: 0.6986\n",
            "Epoch 13/25\n",
            "50000/50000 [==============================] - 9s 178us/step - loss: 0.4477 - acc: 0.8422 - val_loss: 0.9408 - val_acc: 0.6974\n",
            "Epoch 14/25\n",
            "50000/50000 [==============================] - 9s 175us/step - loss: 0.4125 - acc: 0.8541 - val_loss: 0.9474 - val_acc: 0.7046\n",
            "Epoch 15/25\n",
            "50000/50000 [==============================] - 9s 178us/step - loss: 0.3827 - acc: 0.8660 - val_loss: 0.9560 - val_acc: 0.6986\n",
            "Epoch 16/25\n",
            "50000/50000 [==============================] - 9s 176us/step - loss: 0.3567 - acc: 0.8747 - val_loss: 0.9676 - val_acc: 0.7030\n",
            "Epoch 17/25\n",
            "50000/50000 [==============================] - 9s 176us/step - loss: 0.3276 - acc: 0.8852 - val_loss: 0.9812 - val_acc: 0.7027\n",
            "Epoch 18/25\n",
            "50000/50000 [==============================] - 9s 177us/step - loss: 0.3085 - acc: 0.8903 - val_loss: 0.9829 - val_acc: 0.7092\n",
            "Epoch 19/25\n",
            "50000/50000 [==============================] - 9s 176us/step - loss: 0.2906 - acc: 0.8988 - val_loss: 1.0135 - val_acc: 0.7070\n",
            "Epoch 20/25\n",
            "50000/50000 [==============================] - 9s 177us/step - loss: 0.2746 - acc: 0.9044 - val_loss: 1.0129 - val_acc: 0.7048\n",
            "Epoch 21/25\n",
            "50000/50000 [==============================] - 9s 174us/step - loss: 0.2545 - acc: 0.9121 - val_loss: 1.0418 - val_acc: 0.7065\n",
            "Epoch 22/25\n",
            "50000/50000 [==============================] - 9s 176us/step - loss: 0.2462 - acc: 0.9134 - val_loss: 1.0278 - val_acc: 0.7060\n",
            "Epoch 23/25\n",
            "50000/50000 [==============================] - 9s 176us/step - loss: 0.2315 - acc: 0.9209 - val_loss: 1.0616 - val_acc: 0.7076\n",
            "Epoch 24/25\n",
            "50000/50000 [==============================] - 9s 175us/step - loss: 0.2198 - acc: 0.9247 - val_loss: 1.0685 - val_acc: 0.7108\n",
            "Epoch 25/25\n",
            "50000/50000 [==============================] - 9s 177us/step - loss: 0.2078 - acc: 0.9287 - val_loss: 1.0732 - val_acc: 0.7063\n"
          ],
          "name": "stdout"
        },
        {
          "output_type": "execute_result",
          "data": {
            "text/plain": [
              "<keras.callbacks.History at 0x7f6ef1ea9320>"
            ]
          },
          "metadata": {
            "tags": []
          },
          "execution_count": 11
        }
      ]
    },
    {
      "cell_type": "code",
      "metadata": {
        "id": "FNK0ogW5NImX",
        "colab_type": "code",
        "colab": {
          "base_uri": "https://localhost:8080/",
          "height": 34
        },
        "outputId": "1f160de7-3aaf-4754-e746-ab263ec3a51e"
      },
      "source": [
        "# Final evaluation of the model\n",
        "scores = model.evaluate(X_test, y_test, verbose=0)\n",
        "print(\"Accuracy: %.2f%%\" % (scores[1]*100))"
      ],
      "execution_count": 12,
      "outputs": [
        {
          "output_type": "stream",
          "text": [
            "Accuracy: 70.63%\n"
          ],
          "name": "stdout"
        }
      ]
    }
  ]
}