{
  "nbformat": 4,
  "nbformat_minor": 0,
  "metadata": {
    "colab": {
      "name": "M2ICP4-2.ipynb",
      "provenance": [],
      "include_colab_link": true
    },
    "kernelspec": {
      "name": "python3",
      "display_name": "Python 3"
    },
    "accelerator": "GPU"
  },
  "cells": [
    {
      "cell_type": "markdown",
      "metadata": {
        "id": "view-in-github",
        "colab_type": "text"
      },
      "source": [
        "<a href=\"https://colab.research.google.com/github/mohzary/python-deep-learning-f19/blob/master/M2ICP4/M2ICP4_2.ipynb\" target=\"_parent\"><img src=\"https://colab.research.google.com/assets/colab-badge.svg\" alt=\"Open In Colab\"/></a>"
      ]
    },
    {
      "cell_type": "code",
      "metadata": {
        "id": "Ktehv3AxKYUX",
        "colab_type": "code",
        "colab": {}
      },
      "source": [
        "# Simple CNN model for CIFAR-10\n",
        "import numpy\n",
        "from keras.datasets import cifar10\n",
        "from keras.models import Sequential\n",
        "from keras.layers import Dense\n",
        "from keras.layers import Dropout\n",
        "from keras.layers import Flatten\n",
        "from keras.constraints import maxnorm\n",
        "from keras.optimizers import SGD\n",
        "from keras.layers.convolutional import Conv2D\n",
        "from keras.layers.convolutional import MaxPooling2D\n",
        "from keras.utils import np_utils\n",
        "from keras import backend as K\n",
        "K.tensorflow_backend.set_image_dim_ordering('th')"
      ],
      "execution_count": 0,
      "outputs": []
    },
    {
      "cell_type": "code",
      "metadata": {
        "id": "EOiy1vWlLWfv",
        "colab_type": "code",
        "colab": {}
      },
      "source": [
        "# fix random seed for reproducibility\n",
        "seed = 7\n",
        "numpy.random.seed(seed)"
      ],
      "execution_count": 0,
      "outputs": []
    },
    {
      "cell_type": "code",
      "metadata": {
        "id": "xTWm3hbyLdRP",
        "colab_type": "code",
        "colab": {}
      },
      "source": [
        "# load data\n",
        "(X_train, y_train), (X_test, y_test) = cifar10.load_data()"
      ],
      "execution_count": 0,
      "outputs": []
    },
    {
      "cell_type": "code",
      "metadata": {
        "id": "gmrH4EHCL6M9",
        "colab_type": "code",
        "colab": {}
      },
      "source": [
        "# normalize inputs from 0-255 to 0.0-1.0\n",
        "X_train = X_train.astype('float32')\n",
        "X_test = X_test.astype('float32')\n",
        "X_train = X_train / 255.0\n",
        "X_test = X_test / 255.0"
      ],
      "execution_count": 0,
      "outputs": []
    },
    {
      "cell_type": "code",
      "metadata": {
        "id": "H2kElA7TMB_l",
        "colab_type": "code",
        "colab": {}
      },
      "source": [
        "# one hot encode outputs\n",
        "y_train = np_utils.to_categorical(y_train)\n",
        "y_test = np_utils.to_categorical(y_test)\n",
        "num_classes = y_test.shape[1]"
      ],
      "execution_count": 0,
      "outputs": []
    },
    {
      "cell_type": "code",
      "metadata": {
        "id": "YGsb7bpuMPNB",
        "colab_type": "code",
        "outputId": "00dc619b-f3ad-41d2-d05c-930eee699724",
        "colab": {
          "base_uri": "https://localhost:8080/",
          "height": 34
        }
      },
      "source": [
        "num_classes"
      ],
      "execution_count": 62,
      "outputs": [
        {
          "output_type": "execute_result",
          "data": {
            "text/plain": [
              "10"
            ]
          },
          "metadata": {
            "tags": []
          },
          "execution_count": 62
        }
      ]
    },
    {
      "cell_type": "code",
      "metadata": {
        "id": "sGAbl-qmMSHa",
        "colab_type": "code",
        "colab": {}
      },
      "source": [
        "# Create the model\n",
        "model = Sequential()\n",
        "\n",
        "#Convolutional input layer, 32 feature maps with a size of 3×3 and a rectifier activation function.\n",
        "model.add(Conv2D(32, (3, 3), input_shape=(3, 32, 32), padding='same', activation='relu', kernel_constraint=maxnorm(3)))\n",
        "#Dropout layer at 20%.\n",
        "model.add(Dropout(0.2))\n",
        "#Convolutional layer, 32 feature maps with a size of 3×3 and a rectifier activation function.\n",
        "model.add(Conv2D(32, (3, 3), activation='relu', padding='same', kernel_constraint=maxnorm(3)))\n",
        "#Max Pool layer with size 2×2.\n",
        "model.add(MaxPooling2D(pool_size=(2, 2)))\n",
        "#Convolutional layer, 64 feature maps with a size of 3×3 and a rectifier activation function.\n",
        "model.add(Conv2D(64, (3, 3), activation='relu', padding='same', kernel_constraint=maxnorm(3)))\n",
        "#Dropout layer at 20%.\n",
        "model.add(Dropout(0.2))\n",
        "#Convolutional layer, 64 feature maps with a size of 3×3 and a rectifier activation function.\n",
        "model.add(Conv2D(64, (3, 3), activation='relu', padding='same', kernel_constraint=maxnorm(3)))\n",
        "#Max Pool layer with size 2×2\n",
        "model.add(MaxPooling2D(pool_size=(2, 2)))\n",
        "#Convolutional layer, 128feature maps with a size of 3×3 and a rectifier activation function.\n",
        "model.add(Conv2D(128, (3, 3), activation='relu', padding='same', kernel_constraint=maxnorm(3)))\n",
        "#Dropout layer at 20%.\n",
        "model.add(Dropout(0.2))\n",
        "#Convolutional layer,128 feature maps with a size of 3×3 and a rectifier activation function.\n",
        "model.add(Conv2D(128, (3, 3), activation='relu', padding='same', kernel_constraint=maxnorm(3)))\n",
        "#Max Pool layer with size 2×2.\n",
        "model.add(MaxPooling2D(pool_size=(2, 2)))\n",
        "#Flatten layer.\n",
        "model.add(Flatten())\n",
        "#Dropout layer at 20%.\n",
        "model.add(Dropout(0.2))\n",
        "#Fully connected layer with 1024units and a rectifier activation function.\n",
        "model.add(Dense(1024, activation='relu', kernel_constraint=maxnorm(3)))\n",
        "#Dropout layerat 20%.\n",
        "model.add(Dropout(0.2))\n",
        "#Fully connected layer with 512units and a rectifier activation function.\n",
        "model.add(Dense(512, activation='relu', kernel_constraint=maxnorm(3)))\n",
        "#Dropoutlayer at 20%.\n",
        "model.add(Dropout(0.2))\n",
        "#Fully connected output layer with 10 units and a softmax activation function\n",
        "model.add(Dense(num_classes, activation='softmax'))"
      ],
      "execution_count": 0,
      "outputs": []
    },
    {
      "cell_type": "code",
      "metadata": {
        "id": "NszJjwtdM7uo",
        "colab_type": "code",
        "outputId": "8d9fab39-97f9-44ee-b485-60e279cce0e1",
        "colab": {
          "base_uri": "https://localhost:8080/",
          "height": 816
        }
      },
      "source": [
        "# Compile model\n",
        "epochs = 25\n",
        "lrate = 0.01\n",
        "decay = lrate/epochs\n",
        "sgd = SGD(lr=lrate, momentum=0.9, decay=decay, nesterov=False)\n",
        "model.compile(loss='categorical_crossentropy', optimizer=sgd, metrics=['accuracy'])\n",
        "print(model.summary())"
      ],
      "execution_count": 64,
      "outputs": [
        {
          "output_type": "stream",
          "text": [
            "Model: \"sequential_2\"\n",
            "_________________________________________________________________\n",
            "Layer (type)                 Output Shape              Param #   \n",
            "=================================================================\n",
            "conv2d_7 (Conv2D)            (None, 32, 32, 32)        896       \n",
            "_________________________________________________________________\n",
            "dropout_7 (Dropout)          (None, 32, 32, 32)        0         \n",
            "_________________________________________________________________\n",
            "conv2d_8 (Conv2D)            (None, 32, 32, 32)        9248      \n",
            "_________________________________________________________________\n",
            "max_pooling2d_4 (MaxPooling2 (None, 32, 16, 16)        0         \n",
            "_________________________________________________________________\n",
            "conv2d_9 (Conv2D)            (None, 64, 16, 16)        18496     \n",
            "_________________________________________________________________\n",
            "dropout_8 (Dropout)          (None, 64, 16, 16)        0         \n",
            "_________________________________________________________________\n",
            "conv2d_10 (Conv2D)           (None, 64, 16, 16)        36928     \n",
            "_________________________________________________________________\n",
            "max_pooling2d_5 (MaxPooling2 (None, 64, 8, 8)          0         \n",
            "_________________________________________________________________\n",
            "conv2d_11 (Conv2D)           (None, 128, 8, 8)         73856     \n",
            "_________________________________________________________________\n",
            "dropout_9 (Dropout)          (None, 128, 8, 8)         0         \n",
            "_________________________________________________________________\n",
            "conv2d_12 (Conv2D)           (None, 128, 8, 8)         147584    \n",
            "_________________________________________________________________\n",
            "max_pooling2d_6 (MaxPooling2 (None, 128, 4, 4)         0         \n",
            "_________________________________________________________________\n",
            "flatten_2 (Flatten)          (None, 2048)              0         \n",
            "_________________________________________________________________\n",
            "dropout_10 (Dropout)         (None, 2048)              0         \n",
            "_________________________________________________________________\n",
            "dense_4 (Dense)              (None, 1024)              2098176   \n",
            "_________________________________________________________________\n",
            "dropout_11 (Dropout)         (None, 1024)              0         \n",
            "_________________________________________________________________\n",
            "dense_5 (Dense)              (None, 512)               524800    \n",
            "_________________________________________________________________\n",
            "dropout_12 (Dropout)         (None, 512)               0         \n",
            "_________________________________________________________________\n",
            "dense_6 (Dense)              (None, 10)                5130      \n",
            "=================================================================\n",
            "Total params: 2,915,114\n",
            "Trainable params: 2,915,114\n",
            "Non-trainable params: 0\n",
            "_________________________________________________________________\n",
            "None\n"
          ],
          "name": "stdout"
        }
      ]
    },
    {
      "cell_type": "code",
      "metadata": {
        "id": "pqgsSjq2bcOm",
        "colab_type": "code",
        "colab": {
          "base_uri": "https://localhost:8080/",
          "height": 255
        },
        "outputId": "be2ae483-e01d-46ce-d54e-87eb81687fa7"
      },
      "source": [
        "!wget https://bin.equinox.io/c/4VmDzA7iaHb/ngrok-stable-linux-amd64.zip\n",
        "!unzip ngrok-stable-linux-amd64.zip"
      ],
      "execution_count": 65,
      "outputs": [
        {
          "output_type": "stream",
          "text": [
            "--2019-11-16 01:16:59--  https://bin.equinox.io/c/4VmDzA7iaHb/ngrok-stable-linux-amd64.zip\n",
            "Resolving bin.equinox.io (bin.equinox.io)... 3.231.170.111, 54.165.216.26, 34.235.200.97, ...\n",
            "Connecting to bin.equinox.io (bin.equinox.io)|3.231.170.111|:443... connected.\n",
            "HTTP request sent, awaiting response... 200 OK\n",
            "Length: 13773305 (13M) [application/octet-stream]\n",
            "Saving to: ‘ngrok-stable-linux-amd64.zip.1’\n",
            "\n",
            "ngrok-stable-linux- 100%[===================>]  13.13M  6.45MB/s    in 2.0s    \n",
            "\n",
            "2019-11-16 01:17:02 (6.45 MB/s) - ‘ngrok-stable-linux-amd64.zip.1’ saved [13773305/13773305]\n",
            "\n",
            "Archive:  ngrok-stable-linux-amd64.zip\n",
            "replace ngrok? [y]es, [n]o, [A]ll, [N]one, [r]ename: y\n",
            "  inflating: ngrok                   \n"
          ],
          "name": "stdout"
        }
      ]
    },
    {
      "cell_type": "code",
      "metadata": {
        "id": "rvbgKkv7bg-w",
        "colab_type": "code",
        "colab": {}
      },
      "source": [
        "LOG_DIR = './log'\n",
        "get_ipython().system_raw(\n",
        "    'tensorboard --logdir {} --host 0.0.0.0 --port 6006 &'\n",
        "    .format(LOG_DIR)\n",
        ")"
      ],
      "execution_count": 0,
      "outputs": []
    },
    {
      "cell_type": "code",
      "metadata": {
        "id": "8ITH1qlQeWl7",
        "colab_type": "code",
        "colab": {
          "base_uri": "https://localhost:8080/",
          "height": 51
        },
        "outputId": "455936b5-5468-4c61-c44b-4385a8ba3097"
      },
      "source": [
        "# Load the TensorBoard notebook extension\n",
        "%load_ext tensorboard.notebook"
      ],
      "execution_count": 67,
      "outputs": [
        {
          "output_type": "stream",
          "text": [
            "The tensorboard.notebook extension is already loaded. To reload it, use:\n",
            "  %reload_ext tensorboard.notebook\n"
          ],
          "name": "stdout"
        }
      ]
    },
    {
      "cell_type": "code",
      "metadata": {
        "id": "72E5PxxJNBeZ",
        "colab_type": "code",
        "outputId": "3aa42f42-7ff5-416c-fb50-71f64d46830c",
        "colab": {
          "base_uri": "https://localhost:8080/",
          "height": 901
        }
      },
      "source": [
        "# Fit the model\n",
        "from keras.callbacks import TensorBoard\n",
        "tbCallBack= TensorBoard(log_dir='./Graph', histogram_freq=0,write_graph=True, write_images=True) \n",
        "model.fit(X_train, y_train, validation_data=(X_test, y_test), epochs=epochs, batch_size=32, callbacks=[tbCallBack])"
      ],
      "execution_count": 68,
      "outputs": [
        {
          "output_type": "stream",
          "text": [
            "Train on 50000 samples, validate on 10000 samples\n",
            "Epoch 1/25\n",
            "50000/50000 [==============================] - 12s 244us/step - loss: 1.8606 - acc: 0.3116 - val_loss: 1.5275 - val_acc: 0.4419\n",
            "Epoch 2/25\n",
            "50000/50000 [==============================] - 12s 235us/step - loss: 1.4265 - acc: 0.4795 - val_loss: 1.2870 - val_acc: 0.5368\n",
            "Epoch 3/25\n",
            "50000/50000 [==============================] - 12s 236us/step - loss: 1.2331 - acc: 0.5554 - val_loss: 1.1680 - val_acc: 0.5870\n",
            "Epoch 4/25\n",
            "50000/50000 [==============================] - 12s 238us/step - loss: 1.0931 - acc: 0.6096 - val_loss: 1.0787 - val_acc: 0.6129\n",
            "Epoch 5/25\n",
            "50000/50000 [==============================] - 12s 235us/step - loss: 0.9797 - acc: 0.6517 - val_loss: 0.9347 - val_acc: 0.6717\n",
            "Epoch 6/25\n",
            "50000/50000 [==============================] - 12s 243us/step - loss: 0.8915 - acc: 0.6837 - val_loss: 0.8980 - val_acc: 0.6881\n",
            "Epoch 7/25\n",
            "50000/50000 [==============================] - 12s 244us/step - loss: 0.8238 - acc: 0.7080 - val_loss: 0.8085 - val_acc: 0.7108\n",
            "Epoch 8/25\n",
            "50000/50000 [==============================] - 12s 235us/step - loss: 0.7677 - acc: 0.7283 - val_loss: 0.7991 - val_acc: 0.7187\n",
            "Epoch 9/25\n",
            "50000/50000 [==============================] - 12s 238us/step - loss: 0.7188 - acc: 0.7447 - val_loss: 0.7543 - val_acc: 0.7352\n",
            "Epoch 10/25\n",
            "50000/50000 [==============================] - 12s 236us/step - loss: 0.6808 - acc: 0.7581 - val_loss: 0.7294 - val_acc: 0.7444\n",
            "Epoch 11/25\n",
            "50000/50000 [==============================] - 12s 237us/step - loss: 0.6424 - acc: 0.7721 - val_loss: 0.7214 - val_acc: 0.7440\n",
            "Epoch 12/25\n",
            "50000/50000 [==============================] - 12s 239us/step - loss: 0.6078 - acc: 0.7848 - val_loss: 0.7463 - val_acc: 0.7395\n",
            "Epoch 13/25\n",
            "50000/50000 [==============================] - 12s 235us/step - loss: 0.5833 - acc: 0.7942 - val_loss: 0.7238 - val_acc: 0.7542\n",
            "Epoch 14/25\n",
            "50000/50000 [==============================] - 12s 240us/step - loss: 0.5479 - acc: 0.8050 - val_loss: 0.6824 - val_acc: 0.7636\n",
            "Epoch 15/25\n",
            "50000/50000 [==============================] - 12s 237us/step - loss: 0.5299 - acc: 0.8107 - val_loss: 0.6672 - val_acc: 0.7692\n",
            "Epoch 16/25\n",
            "50000/50000 [==============================] - 12s 247us/step - loss: 0.5117 - acc: 0.8180 - val_loss: 0.6557 - val_acc: 0.7735\n",
            "Epoch 17/25\n",
            "50000/50000 [==============================] - 12s 244us/step - loss: 0.4864 - acc: 0.8271 - val_loss: 0.6472 - val_acc: 0.7773\n",
            "Epoch 18/25\n",
            "50000/50000 [==============================] - 13s 250us/step - loss: 0.4716 - acc: 0.8316 - val_loss: 0.6460 - val_acc: 0.7762\n",
            "Epoch 19/25\n",
            "50000/50000 [==============================] - 12s 248us/step - loss: 0.4497 - acc: 0.8392 - val_loss: 0.6380 - val_acc: 0.7872\n",
            "Epoch 20/25\n",
            "50000/50000 [==============================] - 13s 253us/step - loss: 0.4351 - acc: 0.8455 - val_loss: 0.6412 - val_acc: 0.7842\n",
            "Epoch 21/25\n",
            "50000/50000 [==============================] - 13s 254us/step - loss: 0.4205 - acc: 0.8491 - val_loss: 0.6374 - val_acc: 0.7861\n",
            "Epoch 22/25\n",
            "50000/50000 [==============================] - 12s 247us/step - loss: 0.4099 - acc: 0.8528 - val_loss: 0.6346 - val_acc: 0.7884\n",
            "Epoch 23/25\n",
            "50000/50000 [==============================] - 12s 244us/step - loss: 0.3910 - acc: 0.8592 - val_loss: 0.6372 - val_acc: 0.7869\n",
            "Epoch 24/25\n",
            "50000/50000 [==============================] - 12s 246us/step - loss: 0.3780 - acc: 0.8636 - val_loss: 0.6477 - val_acc: 0.7884\n",
            "Epoch 25/25\n",
            "50000/50000 [==============================] - 12s 242us/step - loss: 0.3679 - acc: 0.8688 - val_loss: 0.6331 - val_acc: 0.7942\n"
          ],
          "name": "stdout"
        },
        {
          "output_type": "execute_result",
          "data": {
            "text/plain": [
              "<keras.callbacks.History at 0x7f8f939e3dd8>"
            ]
          },
          "metadata": {
            "tags": []
          },
          "execution_count": 68
        }
      ]
    },
    {
      "cell_type": "code",
      "metadata": {
        "id": "FNK0ogW5NImX",
        "colab_type": "code",
        "outputId": "d9b9d2a1-2936-4e54-9602-fcde02010c51",
        "colab": {
          "base_uri": "https://localhost:8080/",
          "height": 34
        }
      },
      "source": [
        "# Final evaluation of the model\n",
        "scores = model.evaluate(X_test, y_test, verbose=0)\n",
        "print(\"Accuracy: %.2f%%\" % (scores[1]*100))"
      ],
      "execution_count": 69,
      "outputs": [
        {
          "output_type": "stream",
          "text": [
            "Accuracy: 79.42%\n"
          ],
          "name": "stdout"
        }
      ]
    },
    {
      "cell_type": "code",
      "metadata": {
        "id": "n-A2y7ARfj3-",
        "colab_type": "code",
        "colab": {
          "base_uri": "https://localhost:8080/",
          "height": 85
        },
        "outputId": "94543c6c-6cc9-487c-fc9a-46e0af10c3bc"
      },
      "source": [
        "for img in range(0,4):\n",
        "  predict_classe = model.predict_classes(X_test[[img],:])\n",
        "  print(\"predicted classe for image: {\" + str(img) +\"} is: \" + str(predict_classe))\n"
      ],
      "execution_count": 73,
      "outputs": [
        {
          "output_type": "stream",
          "text": [
            "predicted classe for image: {0} is: [3]\n",
            "predicted classe for image: {1} is: [8]\n",
            "predicted classe for image: {2} is: [8]\n",
            "predicted classe for image: {3} is: [0]\n"
          ],
          "name": "stdout"
        }
      ]
    }
  ]
}