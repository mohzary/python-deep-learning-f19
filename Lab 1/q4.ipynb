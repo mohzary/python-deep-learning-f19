{
  "nbformat": 4,
  "nbformat_minor": 0,
  "metadata": {
    "colab": {
      "name": "q4.ipynb",
      "provenance": [],
      "include_colab_link": true
    },
    "kernelspec": {
      "name": "python3",
      "display_name": "Python 3"
    }
  },
  "cells": [
    {
      "cell_type": "markdown",
      "metadata": {
        "id": "view-in-github",
        "colab_type": "text"
      },
      "source": [
        "<a href=\"https://colab.research.google.com/github/mohzary/python-deep-learning-f19/blob/master/Lab%201/q4.ipynb\" target=\"_parent\"><img src=\"https://colab.research.google.com/assets/colab-badge.svg\" alt=\"Open In Colab\"/></a>"
      ]
    },
    {
      "cell_type": "code",
      "metadata": {
        "id": "Cl57UZKH6Uhr",
        "colab_type": "code",
        "colab": {}
      },
      "source": [
        "# To import all required modules to get comparison of the clustering algorithms from scikit-learn web page \n",
        "import requests\n",
        "from bs4 import BeautifulSoup as bs\n",
        "import os"
      ],
      "execution_count": 0,
      "outputs": []
    },
    {
      "cell_type": "code",
      "metadata": {
        "id": "F2iEwC296WyJ",
        "colab_type": "code",
        "colab": {}
      },
      "source": [
        "# use request with get function to fetch the scikit-learn web page content to scikitlearnPage variable\n",
        "scikitlearnPage = requests.get('https://scikit-learn.org/stable/modules/clustering.html#clustering')\n",
        "\n",
        "# To parse scikit-learn web page content and assign it to soupObj variable\n",
        "soupObj = bs(scikitlearnPage.content, \"html.parser\")"
      ],
      "execution_count": 0,
      "outputs": []
    },
    {
      "cell_type": "code",
      "metadata": {
        "id": "RFUTFBJV8VvX",
        "colab_type": "code",
        "colab": {}
      },
      "source": [
        "# To create a new text file called clustring to write table content to the text file\n",
        "comparisonFile = open('clustering.txt','a') \n",
        "\n",
        "# An empty string to use later when iterate through table content\n",
        "line = ''\n",
        "\n",
        "#To Fetch table with class name \n",
        "comparisonTable = soupObj.find('table',{'class': 'colwidths-given'})\n",
        "\n",
        "# To fetch all rows in the table \n",
        "tableRows = comparisonTable.findChildren('tr')\n",
        "\n",
        "# To I terate through rows and columns and get text contents\n",
        "for row in tableRows:\n",
        "  tableColumns = row.find_all(['th','td'])\n",
        "  for column in tableColumns:\n",
        "    line += column.text + '  |  '\n",
        "  line += '\\n'\n",
        "  # to write text conten in the file\n",
        "  comparisonFile.write(line)\n",
        "  line = ''\n",
        "# To Close file after we finish writing\n",
        "comparisonFile.close()\n",
        "\n",
        "\n",
        "\n",
        "         "
      ],
      "execution_count": 0,
      "outputs": []
    }
  ]
}