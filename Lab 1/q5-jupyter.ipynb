{
 "cells": [
  {
   "cell_type": "markdown",
   "metadata": {
    "colab_type": "text",
    "id": "rCq5l949Y-Pn"
   },
   "source": [
    "A- Perform exploratory data analysis on the data set (like Handling null values, \n",
    "removing  the  features  not  correlated  to  the  target  class,  encoding  the \n",
    "categorical features, ...) \n",
    "[link text](https://www.kaggle.com/uciml/adult-census-income)"
   ]
  },
  {
   "cell_type": "code",
   "execution_count": 1,
   "metadata": {
    "colab": {},
    "colab_type": "code",
    "id": "EwEsmxxGY89U"
   },
   "outputs": [],
   "source": [
    "\n",
    "import pandas as pd\n",
    "import numpy as np\n"
   ]
  },
  {
   "cell_type": "code",
   "execution_count": 3,
   "metadata": {
    "colab": {},
    "colab_type": "code",
    "id": "XKexY-KCZm4h"
   },
   "outputs": [],
   "source": [
    "iLPDataset = pd.read_csv('indian_liver_patient.csv')"
   ]
  },
  {
   "cell_type": "code",
   "execution_count": 4,
   "metadata": {
    "colab": {
     "base_uri": "https://localhost:8080/",
     "height": 156
    },
    "colab_type": "code",
    "id": "vXbAq1umZygv",
    "outputId": "cd572c58-c8a7-4ddd-978a-c7b33ab19fd9"
   },
   "outputs": [
    {
     "data": {
      "text/html": [
       "<div>\n",
       "<style scoped>\n",
       "    .dataframe tbody tr th:only-of-type {\n",
       "        vertical-align: middle;\n",
       "    }\n",
       "\n",
       "    .dataframe tbody tr th {\n",
       "        vertical-align: top;\n",
       "    }\n",
       "\n",
       "    .dataframe thead th {\n",
       "        text-align: right;\n",
       "    }\n",
       "</style>\n",
       "<table border=\"1\" class=\"dataframe\">\n",
       "  <thead>\n",
       "    <tr style=\"text-align: right;\">\n",
       "      <th></th>\n",
       "      <th>Age</th>\n",
       "      <th>Gender</th>\n",
       "      <th>Total_Bilirubin</th>\n",
       "      <th>Direct_Bilirubin</th>\n",
       "      <th>Alkaline_Phosphotase</th>\n",
       "      <th>Alamine_Aminotransferase</th>\n",
       "      <th>Aspartate_Aminotransferase</th>\n",
       "      <th>Total_Protiens</th>\n",
       "      <th>Albumin</th>\n",
       "      <th>Albumin_and_Globulin_Ratio</th>\n",
       "      <th>Dataset</th>\n",
       "    </tr>\n",
       "  </thead>\n",
       "  <tbody>\n",
       "    <tr>\n",
       "      <td>0</td>\n",
       "      <td>65</td>\n",
       "      <td>Female</td>\n",
       "      <td>0.7</td>\n",
       "      <td>0.1</td>\n",
       "      <td>187</td>\n",
       "      <td>16</td>\n",
       "      <td>18</td>\n",
       "      <td>6.8</td>\n",
       "      <td>3.3</td>\n",
       "      <td>0.90</td>\n",
       "      <td>1</td>\n",
       "    </tr>\n",
       "    <tr>\n",
       "      <td>1</td>\n",
       "      <td>62</td>\n",
       "      <td>Male</td>\n",
       "      <td>10.9</td>\n",
       "      <td>5.5</td>\n",
       "      <td>699</td>\n",
       "      <td>64</td>\n",
       "      <td>100</td>\n",
       "      <td>7.5</td>\n",
       "      <td>3.2</td>\n",
       "      <td>0.74</td>\n",
       "      <td>1</td>\n",
       "    </tr>\n",
       "    <tr>\n",
       "      <td>2</td>\n",
       "      <td>62</td>\n",
       "      <td>Male</td>\n",
       "      <td>7.3</td>\n",
       "      <td>4.1</td>\n",
       "      <td>490</td>\n",
       "      <td>60</td>\n",
       "      <td>68</td>\n",
       "      <td>7.0</td>\n",
       "      <td>3.3</td>\n",
       "      <td>0.89</td>\n",
       "      <td>1</td>\n",
       "    </tr>\n",
       "  </tbody>\n",
       "</table>\n",
       "</div>"
      ],
      "text/plain": [
       "   Age  Gender  Total_Bilirubin  Direct_Bilirubin  Alkaline_Phosphotase  \\\n",
       "0   65  Female              0.7               0.1                   187   \n",
       "1   62    Male             10.9               5.5                   699   \n",
       "2   62    Male              7.3               4.1                   490   \n",
       "\n",
       "   Alamine_Aminotransferase  Aspartate_Aminotransferase  Total_Protiens  \\\n",
       "0                        16                          18             6.8   \n",
       "1                        64                         100             7.5   \n",
       "2                        60                          68             7.0   \n",
       "\n",
       "   Albumin  Albumin_and_Globulin_Ratio  Dataset  \n",
       "0      3.3                        0.90        1  \n",
       "1      3.2                        0.74        1  \n",
       "2      3.3                        0.89        1  "
      ]
     },
     "execution_count": 4,
     "metadata": {},
     "output_type": "execute_result"
    }
   ],
   "source": [
    "# Display the top three\n",
    "iLPDataset.head(3)"
   ]
  },
  {
   "cell_type": "code",
   "execution_count": 5,
   "metadata": {
    "colab": {
     "base_uri": "https://localhost:8080/",
     "height": 34
    },
    "colab_type": "code",
    "id": "TF-Cg-JXg3eu",
    "outputId": "5ef6a907-7ed3-4169-af9c-4a522739b4d5"
   },
   "outputs": [
    {
     "data": {
      "text/plain": [
       "(583, 11)"
      ]
     },
     "execution_count": 5,
     "metadata": {},
     "output_type": "execute_result"
    }
   ],
   "source": [
    "iLPDataset.shape"
   ]
  },
  {
   "cell_type": "markdown",
   "metadata": {
    "colab_type": "text",
    "id": "YqQWW2G-aLnK"
   },
   "source": [
    "## To Handle Null Values"
   ]
  },
  {
   "cell_type": "code",
   "execution_count": 6,
   "metadata": {
    "colab": {
     "base_uri": "https://localhost:8080/",
     "height": 286
    },
    "colab_type": "code",
    "id": "8yY_OSZxPm3N",
    "outputId": "8e6162fb-2386-4ca7-928e-c34ed7dece5e"
   },
   "outputs": [
    {
     "name": "stdout",
     "output_type": "stream",
     "text": [
      "<class 'pandas.core.frame.DataFrame'>\n",
      "RangeIndex: 583 entries, 0 to 582\n",
      "Data columns (total 11 columns):\n",
      "Age                           583 non-null int64\n",
      "Gender                        583 non-null object\n",
      "Total_Bilirubin               583 non-null float64\n",
      "Direct_Bilirubin              583 non-null float64\n",
      "Alkaline_Phosphotase          583 non-null int64\n",
      "Alamine_Aminotransferase      583 non-null int64\n",
      "Aspartate_Aminotransferase    583 non-null int64\n",
      "Total_Protiens                583 non-null float64\n",
      "Albumin                       583 non-null float64\n",
      "Albumin_and_Globulin_Ratio    579 non-null float64\n",
      "Dataset                       583 non-null int64\n",
      "dtypes: float64(5), int64(5), object(1)\n",
      "memory usage: 50.2+ KB\n"
     ]
    }
   ],
   "source": [
    " # Displaying the datatype about the features.\n",
    "iLPDataset.info()"
   ]
  },
  {
   "cell_type": "code",
   "execution_count": 7,
   "metadata": {
    "colab": {},
    "colab_type": "code",
    "id": "idAjfyJaQHlA"
   },
   "outputs": [],
   "source": [
    "#First we get all the numeric features that we need to train our model\n",
    "# iLPDatasetNumeric = iLPDataset.select_dtypes(include=[np.number])\n",
    "# iLPDatasetNumeric.info()"
   ]
  },
  {
   "cell_type": "code",
   "execution_count": 8,
   "metadata": {
    "colab": {
     "base_uri": "https://localhost:8080/",
     "height": 235
    },
    "colab_type": "code",
    "id": "JiGX7FZ_Z9Q_",
    "outputId": "8a7935a0-de09-48fe-e2ea-ce3ce157942c"
   },
   "outputs": [
    {
     "name": "stdout",
     "output_type": "stream",
     "text": [
      "                            NO# of null values\n",
      "Feature                                       \n",
      "Albumin_and_Globulin_Ratio                   4\n",
      "Dataset                                      0\n",
      "Albumin                                      0\n",
      "Total_Protiens                               0\n",
      "Aspartate_Aminotransferase                   0\n",
      "Alamine_Aminotransferase                     0\n",
      "Alkaline_Phosphotase                         0\n",
      "Direct_Bilirubin                             0\n",
      "Total_Bilirubin                              0\n",
      "Gender                                       0\n",
      "Age                                          0\n"
     ]
    }
   ],
   "source": [
    "# To Show number of null values in each column in indian_liver_patient dataset \n",
    "iLPDatasetNulls = pd.DataFrame(iLPDataset.isnull().sum().sort_values(ascending=False))\n",
    "iLPDatasetNulls.columns = ['NO# of null values']\n",
    "iLPDatasetNulls.index.name = 'Feature'\n",
    "print(iLPDatasetNulls)"
   ]
  },
  {
   "cell_type": "code",
   "execution_count": 9,
   "metadata": {
    "colab": {},
    "colab_type": "code",
    "id": "P5cB-eHeaECr"
   },
   "outputs": [],
   "source": [
    "# Remoing null values in Albumin_and_Globulin_Ratio\n",
    "iLPDataset.Albumin_and_Globulin_Ratio.fillna(iLPDataset.Albumin_and_Globulin_Ratio.mean(),inplace=True)\n"
   ]
  },
  {
   "cell_type": "code",
   "execution_count": 17,
   "metadata": {
    "colab": {
     "base_uri": "https://localhost:8080/",
     "height": 235
    },
    "colab_type": "code",
    "id": "b5BtwiaybKKH",
    "outputId": "5d1c44cb-4a43-4cc2-dab8-cdad02dad1e7"
   },
   "outputs": [
    {
     "name": "stdout",
     "output_type": "stream",
     "text": [
      "                            Null Values Count\n",
      "Feature                                      \n",
      "Dataset                                     0\n",
      "Albumin_and_Globulin_Ratio                  0\n",
      "Albumin                                     0\n",
      "Total_Protiens                              0\n",
      "Aspartate_Aminotransferase                  0\n",
      "Alamine_Aminotransferase                    0\n",
      "Alkaline_Phosphotase                        0\n",
      "Direct_Bilirubin                            0\n",
      "Total_Bilirubin                             0\n",
      "Gender                                      0\n",
      "Age                                         0\n"
     ]
    }
   ],
   "source": [
    "# To Show the number of null values again to see if they are gone \n",
    "iLPDatasetNulls = pd.DataFrame(iLPDataset.isnull().sum().sort_values(ascending=False)[:25])\n",
    "iLPDatasetNulls.columns = ['Null Values Count']\n",
    "iLPDatasetNulls.index.name = 'Feature'\n",
    "print(iLPDatasetNulls)\n",
    "\n"
   ]
  },
  {
   "cell_type": "code",
   "execution_count": 18,
   "metadata": {
    "colab": {},
    "colab_type": "code",
    "id": "rCYRp_hHsEUx"
   },
   "outputs": [],
   "source": [
    "# Get the x_train ready for the use without Gender because we do not need it.\n",
    "iLP_train = iLPDataset.drop(\"Gender\", axis=1)"
   ]
  },
  {
   "cell_type": "code",
   "execution_count": 19,
   "metadata": {
    "colab": {
     "base_uri": "https://localhost:8080/",
     "height": 215
    },
    "colab_type": "code",
    "id": "JICiqyiwIg2z",
    "outputId": "36577602-3cf0-4895-e64a-e385ba552a95"
   },
   "outputs": [
    {
     "data": {
      "text/html": [
       "<div>\n",
       "<style scoped>\n",
       "    .dataframe tbody tr th:only-of-type {\n",
       "        vertical-align: middle;\n",
       "    }\n",
       "\n",
       "    .dataframe tbody tr th {\n",
       "        vertical-align: top;\n",
       "    }\n",
       "\n",
       "    .dataframe thead th {\n",
       "        text-align: right;\n",
       "    }\n",
       "</style>\n",
       "<table border=\"1\" class=\"dataframe\">\n",
       "  <thead>\n",
       "    <tr style=\"text-align: right;\">\n",
       "      <th></th>\n",
       "      <th>Age</th>\n",
       "      <th>Total_Bilirubin</th>\n",
       "      <th>Direct_Bilirubin</th>\n",
       "      <th>Alkaline_Phosphotase</th>\n",
       "      <th>Alamine_Aminotransferase</th>\n",
       "      <th>Aspartate_Aminotransferase</th>\n",
       "      <th>Total_Protiens</th>\n",
       "      <th>Albumin</th>\n",
       "      <th>Albumin_and_Globulin_Ratio</th>\n",
       "      <th>Dataset</th>\n",
       "    </tr>\n",
       "  </thead>\n",
       "  <tbody>\n",
       "    <tr>\n",
       "      <td>0</td>\n",
       "      <td>1.252098</td>\n",
       "      <td>-0.418878</td>\n",
       "      <td>-0.493964</td>\n",
       "      <td>-0.426715</td>\n",
       "      <td>-0.354665</td>\n",
       "      <td>-0.318393</td>\n",
       "      <td>0.292120</td>\n",
       "      <td>0.198969</td>\n",
       "      <td>-0.147898</td>\n",
       "      <td>-0.633595</td>\n",
       "    </tr>\n",
       "    <tr>\n",
       "      <td>1</td>\n",
       "      <td>1.066637</td>\n",
       "      <td>1.225171</td>\n",
       "      <td>1.430423</td>\n",
       "      <td>1.682629</td>\n",
       "      <td>-0.091599</td>\n",
       "      <td>-0.034333</td>\n",
       "      <td>0.937566</td>\n",
       "      <td>0.073157</td>\n",
       "      <td>-0.650697</td>\n",
       "      <td>-0.633595</td>\n",
       "    </tr>\n",
       "    <tr>\n",
       "      <td>2</td>\n",
       "      <td>1.066637</td>\n",
       "      <td>0.644919</td>\n",
       "      <td>0.931508</td>\n",
       "      <td>0.821588</td>\n",
       "      <td>-0.113522</td>\n",
       "      <td>-0.145186</td>\n",
       "      <td>0.476533</td>\n",
       "      <td>0.198969</td>\n",
       "      <td>-0.179323</td>\n",
       "      <td>-0.633595</td>\n",
       "    </tr>\n",
       "    <tr>\n",
       "      <td>3</td>\n",
       "      <td>0.819356</td>\n",
       "      <td>-0.370523</td>\n",
       "      <td>-0.387054</td>\n",
       "      <td>-0.447314</td>\n",
       "      <td>-0.365626</td>\n",
       "      <td>-0.311465</td>\n",
       "      <td>0.292120</td>\n",
       "      <td>0.324781</td>\n",
       "      <td>0.166351</td>\n",
       "      <td>-0.633595</td>\n",
       "    </tr>\n",
       "    <tr>\n",
       "      <td>4</td>\n",
       "      <td>1.684839</td>\n",
       "      <td>0.096902</td>\n",
       "      <td>0.183135</td>\n",
       "      <td>-0.393756</td>\n",
       "      <td>-0.294379</td>\n",
       "      <td>-0.176363</td>\n",
       "      <td>0.753153</td>\n",
       "      <td>-0.933340</td>\n",
       "      <td>-1.719144</td>\n",
       "      <td>-0.633595</td>\n",
       "    </tr>\n",
       "  </tbody>\n",
       "</table>\n",
       "</div>"
      ],
      "text/plain": [
       "        Age  Total_Bilirubin  Direct_Bilirubin  Alkaline_Phosphotase  \\\n",
       "0  1.252098        -0.418878         -0.493964             -0.426715   \n",
       "1  1.066637         1.225171          1.430423              1.682629   \n",
       "2  1.066637         0.644919          0.931508              0.821588   \n",
       "3  0.819356        -0.370523         -0.387054             -0.447314   \n",
       "4  1.684839         0.096902          0.183135             -0.393756   \n",
       "\n",
       "   Alamine_Aminotransferase  Aspartate_Aminotransferase  Total_Protiens  \\\n",
       "0                 -0.354665                   -0.318393        0.292120   \n",
       "1                 -0.091599                   -0.034333        0.937566   \n",
       "2                 -0.113522                   -0.145186        0.476533   \n",
       "3                 -0.365626                   -0.311465        0.292120   \n",
       "4                 -0.294379                   -0.176363        0.753153   \n",
       "\n",
       "    Albumin  Albumin_and_Globulin_Ratio   Dataset  \n",
       "0  0.198969                   -0.147898 -0.633595  \n",
       "1  0.073157                   -0.650697 -0.633595  \n",
       "2  0.198969                   -0.179323 -0.633595  \n",
       "3  0.324781                    0.166351 -0.633595  \n",
       "4 -0.933340                   -1.719144 -0.633595  "
      ]
     },
     "execution_count": 19,
     "metadata": {},
     "output_type": "execute_result"
    }
   ],
   "source": [
    "# Performing the scaling to get all the values at the same level\n",
    "from sklearn import preprocessing\n",
    "iLPscaler = preprocessing.StandardScaler()\n",
    "iLPscaler.fit(iLP_train)\n",
    "iLPX_scaled_array = iLPscaler.transform(iLP_train)\n",
    "iLPX_scaled_train = pd.DataFrame(iLPX_scaled_array, columns = iLP_train.columns)\n",
    "iLPX_scaled_train.head(5)"
   ]
  },
  {
   "cell_type": "code",
   "execution_count": 21,
   "metadata": {
    "colab": {},
    "colab_type": "code",
    "id": "ifycO6oADYK4"
   },
   "outputs": [],
   "source": [
    "# to get y_train ready for the training\n",
    "iLP_y = iLPX_scaled_train[\"Dataset\"].values\n",
    "iLP_y = iLP_y.astype('int')"
   ]
  },
  {
   "cell_type": "code",
   "execution_count": 23,
   "metadata": {
    "colab": {},
    "colab_type": "code",
    "id": "2t4U2uysm3c7"
   },
   "outputs": [],
   "source": [
    "from sklearn.model_selection import train_test_split\n",
    "# split the dataset into train and test data\n",
    "X_train, X_test, y_train, y_test = train_test_split(iLPX_scaled_train, iLP_y, test_size=0.20, random_state=0, stratify=iLP_y)\n"
   ]
  },
  {
   "cell_type": "markdown",
   "metadata": {
    "colab_type": "text",
    "id": "jEo1aL_vX48D"
   },
   "source": [
    "# Naive Bayes"
   ]
  },
  {
   "cell_type": "code",
   "execution_count": 24,
   "metadata": {
    "colab": {},
    "colab_type": "code",
    "id": "3YqZTiikVQqT"
   },
   "outputs": [],
   "source": [
    "from sklearn.naive_bayes import GaussianNB\n",
    "# Creating Naive Bayes object for the classification\n",
    "NaBa = GaussianNB()\n"
   ]
  },
  {
   "cell_type": "code",
   "execution_count": 25,
   "metadata": {
    "colab": {},
    "colab_type": "code",
    "id": "XWCnnCbzaKGb"
   },
   "outputs": [],
   "source": [
    "# For starting the train\n",
    "NaBaResult = NaBa.fit(X_train, y_train)"
   ]
  },
  {
   "cell_type": "code",
   "execution_count": 26,
   "metadata": {
    "colab": {
     "base_uri": "https://localhost:8080/",
     "height": 34
    },
    "colab_type": "code",
    "id": "2zc9LOGBaFLY",
    "outputId": "79d03b07-837a-4500-dfee-8d828f72e37b"
   },
   "outputs": [
    {
     "data": {
      "text/plain": [
       "100.0"
      ]
     },
     "execution_count": 26,
     "metadata": {},
     "output_type": "execute_result"
    }
   ],
   "source": [
    "iLPpred = NaBa.predict(X_test) \n",
    "round(NaBaResult.score(X_test, y_test) * 100, 2)"
   ]
  },
  {
   "cell_type": "markdown",
   "metadata": {
    "colab_type": "text",
    "id": "5joqc9llYx0U"
   },
   "source": [
    "# Support Vector Machines(SVM)"
   ]
  },
  {
   "cell_type": "code",
   "execution_count": 27,
   "metadata": {
    "colab": {
     "base_uri": "https://localhost:8080/",
     "height": 34
    },
    "colab_type": "code",
    "id": "iQ3XL2DNY-39",
    "outputId": "0d08dc76-da44-48ac-e540-bb75142e437a"
   },
   "outputs": [
    {
     "data": {
      "text/plain": [
       "100.0"
      ]
     },
     "execution_count": 27,
     "metadata": {},
     "output_type": "execute_result"
    }
   ],
   "source": [
    "from sklearn.svm import SVC\n",
    "\n",
    "# Creating Support Vector Machines object for the classification\n",
    "iLPsvc = SVC(kernel='linear')\n",
    "# Here where the training starts\n",
    "SVCResult = iLPsvc.fit(X_train, y_train)\n",
    "\n",
    "SVMiLPpred = SVCResult.predict(X_test)\n",
    "round(SVCResult.score(X_test, y_test) * 100, 2)"
   ]
  },
  {
   "cell_type": "markdown",
   "metadata": {
    "colab_type": "text",
    "id": "_WnYy8fFY_S7"
   },
   "source": [
    "# K-nearest neighbors"
   ]
  },
  {
   "cell_type": "code",
   "execution_count": 28,
   "metadata": {
    "colab": {
     "base_uri": "https://localhost:8080/",
     "height": 34
    },
    "colab_type": "code",
    "id": "2ESPQ-AjZHWs",
    "outputId": "39312238-b916-4695-e119-48f7868f34fb"
   },
   "outputs": [
    {
     "data": {
      "text/plain": [
       "100.0"
      ]
     },
     "execution_count": 28,
     "metadata": {},
     "output_type": "execute_result"
    }
   ],
   "source": [
    "from sklearn.neighbors import KNeighborsClassifier\n",
    "# Creating the K nearest neighbors object for the classification\n",
    "iLPKNN = KNeighborsClassifier(n_neighbors=3)\n",
    "# To train the model\n",
    "KNNResult = iLPKNN.fit(X_train,y_train)\n",
    "\n",
    "KNNiLPpred = iLPKNN.predict(X_test) \n",
    "round(KNNResult.score(X_test, y_test) * 100, 2)"
   ]
  },
  {
   "cell_type": "code",
   "execution_count": null,
   "metadata": {},
   "outputs": [],
   "source": []
  }
 ],
 "metadata": {
  "colab": {
   "name": "q5.ipynb",
   "provenance": []
  },
  "kernelspec": {
   "display_name": "Python 3",
   "language": "python",
   "name": "python3"
  },
  "language_info": {
   "codemirror_mode": {
    "name": "ipython",
    "version": 3
   },
   "file_extension": ".py",
   "mimetype": "text/x-python",
   "name": "python",
   "nbconvert_exporter": "python",
   "pygments_lexer": "ipython3",
   "version": "3.7.3"
  }
 },
 "nbformat": 4,
 "nbformat_minor": 1
}
