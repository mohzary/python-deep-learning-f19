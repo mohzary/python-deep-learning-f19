{
  "nbformat": 4,
  "nbformat_minor": 0,
  "metadata": {
    "colab": {
      "name": "q2.ipynb",
      "provenance": [],
      "include_colab_link": true
    },
    "kernelspec": {
      "name": "python3",
      "display_name": "Python 3"
    }
  },
  "cells": [
    {
      "cell_type": "markdown",
      "metadata": {
        "id": "view-in-github",
        "colab_type": "text"
      },
      "source": [
        "<a href=\"https://colab.research.google.com/github/mohzary/python-deep-learning-f19/blob/master/Lab%201/q2.ipynb\" target=\"_parent\"><img src=\"https://colab.research.google.com/assets/colab-badge.svg\" alt=\"Open In Colab\"/></a>"
      ]
    },
    {
      "cell_type": "code",
      "metadata": {
        "id": "vpNLvyo5wvhR",
        "colab_type": "code",
        "colab": {
          "base_uri": "https://localhost:8080/",
          "height": 34
        },
        "outputId": "87d03ddc-5286-451d-9baf-4c3ec9d89e1e"
      },
      "source": [
        "# To create Python object of type tuple\n",
        "\n",
        "studentTuple = (( 'John', ('Physics', 80)) , ('Daniel', ('Science', 90)), ('John', ('Science', 95)), ('Mark',('Maths', 100)), ('Daniel', \n",
        "('History', 75)), ('Mark', ('Social', 95)))\n",
        "\n",
        "# To create an empty dictionary\n",
        "\n",
        "studentDictionary = dict()\n",
        "\n",
        "# To iterate through tuple items and insert them to dictionary as key and value, student is the key, course is the value\n",
        "\n",
        "for student,course in studentTuple:\n",
        "\n",
        "    # if the student (key) already exists in the student dictionary append the course (value) to the student (key)\n",
        "\n",
        "    if student in studentDictionary:\n",
        "        studentDictionary[student].append(course)\n",
        "\n",
        "    # if the student (key) does not exist in the student dictionary create a new key and add the course (value) to that student (key)\n",
        "    else:\n",
        "        studentDictionary[student] = [course]\n",
        "\n",
        "\n",
        "print(studentDictionary)"
      ],
      "execution_count": 34,
      "outputs": [
        {
          "output_type": "stream",
          "text": [
            "{'John': [('Physics', 80), ('Science', 95)], 'Daniel': [('Science', 90), ('History', 75)], 'Mark': [('Maths', 100), ('Social', 95)]}\n"
          ],
          "name": "stdout"
        }
      ]
    }
  ]
}