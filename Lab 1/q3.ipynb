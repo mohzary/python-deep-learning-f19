{
 "cells": [
  {
   "cell_type": "markdown",
   "metadata": {
    "colab_type": "text",
    "id": "FKU2Wm7lQ0V6"
   },
   "source": [
    "# Approach\n",
    "We have decided to create an Airline System.\n",
    "\n",
    "- There are four classes in this system, which are Task3Flight, Task3Person, Task3Employee, and Task3Passenger.\n",
    "## Task3Flight\n",
    "This class focuses on the flight information such as its ID, departure and  destination places. It also has a variable for how many stops the flight will take.\n",
    "The class stores the person Id as a private ID, and it stores the type of the person, which means it will determine whether the person is an employee or a passenger.\n",
    "## Task3Person\n",
    "This is a very important class since it takes the data of the flights, passangers, and employees. It also inherits the Task3Flight class.\n",
    "## Task3Employee\n",
    "It inherits from the Flight class, and it takes care of the Pilots data. \n",
    "## Task3Passenger\n",
    "This is the class where we can add people for a flight. It is similar to the others in how it inherited the flight data.\n",
    "\n",
    "Both classes, Task3Flight and Task3Person, are for storing the data whereas the others are used to insert the data."
   ]
  },
  {
   "cell_type": "code",
   "execution_count": 1,
   "metadata": {
    "colab": {},
    "colab_type": "code",
    "id": "ejQud_qqQ8SI"
   },
   "outputs": [],
   "source": [
    "# We create a class for flight data in order to share its data items with the instances\n",
    "# Class 1: it will contain variables for the flight like its ID, Departure and Destination, and so on.\n",
    "\n",
    "class Task3Flight():\n",
    "    # initiate the default constructor for this class\n",
    "    def __init__(self, FlightIDt3, FlightDeparturet3, FlightDestinationt3, FlightStopst3, FlightTypet3, PersonIDt3, PersonTypet3):\n",
    "        self.FlightIDt3 = FlightIDt3 # This is for the ID number of the flight\n",
    "        self.FlightDeparturet3 = FlightDeparturet3 # This is for where the flight departs\n",
    "        self.FlightDestinationt3 = FlightDestinationt3 # This is for where the flight will stop\n",
    "        self.FlightStopst3 = FlightStopst3 # This is for the number of stops during the flight\n",
    "        self.FlightTypet3 = FlightTypet3 # This is for what airline it's been used\n",
    "        self.__PersonIDt3 = PersonIDt3 # here we store a unique ID for both a massenger and employee, and it is private\n",
    "        self.PersonTypet3 = PersonTypet3 # This is to determine whether it's a Passenger or  an employee"
   ]
  },
  {
   "cell_type": "code",
   "execution_count": 2,
   "metadata": {
    "colab": {},
    "colab_type": "code",
    "id": "5ONEF7FKRJUp"
   },
   "outputs": [],
   "source": [
    "# We  also create another class for the people data in order to share their information\n",
    "# Class 2: it will inherit our superclass Task3Flight and has variables for people, such as their ids, names and so on.\n",
    "class Task3Person(Task3Flight):\n",
    "    # initiate the Task3Person class's constructor\n",
    "    def __init__(self, PersonIDt3, PersonTypet3, PersonGendert3, PersonNamet3, PersonPhoneNumbert3, FlightIDt3, FlightDeparturet3, FlightDestinationt3, FlightStopst3, FlightTypet3):\n",
    "        self.PersonNamet3 = PersonNamet3\n",
    "        self.PersonGendert3 = PersonGendert3\n",
    "        self.PersonPhoneNumbert3 = PersonPhoneNumbert3\n",
    "        Task3Flight.__init__(self, FlightIDt3, FlightDeparturet3, FlightDestinationt3, FlightStopst3, FlightTypet3, PersonIDt3, PersonTypet3)\n",
    "\n"
   ]
  },
  {
   "cell_type": "code",
   "execution_count": 3,
   "metadata": {
    "colab": {},
    "colab_type": "code",
    "id": "8xD9u4jORib9"
   },
   "outputs": [],
   "source": [
    "# Class 3: This class is for employees; it inherits the Task3Peron class to store the data\n",
    "class Task3Employee(Task3Person):\n",
    "    # initiating its constructor\n",
    "    def __init__(self, PersonIDt3, PersonTypet3, PersonGendert3, PersonNamet3, PersonPhoneNumbert3, FlightIDt3, FlightDeparturet3, FlightDestinationt3, FlightStopst3, FlightTypet3):\n",
    "        Task3Person.__init__(self, PersonIDt3, PersonTypet3, PersonGendert3, PersonNamet3, PersonPhoneNumbert3, FlightIDt3, FlightDeparturet3, FlightDestinationt3, FlightStopst3, FlightTypet3)\n",
    "\n",
    "     # a method used in this class to get the employee's information\n",
    "    def GetEmployeeT3(self):\n",
    "        print(\"\\033[91m{}\\033[00m\" .format(\"Pilot %s here is the information about the flight\" % self.PersonNamet3))\n",
    "        print(\"---\")\n",
    "        print(\"The flight number is:\", self.FlightIDt3)\n",
    "        print(\"Departure point is:\", self.FlightDeparturet3)\n",
    "        print(\"Destination point is:\", self.FlightDestinationt3)"
   ]
  },
  {
   "cell_type": "code",
   "execution_count": 4,
   "metadata": {
    "colab": {},
    "colab_type": "code",
    "id": "wsc82J32SBBK"
   },
   "outputs": [],
   "source": [
    "# Class 4: It is for passengers, and it also takes inheritance from Task3Peron class\n",
    "class Task3Passenger(Task3Person):\n",
    "    names, FPn = [], dict()\n",
    "    # initiateint its default constructor\n",
    "    def __init__(self, PersonIDt3, PersonTypet3, PersonGendert3, PersonNamet3, PersonPhoneNumbert3, FlightIDt3, FlightDeparturet3, FlightDestinationt3, FlightStopst3, FlightTypet3):\n",
    "        Task3Person.__init__(self, PersonIDt3, PersonTypet3, PersonGendert3, PersonNamet3, PersonPhoneNumbert3, FlightIDt3, FlightDeparturet3, FlightDestinationt3, FlightStopst3, FlightTypet3)\n",
    "\n",
    "        # we used dictionary to store the Flight Number as a key and the passenger name as the value\n",
    "        if self.FlightIDt3 in Task3Passenger.FPn.keys():\n",
    "            Task3Passenger.FPn[self.FlightIDt3].append(self.PersonNamet3)\n",
    "        else:\n",
    "            Task3Passenger.FPn[self.FlightIDt3] = [self.PersonNamet3]\n",
    "\n",
    "        # This method is to print the passanger info.\n",
    "    def GetPassangerT3(self):\n",
    "        print(\"\\033[91m{}\\033[00m\" .format(\"%s's flight details\" % self.PersonNamet3))\n",
    "        print(\"---\")\n",
    "        print(\"The Flight ID is:\",   self.FlightIDt3)\n",
    "        print(\"The Flight Type is:\", self.FlightTypet3)\n",
    "        print(\"Departure point is:\", self.FlightDeparturet3)\n",
    "        print(\"Destination point is:\", self.FlightDestinationt3)\n",
    "\n",
    "    # a method to print the passengers info. from the dictionary\n",
    "    def GetTravelerT3(self):\n",
    "        print(\"\\033[91m{}\\033[00m\" .format(\"Those passengers who are on the flight:\\n\"))\n",
    "        print(Task3Passenger.FPn)\n"
   ]
  },
  {
   "cell_type": "code",
   "execution_count": 5,
   "metadata": {
    "colab": {
     "base_uri": "https://localhost:8080/",
     "height": 118
    },
    "colab_type": "code",
    "id": "xir_jZovS3wx",
    "outputId": "e1f9cbd5-e812-404d-c005-048aa7738d7d"
   },
   "outputs": [
    {
     "name": "stdout",
     "output_type": "stream",
     "text": [
      "\u001b[91mKhalid's flight details\u001b[00m\n",
      "---\n",
      "The Flight ID is: F2115\n",
      "The Flight Type is: Delta Airlines\n",
      "Departure point is: USA\n",
      "Destination point is: KSA\n"
     ]
    }
   ],
   "source": [
    "# This is to insert information about a passenger\n",
    "PassengerT3 = Task3Passenger(\"452\", \"Passenger\", \"Male\", \"Khalid\", 7377810393, \"F2115\", \"USA\", \"KSA\", 3, \"Delta Airlines\")\n",
    "\n",
    "#This method prints the travel details for the passenger\n",
    "PassengerT3.GetPassangerT3()"
   ]
  },
  {
   "cell_type": "code",
   "execution_count": 6,
   "metadata": {
    "colab": {
     "base_uri": "https://localhost:8080/",
     "height": 101
    },
    "colab_type": "code",
    "id": "2B3rXvfyTE2i",
    "outputId": "ec06785f-ffd1-4d0d-ab4f-491a27f10eac"
   },
   "outputs": [
    {
     "name": "stdout",
     "output_type": "stream",
     "text": [
      "\u001b[91mPilot Michael here is the information about the flight\u001b[00m\n",
      "---\n",
      "The flight number is: F1855\n",
      "Departure point is: USA\n",
      "Destination point is: KSA\n"
     ]
    }
   ],
   "source": [
    "# Adding information about an employee to the system\n",
    "EmployeeT3 = Task3Employee(\"E234\", \"Employee\", \"Male\", \"Michael\", 5125442475, \"F1855\", \"USA\", \"KSA\", 3, \"Delta Airlines\")\n",
    "#This method will print the employee detail\n",
    "EmployeeT3.GetEmployeeT3()\n"
   ]
  },
  {
   "cell_type": "code",
   "execution_count": 7,
   "metadata": {
    "colab": {
     "base_uri": "https://localhost:8080/",
     "height": 67
    },
    "colab_type": "code",
    "id": "LvxVkR9aTgxn",
    "outputId": "aaa8fbb1-7903-4fc7-e6bd-bd686bee2979"
   },
   "outputs": [
    {
     "name": "stdout",
     "output_type": "stream",
     "text": [
      "\u001b[91mThose passengers who are on the flight:\n",
      "\u001b[00m\n",
      "{'F2115': ['Khalid']}\n"
     ]
    }
   ],
   "source": [
    "#This method prints the travelling passengers on that flight\n",
    "# it is to print the passengers, who are trabelling \n",
    "PassengerT3.GetTravelerT3()\n"
   ]
  },
  {
   "cell_type": "code",
   "execution_count": null,
   "metadata": {},
   "outputs": [],
   "source": []
  }
 ],
 "metadata": {
  "colab": {
   "name": "q3.ipynb",
   "provenance": []
  },
  "kernelspec": {
   "display_name": "Python 3",
   "language": "python",
   "name": "python3"
  },
  "language_info": {
   "codemirror_mode": {
    "name": "ipython",
    "version": 3
   },
   "file_extension": ".py",
   "mimetype": "text/x-python",
   "name": "python",
   "nbconvert_exporter": "python",
   "pygments_lexer": "ipython3",
   "version": "3.7.3"
  }
 },
 "nbformat": 4,
 "nbformat_minor": 1
}
