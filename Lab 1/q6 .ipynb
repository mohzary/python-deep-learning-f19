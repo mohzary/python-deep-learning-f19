{
 "cells": [
  {
   "cell_type": "code",
   "execution_count": 1,
   "metadata": {
    "colab": {},
    "colab_type": "code",
    "id": "AXT_fkQ7zPVV"
   },
   "outputs": [],
   "source": [
    "# To import all required modules to apply K-means on google play store dataset \n",
    "\n",
    "import numpy as np\n",
    "import pandas as pd\n",
    "import matplotlib.pyplot as plt\n",
    "import matplotlib.ticker as tricker\n",
    "import seaborn as sns\n",
    "from sklearn.cluster import KMeans\n",
    "import io\n",
    "import pylab as pl\n",
    "%matplotlib inline"
   ]
  },
  {
   "cell_type": "markdown",
   "metadata": {
    "colab_type": "text",
    "id": "Bl7e7kRvWyf-"
   },
   "source": [
    "##  Import dataset from File\n",
    "To upload file and open it using pandas. Also, to  know dataset content and get some information about dataset features. In this question, we choose google play store dataset. The source of dataset is Kaggle.com.\n"
   ]
  },
  {
   "cell_type": "code",
   "execution_count": 2,
   "metadata": {
    "colab": {},
    "colab_type": "code",
    "id": "_iBsoAkw0rZr"
   },
   "outputs": [],
   "source": [
    "gPSDataset = pd.read_csv('googleplaystore.csv')"
   ]
  },
  {
   "cell_type": "code",
   "execution_count": 3,
   "metadata": {
    "colab": {
     "base_uri": "https://localhost:8080/",
     "height": 340
    },
    "colab_type": "code",
    "id": "bTpTP4Ri1GKI",
    "outputId": "1f8411da-d66d-4443-e8cc-797202c1afb1"
   },
   "outputs": [
    {
     "data": {
      "text/html": [
       "<div>\n",
       "<style scoped>\n",
       "    .dataframe tbody tr th:only-of-type {\n",
       "        vertical-align: middle;\n",
       "    }\n",
       "\n",
       "    .dataframe tbody tr th {\n",
       "        vertical-align: top;\n",
       "    }\n",
       "\n",
       "    .dataframe thead th {\n",
       "        text-align: right;\n",
       "    }\n",
       "</style>\n",
       "<table border=\"1\" class=\"dataframe\">\n",
       "  <thead>\n",
       "    <tr style=\"text-align: right;\">\n",
       "      <th></th>\n",
       "      <th>App</th>\n",
       "      <th>Category</th>\n",
       "      <th>Rating</th>\n",
       "      <th>Reviews</th>\n",
       "      <th>Size</th>\n",
       "      <th>Installs</th>\n",
       "      <th>Type</th>\n",
       "      <th>Price</th>\n",
       "      <th>Content Rating</th>\n",
       "      <th>Genres</th>\n",
       "      <th>Last Updated</th>\n",
       "      <th>Current Ver</th>\n",
       "      <th>Android Ver</th>\n",
       "    </tr>\n",
       "  </thead>\n",
       "  <tbody>\n",
       "    <tr>\n",
       "      <td>0</td>\n",
       "      <td>Photo Editor &amp; Candy Camera &amp; Grid &amp; ScrapBook</td>\n",
       "      <td>ART_AND_DESIGN</td>\n",
       "      <td>4.1</td>\n",
       "      <td>159</td>\n",
       "      <td>19M</td>\n",
       "      <td>10,000+</td>\n",
       "      <td>Free</td>\n",
       "      <td>0</td>\n",
       "      <td>Everyone</td>\n",
       "      <td>Art &amp; Design</td>\n",
       "      <td>January 7, 2018</td>\n",
       "      <td>1.0.0</td>\n",
       "      <td>4.0.3 and up</td>\n",
       "    </tr>\n",
       "    <tr>\n",
       "      <td>1</td>\n",
       "      <td>Coloring book moana</td>\n",
       "      <td>ART_AND_DESIGN</td>\n",
       "      <td>3.9</td>\n",
       "      <td>967</td>\n",
       "      <td>14M</td>\n",
       "      <td>500,000+</td>\n",
       "      <td>Free</td>\n",
       "      <td>0</td>\n",
       "      <td>Everyone</td>\n",
       "      <td>Art &amp; Design;Pretend Play</td>\n",
       "      <td>January 15, 2018</td>\n",
       "      <td>2.0.0</td>\n",
       "      <td>4.0.3 and up</td>\n",
       "    </tr>\n",
       "    <tr>\n",
       "      <td>2</td>\n",
       "      <td>U Launcher Lite – FREE Live Cool Themes, Hide ...</td>\n",
       "      <td>ART_AND_DESIGN</td>\n",
       "      <td>4.7</td>\n",
       "      <td>87510</td>\n",
       "      <td>8.7M</td>\n",
       "      <td>5,000,000+</td>\n",
       "      <td>Free</td>\n",
       "      <td>0</td>\n",
       "      <td>Everyone</td>\n",
       "      <td>Art &amp; Design</td>\n",
       "      <td>August 1, 2018</td>\n",
       "      <td>1.2.4</td>\n",
       "      <td>4.0.3 and up</td>\n",
       "    </tr>\n",
       "    <tr>\n",
       "      <td>3</td>\n",
       "      <td>Sketch - Draw &amp; Paint</td>\n",
       "      <td>ART_AND_DESIGN</td>\n",
       "      <td>4.5</td>\n",
       "      <td>215644</td>\n",
       "      <td>25M</td>\n",
       "      <td>50,000,000+</td>\n",
       "      <td>Free</td>\n",
       "      <td>0</td>\n",
       "      <td>Teen</td>\n",
       "      <td>Art &amp; Design</td>\n",
       "      <td>June 8, 2018</td>\n",
       "      <td>Varies with device</td>\n",
       "      <td>4.2 and up</td>\n",
       "    </tr>\n",
       "    <tr>\n",
       "      <td>4</td>\n",
       "      <td>Pixel Draw - Number Art Coloring Book</td>\n",
       "      <td>ART_AND_DESIGN</td>\n",
       "      <td>4.3</td>\n",
       "      <td>967</td>\n",
       "      <td>2.8M</td>\n",
       "      <td>100,000+</td>\n",
       "      <td>Free</td>\n",
       "      <td>0</td>\n",
       "      <td>Everyone</td>\n",
       "      <td>Art &amp; Design;Creativity</td>\n",
       "      <td>June 20, 2018</td>\n",
       "      <td>1.1</td>\n",
       "      <td>4.4 and up</td>\n",
       "    </tr>\n",
       "  </tbody>\n",
       "</table>\n",
       "</div>"
      ],
      "text/plain": [
       "                                                 App        Category  Rating  \\\n",
       "0     Photo Editor & Candy Camera & Grid & ScrapBook  ART_AND_DESIGN     4.1   \n",
       "1                                Coloring book moana  ART_AND_DESIGN     3.9   \n",
       "2  U Launcher Lite – FREE Live Cool Themes, Hide ...  ART_AND_DESIGN     4.7   \n",
       "3                              Sketch - Draw & Paint  ART_AND_DESIGN     4.5   \n",
       "4              Pixel Draw - Number Art Coloring Book  ART_AND_DESIGN     4.3   \n",
       "\n",
       "  Reviews  Size     Installs  Type Price Content Rating  \\\n",
       "0     159   19M      10,000+  Free     0       Everyone   \n",
       "1     967   14M     500,000+  Free     0       Everyone   \n",
       "2   87510  8.7M   5,000,000+  Free     0       Everyone   \n",
       "3  215644   25M  50,000,000+  Free     0           Teen   \n",
       "4     967  2.8M     100,000+  Free     0       Everyone   \n",
       "\n",
       "                      Genres      Last Updated         Current Ver  \\\n",
       "0               Art & Design   January 7, 2018               1.0.0   \n",
       "1  Art & Design;Pretend Play  January 15, 2018               2.0.0   \n",
       "2               Art & Design    August 1, 2018               1.2.4   \n",
       "3               Art & Design      June 8, 2018  Varies with device   \n",
       "4    Art & Design;Creativity     June 20, 2018                 1.1   \n",
       "\n",
       "    Android Ver  \n",
       "0  4.0.3 and up  \n",
       "1  4.0.3 and up  \n",
       "2  4.0.3 and up  \n",
       "3    4.2 and up  \n",
       "4    4.4 and up  "
      ]
     },
     "execution_count": 3,
     "metadata": {},
     "output_type": "execute_result"
    }
   ],
   "source": [
    "# To show the first 5 rows in google play store dataset.\n",
    "gPSDataset.head(5)"
   ]
  },
  {
   "cell_type": "code",
   "execution_count": 4,
   "metadata": {
    "colab": {
     "base_uri": "https://localhost:8080/",
     "height": 323
    },
    "colab_type": "code",
    "id": "FGtfnadh1f2e",
    "outputId": "404af7cd-4437-4e42-9ca4-a10c4f0c4acd"
   },
   "outputs": [
    {
     "name": "stdout",
     "output_type": "stream",
     "text": [
      "<class 'pandas.core.frame.DataFrame'>\n",
      "RangeIndex: 10841 entries, 0 to 10840\n",
      "Data columns (total 13 columns):\n",
      "App               10841 non-null object\n",
      "Category          10841 non-null object\n",
      "Rating            9367 non-null float64\n",
      "Reviews           10841 non-null object\n",
      "Size              10841 non-null object\n",
      "Installs          10841 non-null object\n",
      "Type              10840 non-null object\n",
      "Price             10841 non-null object\n",
      "Content Rating    10840 non-null object\n",
      "Genres            10841 non-null object\n",
      "Last Updated      10841 non-null object\n",
      "Current Ver       10833 non-null object\n",
      "Android Ver       10838 non-null object\n",
      "dtypes: float64(1), object(12)\n",
      "memory usage: 1.1+ MB\n"
     ]
    }
   ],
   "source": [
    "# To show range of data, number of columns, type of features, and feature names  \n",
    "gPSDataset.info()"
   ]
  },
  {
   "cell_type": "markdown",
   "metadata": {
    "colab_type": "text",
    "id": "XJPnXm4BYyRH"
   },
   "source": [
    "## To Handle Null Values\n",
    "In this stage we handle null values in google play store dataset using two techniques. First we remove null values in rating feature by using fillna() function with the mean value. Seecond, we use dropna() function to remove rows that contain null values in the following features: Current Ver, Android Ver, Content Rating, and Type.\n"
   ]
  },
  {
   "cell_type": "code",
   "execution_count": 5,
   "metadata": {
    "colab": {
     "base_uri": "https://localhost:8080/",
     "height": 272
    },
    "colab_type": "code",
    "id": "eyn2q6-k22FJ",
    "outputId": "750faf12-6073-42e5-c8a3-b25fa1acab46"
   },
   "outputs": [
    {
     "name": "stdout",
     "output_type": "stream",
     "text": [
      "                NO# of null values\n",
      "Feature                           \n",
      "Rating                        1474\n",
      "Current Ver                      8\n",
      "Android Ver                      3\n",
      "Content Rating                   1\n",
      "Type                             1\n",
      "Last Updated                     0\n",
      "Genres                           0\n",
      "Price                            0\n",
      "Installs                         0\n",
      "Size                             0\n",
      "Reviews                          0\n",
      "Category                         0\n",
      "App                              0\n"
     ]
    }
   ],
   "source": [
    "# To Show number of null values in each column in google play store dataset \n",
    "gPSDnullValues = pd.DataFrame(gPSDataset.isnull().sum().sort_values(ascending=False))\n",
    "gPSDnullValues.columns = ['NO# of null values']\n",
    "gPSDnullValues.index.name = 'Feature'\n",
    "print(gPSDnullValues)"
   ]
  },
  {
   "cell_type": "code",
   "execution_count": 6,
   "metadata": {
    "colab": {},
    "colab_type": "code",
    "id": "jqwcyIHR4Zfo"
   },
   "outputs": [],
   "source": [
    "#To fill null values using mean() function, we use this method only with Rating feature\n",
    "gPSDataset.Rating.fillna(gPSDataset.Rating.mean(),inplace=True)"
   ]
  },
  {
   "cell_type": "code",
   "execution_count": 7,
   "metadata": {
    "colab": {
     "base_uri": "https://localhost:8080/",
     "height": 272
    },
    "colab_type": "code",
    "id": "K15DXSAC4kw5",
    "outputId": "56e7a3d0-a9fc-4dda-e33e-f116eeaeff19"
   },
   "outputs": [
    {
     "name": "stdout",
     "output_type": "stream",
     "text": [
      "                NO# of null values\n",
      "Feature                           \n",
      "Current Ver                      8\n",
      "Android Ver                      3\n",
      "Content Rating                   1\n",
      "Type                             1\n",
      "Last Updated                     0\n",
      "Genres                           0\n",
      "Price                            0\n",
      "Installs                         0\n",
      "Size                             0\n",
      "Reviews                          0\n",
      "Rating                           0\n",
      "Category                         0\n",
      "App                              0\n"
     ]
    }
   ],
   "source": [
    "# To Show number of null values in each column in google play store dataset, to check the difference after we apply fillna() on Rating\n",
    "gPSDnullValues = pd.DataFrame(gPSDataset.isnull().sum().sort_values(ascending=False))\n",
    "gPSDnullValues.columns = ['NO# of null values']\n",
    "gPSDnullValues.index.name = 'Feature'\n",
    "print(gPSDnullValues)"
   ]
  },
  {
   "cell_type": "code",
   "execution_count": 8,
   "metadata": {
    "colab": {},
    "colab_type": "code",
    "id": "aCYgpMvJ6SLW"
   },
   "outputs": [],
   "source": [
    "# To use dropna() function to remove the entire rwo if it contains null value.\n",
    "gPSDataset = gPSDataset.dropna(axis=0, how='any', thresh=None, subset=None, inplace=False)"
   ]
  },
  {
   "cell_type": "code",
   "execution_count": 9,
   "metadata": {
    "colab": {
     "base_uri": "https://localhost:8080/",
     "height": 272
    },
    "colab_type": "code",
    "id": "M_GJvFAW7kmf",
    "outputId": "e20baf13-83b9-43e3-f59d-9be37f4bedf9"
   },
   "outputs": [
    {
     "name": "stdout",
     "output_type": "stream",
     "text": [
      "                NO# of null values\n",
      "Feature                           \n",
      "Android Ver                      0\n",
      "Current Ver                      0\n",
      "Last Updated                     0\n",
      "Genres                           0\n",
      "Content Rating                   0\n",
      "Price                            0\n",
      "Type                             0\n",
      "Installs                         0\n",
      "Size                             0\n",
      "Reviews                          0\n",
      "Rating                           0\n",
      "Category                         0\n",
      "App                              0\n"
     ]
    }
   ],
   "source": [
    "# To Show number of null values in each column in google play store dataset, to check the difference after we apply fillna() and dropna() functions on dataset\n",
    "\n",
    "gPSDnullValues = pd.DataFrame(gPSDataset.isnull().sum().sort_values(ascending=False))\n",
    "gPSDnullValues.columns = ['NO# of null values']\n",
    "gPSDnullValues.index.name = 'Feature'\n",
    "print(gPSDnullValues)"
   ]
  },
  {
   "cell_type": "markdown",
   "metadata": {
    "colab_type": "text",
    "id": "rwxwJUhDcAF4"
   },
   "source": [
    "## To Find Top 10 App Genres"
   ]
  },
  {
   "cell_type": "code",
   "execution_count": 10,
   "metadata": {
    "colab": {
     "base_uri": "https://localhost:8080/",
     "height": 238
    },
    "colab_type": "code",
    "id": "Hb6ksqU68K2i",
    "outputId": "23f7a521-03c9-44a1-b553-adaf5c57258f"
   },
   "outputs": [
    {
     "name": "stdout",
     "output_type": "stream",
     "text": [
      "Total of application by genres\n",
      "Genres\n",
      "Tools              840\n",
      "Entertainment      622\n",
      "Education          548\n",
      "Medical            463\n",
      "Business           460\n",
      "Productivity       424\n",
      "Sports             398\n",
      "Personalization    390\n",
      "Communication      387\n",
      "Lifestyle          381\n",
      "Name: Genres, dtype: int64\n"
     ]
    }
   ],
   "source": [
    "# To Show Top 10 genres based on number of Application in this step we count number of applications in each genre\n",
    "topGenres = gPSDataset.Genres.value_counts().sort_values(ascending=False)\n",
    "topGenres.index.name = 'Genres'\n",
    "print('Total of application by genres')\n",
    "print(topGenres[:10])\n"
   ]
  },
  {
   "cell_type": "code",
   "execution_count": 11,
   "metadata": {
    "colab": {
     "base_uri": "https://localhost:8080/",
     "height": 541
    },
    "colab_type": "code",
    "id": "2dUu5tpSA2XF",
    "outputId": "af100c10-66e3-48db-fbaa-978c40e36b1b"
   },
   "outputs": [
    {
     "data": {
      "image/png": "[encoded data removed]",
      "text/plain": [
       "<Figure size 648x648 with 1 Axes>"
      ]
     },
     "metadata": {},
     "output_type": "display_data"
    }
   ],
   "source": [
    "# To visulize the result, we used matplotlib pie figure to show the result.\n",
    "\n",
    "# We used top 10 genres from previous step as labels \n",
    "labels = topGenres.index[0:10]\n",
    "\n",
    "# We change figure size to 9,9\n",
    "plt.figure(figsize=(9,9))\n",
    "\n",
    "# To assign a title to the figure we used Total of application by genres as the figure title\n",
    "plt.title('Total of application by genres', fontsize = 14, fontweight='bold')\n",
    "\n",
    "#To display our result we used pie chart and we used topGenres[:10] as the data\n",
    "plt.pie(topGenres[:10],labels = labels, autopct = '%1.0f%%', textprops={'fontsize': 12})\n",
    "plt.savefig('Total of application by genres.png')\n",
    "plt.show()"
   ]
  },
  {
   "cell_type": "code",
   "execution_count": 12,
   "metadata": {
    "colab": {},
    "colab_type": "code",
    "id": "DppFNE-OG18u"
   },
   "outputs": [],
   "source": [
    "# As shown in dataset info() the type of reviews and rating features are object so we change them to integer type\n",
    "gPSDataset['Reviews'] = gPSDataset['Reviews'].astype(int)\n",
    "gPSDataset['Rating'] = gPSDataset['Rating'].astype(int)\n"
   ]
  },
  {
   "cell_type": "code",
   "execution_count": 13,
   "metadata": {
    "colab": {
     "base_uri": "https://localhost:8080/",
     "height": 323
    },
    "colab_type": "code",
    "id": "CQVprnsKHMMC",
    "outputId": "b7e75d65-739c-4f6a-de89-09df4ca1e7a0"
   },
   "outputs": [
    {
     "name": "stdout",
     "output_type": "stream",
     "text": [
      "<class 'pandas.core.frame.DataFrame'>\n",
      "Int64Index: 10829 entries, 0 to 10840\n",
      "Data columns (total 13 columns):\n",
      "App               10829 non-null object\n",
      "Category          10829 non-null object\n",
      "Rating            10829 non-null int64\n",
      "Reviews           10829 non-null int64\n",
      "Size              10829 non-null object\n",
      "Installs          10829 non-null object\n",
      "Type              10829 non-null object\n",
      "Price             10829 non-null object\n",
      "Content Rating    10829 non-null object\n",
      "Genres            10829 non-null object\n",
      "Last Updated      10829 non-null object\n",
      "Current Ver       10829 non-null object\n",
      "Android Ver       10829 non-null object\n",
      "dtypes: int64(2), object(11)\n",
      "memory usage: 1.2+ MB\n"
     ]
    }
   ],
   "source": [
    "# To check the type of rating and reviews after we change their types to integer\n",
    "gPSDataset.info()"
   ]
  },
  {
   "cell_type": "code",
   "execution_count": 14,
   "metadata": {
    "colab": {
     "base_uri": "https://localhost:8080/",
     "height": 359
    },
    "colab_type": "code",
    "id": "AvLJvZRvHsKT",
    "outputId": "ccf3767f-7536-4018-8e65-a36c82b9ac6e"
   },
   "outputs": [
    {
     "data": {
      "text/html": [
       "<div>\n",
       "<style scoped>\n",
       "    .dataframe tbody tr th:only-of-type {\n",
       "        vertical-align: middle;\n",
       "    }\n",
       "\n",
       "    .dataframe tbody tr th {\n",
       "        vertical-align: top;\n",
       "    }\n",
       "\n",
       "    .dataframe thead th {\n",
       "        text-align: right;\n",
       "    }\n",
       "</style>\n",
       "<table border=\"1\" class=\"dataframe\">\n",
       "  <thead>\n",
       "    <tr style=\"text-align: right;\">\n",
       "      <th></th>\n",
       "      <th>Genres</th>\n",
       "      <th>Reviews</th>\n",
       "      <th>Rating</th>\n",
       "    </tr>\n",
       "  </thead>\n",
       "  <tbody>\n",
       "    <tr>\n",
       "      <td>36</td>\n",
       "      <td>Communication</td>\n",
       "      <td>815462260</td>\n",
       "      <td>1486</td>\n",
       "    </tr>\n",
       "    <tr>\n",
       "      <td>101</td>\n",
       "      <td>Social</td>\n",
       "      <td>621241422</td>\n",
       "      <td>1149</td>\n",
       "    </tr>\n",
       "    <tr>\n",
       "      <td>27</td>\n",
       "      <td>Casual</td>\n",
       "      <td>412078863</td>\n",
       "      <td>723</td>\n",
       "    </tr>\n",
       "    <tr>\n",
       "      <td>0</td>\n",
       "      <td>Action</td>\n",
       "      <td>350303953</td>\n",
       "      <td>1419</td>\n",
       "    </tr>\n",
       "    <tr>\n",
       "      <td>6</td>\n",
       "      <td>Arcade</td>\n",
       "      <td>336990433</td>\n",
       "      <td>858</td>\n",
       "    </tr>\n",
       "    <tr>\n",
       "      <td>104</td>\n",
       "      <td>Strategy</td>\n",
       "      <td>327198471</td>\n",
       "      <td>410</td>\n",
       "    </tr>\n",
       "    <tr>\n",
       "      <td>108</td>\n",
       "      <td>Tools</td>\n",
       "      <td>272838697</td>\n",
       "      <td>3095</td>\n",
       "    </tr>\n",
       "    <tr>\n",
       "      <td>81</td>\n",
       "      <td>Photography</td>\n",
       "      <td>213516650</td>\n",
       "      <td>1282</td>\n",
       "    </tr>\n",
       "    <tr>\n",
       "      <td>102</td>\n",
       "      <td>Sports</td>\n",
       "      <td>192877617</td>\n",
       "      <td>1536</td>\n",
       "    </tr>\n",
       "    <tr>\n",
       "      <td>96</td>\n",
       "      <td>Shopping</td>\n",
       "      <td>115041222</td>\n",
       "      <td>1012</td>\n",
       "    </tr>\n",
       "  </tbody>\n",
       "</table>\n",
       "</div>"
      ],
      "text/plain": [
       "            Genres    Reviews  Rating\n",
       "36   Communication  815462260    1486\n",
       "101         Social  621241422    1149\n",
       "27          Casual  412078863     723\n",
       "0           Action  350303953    1419\n",
       "6           Arcade  336990433     858\n",
       "104       Strategy  327198471     410\n",
       "108          Tools  272838697    3095\n",
       "81     Photography  213516650    1282\n",
       "102         Sports  192877617    1536\n",
       "96        Shopping  115041222    1012"
      ]
     },
     "execution_count": 14,
     "metadata": {},
     "output_type": "execute_result"
    }
   ],
   "source": [
    "#To show most 10 popular app genres in google play store in term of genre, reviews, and user ratings:\n",
    "\n",
    "topGenresRR = gPSDataset[['Genres','Reviews', 'Rating']].groupby(['Genres'], as_index=False).sum().sort_values(by=['Reviews'],ascending=False)\n",
    "topGenresRR[0:10]\n"
   ]
  },
  {
   "cell_type": "code",
   "execution_count": 15,
   "metadata": {
    "colab": {
     "base_uri": "https://localhost:8080/",
     "height": 297
    },
    "colab_type": "code",
    "id": "ArPjR2c_MaS4",
    "outputId": "7adbb50b-8b0e-4686-cff5-a7ba2bf8c824"
   },
   "outputs": [
    {
     "data": {
      "text/html": [
       "<div>\n",
       "<style scoped>\n",
       "    .dataframe tbody tr th:only-of-type {\n",
       "        vertical-align: middle;\n",
       "    }\n",
       "\n",
       "    .dataframe tbody tr th {\n",
       "        vertical-align: top;\n",
       "    }\n",
       "\n",
       "    .dataframe thead th {\n",
       "        text-align: right;\n",
       "    }\n",
       "</style>\n",
       "<table border=\"1\" class=\"dataframe\">\n",
       "  <thead>\n",
       "    <tr style=\"text-align: right;\">\n",
       "      <th></th>\n",
       "      <th>Reviews</th>\n",
       "    </tr>\n",
       "  </thead>\n",
       "  <tbody>\n",
       "    <tr>\n",
       "      <td>count</td>\n",
       "      <td>1.082900e+04</td>\n",
       "    </tr>\n",
       "    <tr>\n",
       "      <td>mean</td>\n",
       "      <td>4.446018e+05</td>\n",
       "    </tr>\n",
       "    <tr>\n",
       "      <td>std</td>\n",
       "      <td>2.929213e+06</td>\n",
       "    </tr>\n",
       "    <tr>\n",
       "      <td>min</td>\n",
       "      <td>0.000000e+00</td>\n",
       "    </tr>\n",
       "    <tr>\n",
       "      <td>25%</td>\n",
       "      <td>3.800000e+01</td>\n",
       "    </tr>\n",
       "    <tr>\n",
       "      <td>50%</td>\n",
       "      <td>2.100000e+03</td>\n",
       "    </tr>\n",
       "    <tr>\n",
       "      <td>75%</td>\n",
       "      <td>5.481500e+04</td>\n",
       "    </tr>\n",
       "    <tr>\n",
       "      <td>max</td>\n",
       "      <td>7.815831e+07</td>\n",
       "    </tr>\n",
       "  </tbody>\n",
       "</table>\n",
       "</div>"
      ],
      "text/plain": [
       "            Reviews\n",
       "count  1.082900e+04\n",
       "mean   4.446018e+05\n",
       "std    2.929213e+06\n",
       "min    0.000000e+00\n",
       "25%    3.800000e+01\n",
       "50%    2.100000e+03\n",
       "75%    5.481500e+04\n",
       "max    7.815831e+07"
      ]
     },
     "execution_count": 15,
     "metadata": {},
     "output_type": "execute_result"
    }
   ],
   "source": [
    "# To show statistic report about reviews feature\n",
    "Reviews = gPSDataset[['Reviews']].describe()\n",
    "Reviews"
   ]
  },
  {
   "cell_type": "code",
   "execution_count": 16,
   "metadata": {
    "colab": {
     "base_uri": "https://localhost:8080/",
     "height": 297
    },
    "colab_type": "code",
    "id": "6WiaBzU9MbIq",
    "outputId": "fa2bbac3-64e3-476d-b5f7-78b54005550d"
   },
   "outputs": [
    {
     "data": {
      "text/html": [
       "<div>\n",
       "<style scoped>\n",
       "    .dataframe tbody tr th:only-of-type {\n",
       "        vertical-align: middle;\n",
       "    }\n",
       "\n",
       "    .dataframe tbody tr th {\n",
       "        vertical-align: top;\n",
       "    }\n",
       "\n",
       "    .dataframe thead th {\n",
       "        text-align: right;\n",
       "    }\n",
       "</style>\n",
       "<table border=\"1\" class=\"dataframe\">\n",
       "  <thead>\n",
       "    <tr style=\"text-align: right;\">\n",
       "      <th></th>\n",
       "      <th>Rating</th>\n",
       "    </tr>\n",
       "  </thead>\n",
       "  <tbody>\n",
       "    <tr>\n",
       "      <td>count</td>\n",
       "      <td>10829.000000</td>\n",
       "    </tr>\n",
       "    <tr>\n",
       "      <td>mean</td>\n",
       "      <td>3.809216</td>\n",
       "    </tr>\n",
       "    <tr>\n",
       "      <td>std</td>\n",
       "      <td>0.527927</td>\n",
       "    </tr>\n",
       "    <tr>\n",
       "      <td>min</td>\n",
       "      <td>1.000000</td>\n",
       "    </tr>\n",
       "    <tr>\n",
       "      <td>25%</td>\n",
       "      <td>4.000000</td>\n",
       "    </tr>\n",
       "    <tr>\n",
       "      <td>50%</td>\n",
       "      <td>4.000000</td>\n",
       "    </tr>\n",
       "    <tr>\n",
       "      <td>75%</td>\n",
       "      <td>4.000000</td>\n",
       "    </tr>\n",
       "    <tr>\n",
       "      <td>max</td>\n",
       "      <td>5.000000</td>\n",
       "    </tr>\n",
       "  </tbody>\n",
       "</table>\n",
       "</div>"
      ],
      "text/plain": [
       "             Rating\n",
       "count  10829.000000\n",
       "mean       3.809216\n",
       "std        0.527927\n",
       "min        1.000000\n",
       "25%        4.000000\n",
       "50%        4.000000\n",
       "75%        4.000000\n",
       "max        5.000000"
      ]
     },
     "execution_count": 16,
     "metadata": {},
     "output_type": "execute_result"
    }
   ],
   "source": [
    "# To show statistic report about Rating feature\n",
    "Rating = gPSDataset[['Rating']].describe()\n",
    "Rating"
   ]
  },
  {
   "cell_type": "markdown",
   "metadata": {
    "colab_type": "text",
    "id": "iQ1rpTWEgFeE"
   },
   "source": [
    "## To create and train the Model"
   ]
  },
  {
   "cell_type": "code",
   "execution_count": 17,
   "metadata": {
    "colab": {
     "base_uri": "https://localhost:8080/",
     "height": 301
    },
    "colab_type": "code",
    "id": "xeaglmdVNEt0",
    "outputId": "e60a409c-2a25-4a80-90df-60ab7ea1bef0"
   },
   "outputs": [
    {
     "data": {
      "image/png": "[encoded data removed]",
      "text/plain": [
       "<Figure size 432x288 with 1 Axes>"
      ]
     },
     "metadata": {
      "needs_background": "light"
     },
     "output_type": "display_data"
    }
   ],
   "source": [
    "# To check which K is the best using the elbow method based on the result we will train our model using the best number of clusters we get\n",
    "\n",
    "#To get the two features that we are going to use to categorize applications in google play store: \n",
    "gPSDataset_X = gPSDataset[['Reviews' , 'Rating']].iloc[: , :].values\n",
    "\n",
    "# To Keep tracking of the line shape when we used elbow method\n",
    "\n",
    "distortionsList = []\n",
    "\n",
    "# To use different number of clusters when we train our model \n",
    "for i in range(1, 11):\n",
    "    \n",
    "    # To define a new model object we call it kmModel\n",
    "    kmModel = KMeans(n_clusters=i, random_state=0)\n",
    "\n",
    "    #To train the model using fet function using gPSDataset_X data set \n",
    "    kmModel.fit(gPSDataset_X)\n",
    "\n",
    "    # To assign the Sum of squared distances of samples to their closest cluster center in each iteration to the distortionsList.\n",
    "    distortionsList.append(kmModel.inertia_)\n",
    "\n",
    "# To visualize the result we get in Elbow method \n",
    "plt.title('K-Means in Google Play Store Dataset (Elbow Method)', fontsize = 16, fontweight='bold')\n",
    "plt.plot(range(1, 11), distortionsList, 'c', marker='o', markeredgecolor = 'b')\n",
    "plt.xlabel('NO# of clusters', fontsize = 14)\n",
    "plt.ylabel('Sum of squared distances', fontsize = 14)\n",
    "plt.savefig('Elbow Method K-means.png', bbox_inches = 'tight')\n",
    "plt.show()"
   ]
  },
  {
   "cell_type": "markdown",
   "metadata": {
    "colab_type": "text",
    "id": "1-w6j3VWkNrL"
   },
   "source": [
    "## Result of Elbow Method:\n",
    "As a result, we find out that K = 3 is the best number of clusters. We will train our model using 3 clusters to categorize application into 3 different groups."
   ]
  },
  {
   "cell_type": "code",
   "execution_count": 18,
   "metadata": {
    "colab": {
     "base_uri": "https://localhost:8080/",
     "height": 34
    },
    "colab_type": "code",
    "id": "zTf190YLR-sF",
    "outputId": "10af5b61-2505-4234-ef77-b3b324399116"
   },
   "outputs": [
    {
     "name": "stdout",
     "output_type": "stream",
     "text": [
      "The silhouette score of our model is:  0.9553669562635997\n"
     ]
    }
   ],
   "source": [
    "# To define a new object of KMeans with 3 clusters\n",
    "kmModel2 = KMeans(n_clusters=3,init='k-means++')\n",
    "\n",
    "# To train our model using the new number of clusters which is 3\n",
    "kmModel2.fit(gPSDataset_X)\n",
    "\n",
    "#To Evaluate our model we used predict() function the we show the silhouette score\n",
    "y_predict_kmeans2 = kmModel2.predict(gPSDataset_X)\n",
    "\n",
    "from sklearn import metrics\n",
    "kmModel2_score = metrics.silhouette_score(gPSDataset_X, y_predict_kmeans2)\n",
    "print('The silhouette score of our model is: ', kmModel2_score)"
   ]
  },
  {
   "cell_type": "markdown",
   "metadata": {
    "colab_type": "text",
    "id": "ntQf5IdEmdV-"
   },
   "source": [
    "## Clusters Visualization\n",
    "As a result applications in google play store will by divided into 3 groups"
   ]
  },
  {
   "cell_type": "code",
   "execution_count": 19,
   "metadata": {
    "colab": {
     "base_uri": "https://localhost:8080/",
     "height": 519
    },
    "colab_type": "code",
    "id": "YhrmqW1uPum7",
    "outputId": "31fd0dfa-bc00-4f28-f013-0da369e14926"
   },
   "outputs": [
    {
     "data": {
      "image/png": "[encoded data removed]",
      "text/plain": [
       "<Figure size 576x576 with 1 Axes>"
      ]
     },
     "metadata": {
      "needs_background": "light"
     },
     "output_type": "display_data"
    }
   ],
   "source": [
    "\n",
    "# To visualize our result we used scatter figure\n",
    "\n",
    "plt.figure(figsize=(8,8))\n",
    "\n",
    "plt.scatter(gPSDataset_X[y_predict_kmeans2 == 0, 0], gPSDataset_X[y_predict_kmeans2 == 0, 1], s = 100, c = 'blue', label = 'Cluster 1')\n",
    "plt.scatter(gPSDataset_X[y_predict_kmeans2 == 1, 0], gPSDataset_X[y_predict_kmeans2 == 1, 1], s = 100, c = 'red', label = 'Cluster 2')\n",
    "plt.scatter(gPSDataset_X[y_predict_kmeans2 == 2, 0], gPSDataset_X[y_predict_kmeans2 == 2, 1], s = 100, c = 'green', label = 'Cluster 3')\n",
    "\n",
    "#o show the centroid of each application group in the figure\n",
    "plt.scatter(kmModel2.cluster_centers_[:, 0], kmModel2.cluster_centers_[:, 1], s = 100, c = 'black', label = 'Centroids')\n",
    "\n",
    "# To create labels and title for our figure\n",
    "plt.title('Clusters of Applications in Google Play Store', fontsize = 16, fontweight='bold')\n",
    "plt.xlabel('Reviews', fontsize = 14)\n",
    "plt.ylabel('Rating', fontsize = 14)\n",
    "plt.legend(fontsize = 14)\n",
    "plt.savefig('Google Play Store Application clusters.png', bbox_inches = 'tight')\n",
    "plt.show()"
   ]
  }
 ],
 "metadata": {
  "colab": {
   "name": "q6.ipynb",
   "provenance": []
  },
  "kernelspec": {
   "display_name": "Python 3",
   "language": "python",
   "name": "python3"
  },
  "language_info": {
   "codemirror_mode": {
    "name": "ipython",
    "version": 3
   },
   "file_extension": ".py",
   "mimetype": "text/x-python",
   "name": "python",
   "nbconvert_exporter": "python",
   "pygments_lexer": "ipython3",
   "version": "3.7.3"
  }
 },
 "nbformat": 4,
 "nbformat_minor": 1
}
