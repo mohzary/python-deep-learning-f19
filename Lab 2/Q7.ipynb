{
  "nbformat": 4,
  "nbformat_minor": 0,
  "metadata": {
    "colab": {
      "name": "Q7.ipynb",
      "provenance": [],
      "include_colab_link": true
    },
    "kernelspec": {
      "name": "python3",
      "display_name": "Python 3"
    },
    "accelerator": "GPU"
  },
  "cells": [
    {
      "cell_type": "markdown",
      "metadata": {
        "id": "view-in-github",
        "colab_type": "text"
      },
      "source": [
        "<a href=\"https://colab.research.google.com/github/mohzary/python-deep-learning-f19/blob/master/Lab%202/Q7.ipynb\" target=\"_parent\"><img src=\"https://colab.research.google.com/assets/colab-badge.svg\" alt=\"Open In Colab\"/></a>"
      ]
    },
    {
      "cell_type": "markdown",
      "metadata": {
        "id": "MyieDEICjbNZ",
        "colab_type": "text"
      },
      "source": [
        "# **To Apply Autoencoders on MNIST dataset and show the encoding and decoding on a particular image.** \n",
        "\n",
        "---\n",
        "Dataset: MNIST | [download](http://yann.lecun.com/exdb/mnist/)\n"
      ]
    },
    {
      "cell_type": "code",
      "metadata": {
        "id": "XBrUt6oXeE3D",
        "colab_type": "code",
        "colab": {}
      },
      "source": [
        "# To immport layers that we need to solve q6\n",
        "from keras.layers import Input, Dense\n",
        "\n",
        "# In this question we choose to use functional API that why we import model\n",
        "from keras.models import Model\n",
        "\n",
        "# this is the size of our encoded layer\n",
        "Q7_encoding_dim_size = 32  \n",
        "\n",
        "# our input layer it is of size 784 and its type is Input, we call it Q7_input_img_layer \n",
        "Q7_input_img_layer = Input(shape=(784,))\n",
        "\n",
        "# our \"encoder\" layer it is of size 32 since it must be smaller than the input layer, its type is Dense \n",
        "Q7_encoded_Layer = Dense(Q7_encoding_dim_size, activation='relu')(Q7_input_img_layer)\n",
        "\n",
        "# # our \"decoder\" layer it is of size 784 since it must be similar to the input layer, its type is Dense \n",
        "Q7_decoded_Layer= Dense(784, activation='sigmoid')(Q7_encoded_Layer)\n",
        "\n",
        "# to map input image to its reconstruction image\n",
        "Q7_autoencoder = Model(Q7_input_img_layer, Q7_decoded_Layer)\n",
        "\n",
        "# To map an input image to its encoded output\n",
        "Q7_encoder = Model(Q7_input_img_layer, Q7_encoded_Layer)\n",
        "\n",
        "# To make a placeholder for an encodedlayer input\n",
        "Q7_encoded_input = Input(shape=(Q7_encoding_dim_size,))\n",
        "\n",
        "# To get the last layer of the Q7_autoencoder model\n",
        "Q7_decoder_layer = Q7_autoencoder.layers[-1]\n",
        "\n",
        "# To create the decoder model\n",
        "Q7_decoder = Model(Q7_encoded_input, Q7_decoder_layer(Q7_encoded_input))\n",
        "\n",
        "# To compile our model\n",
        "Q7_autoencoder.compile(optimizer='adadelta', loss='binary_crossentropy', metrics=['accuracy'])"
      ],
      "execution_count": 0,
      "outputs": []
    },
    {
      "cell_type": "code",
      "metadata": {
        "id": "mCcK0Ddvembf",
        "colab_type": "code",
        "outputId": "436f5daf-9971-4d93-a1b8-6ab141e7496c",
        "colab": {
          "base_uri": "https://localhost:8080/",
          "height": 51
        }
      },
      "source": [
        "# To load images dataset (mnist)\n",
        "\n",
        "from keras.datasets import mnist\n",
        "import numpy as np\n",
        "\n",
        "# to load the dataset\n",
        "(X_train_Q7, _), (X_test_Q7, _) = mnist.load_data()\n",
        "\n",
        "#To normalize images \n",
        "X_train_Q7 = X_train_Q7.astype('float32') / 255.\n",
        "X_test_Q7 = X_test_Q7.astype('float32') / 255.\n",
        "\n",
        "# To reshape the image matrics\n",
        "X_train_Q7 = X_train_Q7.reshape((len(X_train_Q7), np.prod(X_train_Q7.shape[1:])))\n",
        "X_test_Q7 = X_test_Q7.reshape((len(X_test_Q7), np.prod(X_test_Q7.shape[1:])))"
      ],
      "execution_count": 48,
      "outputs": [
        {
          "output_type": "stream",
          "text": [
            "Downloading data from https://s3.amazonaws.com/img-datasets/mnist.npz\n",
            "11493376/11490434 [==============================] - 2s 0us/step\n"
          ],
          "name": "stdout"
        }
      ]
    },
    {
      "cell_type": "code",
      "metadata": {
        "id": "AmQ_nZP0etRX",
        "colab_type": "code",
        "outputId": "59201e5e-a09d-4fb5-b252-b8966ffad10c",
        "colab": {
          "base_uri": "https://localhost:8080/",
          "height": 1000
        }
      },
      "source": [
        "# To start the trainig we use history variable to save trainig data so we can visualize the training and validition results later\n",
        "Q7_history = Q7_autoencoder.fit(X_train_Q7, X_train_Q7,\n",
        "                epochs=50,\n",
        "                batch_size=256,\n",
        "                shuffle=True,\n",
        "                validation_data=(X_test_Q7, X_test_Q7))\n"
      ],
      "execution_count": 51,
      "outputs": [
        {
          "output_type": "stream",
          "text": [
            "Train on 60000 samples, validate on 10000 samples\n",
            "Epoch 1/50\n",
            "60000/60000 [==============================] - 1s 21us/step - loss: 0.1224 - acc: 0.8114 - val_loss: 0.1200 - val_acc: 0.8106\n",
            "Epoch 2/50\n",
            "60000/60000 [==============================] - 1s 21us/step - loss: 0.1207 - acc: 0.8116 - val_loss: 0.1185 - val_acc: 0.8109\n",
            "Epoch 3/50\n",
            "60000/60000 [==============================] - 1s 21us/step - loss: 0.1192 - acc: 0.8118 - val_loss: 0.1169 - val_acc: 0.8110\n",
            "Epoch 4/50\n",
            "60000/60000 [==============================] - 1s 22us/step - loss: 0.1178 - acc: 0.8120 - val_loss: 0.1156 - val_acc: 0.8113\n",
            "Epoch 5/50\n",
            "60000/60000 [==============================] - 1s 21us/step - loss: 0.1165 - acc: 0.8121 - val_loss: 0.1143 - val_acc: 0.8114\n",
            "Epoch 6/50\n",
            "60000/60000 [==============================] - 1s 22us/step - loss: 0.1153 - acc: 0.8123 - val_loss: 0.1130 - val_acc: 0.8115\n",
            "Epoch 7/50\n",
            "60000/60000 [==============================] - 1s 21us/step - loss: 0.1141 - acc: 0.8124 - val_loss: 0.1120 - val_acc: 0.8117\n",
            "Epoch 8/50\n",
            "60000/60000 [==============================] - 1s 22us/step - loss: 0.1130 - acc: 0.8126 - val_loss: 0.1109 - val_acc: 0.8118\n",
            "Epoch 9/50\n",
            "60000/60000 [==============================] - 1s 22us/step - loss: 0.1120 - acc: 0.8127 - val_loss: 0.1099 - val_acc: 0.8119\n",
            "Epoch 10/50\n",
            "60000/60000 [==============================] - 1s 21us/step - loss: 0.1111 - acc: 0.8128 - val_loss: 0.1090 - val_acc: 0.8120\n",
            "Epoch 11/50\n",
            "60000/60000 [==============================] - 1s 22us/step - loss: 0.1102 - acc: 0.8129 - val_loss: 0.1081 - val_acc: 0.8120\n",
            "Epoch 12/50\n",
            "60000/60000 [==============================] - 1s 22us/step - loss: 0.1094 - acc: 0.8130 - val_loss: 0.1073 - val_acc: 0.8121\n",
            "Epoch 13/50\n",
            "60000/60000 [==============================] - 1s 22us/step - loss: 0.1086 - acc: 0.8130 - val_loss: 0.1066 - val_acc: 0.8122\n",
            "Epoch 14/50\n",
            "60000/60000 [==============================] - 1s 22us/step - loss: 0.1079 - acc: 0.8131 - val_loss: 0.1059 - val_acc: 0.8123\n",
            "Epoch 15/50\n",
            "60000/60000 [==============================] - 1s 21us/step - loss: 0.1072 - acc: 0.8132 - val_loss: 0.1052 - val_acc: 0.8123\n",
            "Epoch 16/50\n",
            "60000/60000 [==============================] - 1s 21us/step - loss: 0.1066 - acc: 0.8132 - val_loss: 0.1046 - val_acc: 0.8124\n",
            "Epoch 17/50\n",
            "60000/60000 [==============================] - 1s 20us/step - loss: 0.1060 - acc: 0.8133 - val_loss: 0.1040 - val_acc: 0.8124\n",
            "Epoch 18/50\n",
            "60000/60000 [==============================] - 1s 21us/step - loss: 0.1054 - acc: 0.8133 - val_loss: 0.1035 - val_acc: 0.8125\n",
            "Epoch 19/50\n",
            "60000/60000 [==============================] - 1s 22us/step - loss: 0.1049 - acc: 0.8134 - val_loss: 0.1030 - val_acc: 0.8125\n",
            "Epoch 20/50\n",
            "60000/60000 [==============================] - 1s 22us/step - loss: 0.1044 - acc: 0.8134 - val_loss: 0.1025 - val_acc: 0.8126\n",
            "Epoch 21/50\n",
            "60000/60000 [==============================] - 1s 22us/step - loss: 0.1040 - acc: 0.8135 - val_loss: 0.1021 - val_acc: 0.8126\n",
            "Epoch 22/50\n",
            "60000/60000 [==============================] - 1s 22us/step - loss: 0.1036 - acc: 0.8135 - val_loss: 0.1017 - val_acc: 0.8127\n",
            "Epoch 23/50\n",
            "60000/60000 [==============================] - 1s 22us/step - loss: 0.1032 - acc: 0.8135 - val_loss: 0.1013 - val_acc: 0.8127\n",
            "Epoch 24/50\n",
            "60000/60000 [==============================] - 1s 21us/step - loss: 0.1028 - acc: 0.8136 - val_loss: 0.1010 - val_acc: 0.8127\n",
            "Epoch 25/50\n",
            "60000/60000 [==============================] - 1s 21us/step - loss: 0.1024 - acc: 0.8136 - val_loss: 0.1006 - val_acc: 0.8127\n",
            "Epoch 26/50\n",
            "60000/60000 [==============================] - 1s 20us/step - loss: 0.1021 - acc: 0.8136 - val_loss: 0.1003 - val_acc: 0.8127\n",
            "Epoch 27/50\n",
            "60000/60000 [==============================] - 1s 22us/step - loss: 0.1018 - acc: 0.8136 - val_loss: 0.1000 - val_acc: 0.8128\n",
            "Epoch 28/50\n",
            "60000/60000 [==============================] - 1s 21us/step - loss: 0.1015 - acc: 0.8137 - val_loss: 0.0997 - val_acc: 0.8128\n",
            "Epoch 29/50\n",
            "60000/60000 [==============================] - 1s 21us/step - loss: 0.1012 - acc: 0.8137 - val_loss: 0.0995 - val_acc: 0.8129\n",
            "Epoch 30/50\n",
            "60000/60000 [==============================] - 1s 22us/step - loss: 0.1009 - acc: 0.8137 - val_loss: 0.0992 - val_acc: 0.8128\n",
            "Epoch 31/50\n",
            "60000/60000 [==============================] - 1s 22us/step - loss: 0.1007 - acc: 0.8137 - val_loss: 0.0989 - val_acc: 0.8128\n",
            "Epoch 32/50\n",
            "60000/60000 [==============================] - 1s 22us/step - loss: 0.1005 - acc: 0.8137 - val_loss: 0.0987 - val_acc: 0.8129\n",
            "Epoch 33/50\n",
            "60000/60000 [==============================] - 1s 22us/step - loss: 0.1002 - acc: 0.8138 - val_loss: 0.0985 - val_acc: 0.8129\n",
            "Epoch 34/50\n",
            "60000/60000 [==============================] - 1s 21us/step - loss: 0.1000 - acc: 0.8138 - val_loss: 0.0983 - val_acc: 0.8129\n",
            "Epoch 35/50\n",
            "60000/60000 [==============================] - 1s 22us/step - loss: 0.0998 - acc: 0.8138 - val_loss: 0.0981 - val_acc: 0.8129\n",
            "Epoch 36/50\n",
            "60000/60000 [==============================] - 1s 23us/step - loss: 0.0996 - acc: 0.8138 - val_loss: 0.0979 - val_acc: 0.8129\n",
            "Epoch 37/50\n",
            "60000/60000 [==============================] - 1s 22us/step - loss: 0.0994 - acc: 0.8138 - val_loss: 0.0978 - val_acc: 0.8129\n",
            "Epoch 38/50\n",
            "60000/60000 [==============================] - 1s 21us/step - loss: 0.0993 - acc: 0.8138 - val_loss: 0.0976 - val_acc: 0.8129\n",
            "Epoch 39/50\n",
            "60000/60000 [==============================] - 1s 22us/step - loss: 0.0991 - acc: 0.8138 - val_loss: 0.0974 - val_acc: 0.8129\n",
            "Epoch 40/50\n",
            "60000/60000 [==============================] - 1s 21us/step - loss: 0.0989 - acc: 0.8138 - val_loss: 0.0973 - val_acc: 0.8129\n",
            "Epoch 41/50\n",
            "60000/60000 [==============================] - 1s 22us/step - loss: 0.0988 - acc: 0.8139 - val_loss: 0.0971 - val_acc: 0.8130\n",
            "Epoch 42/50\n",
            "60000/60000 [==============================] - 1s 22us/step - loss: 0.0986 - acc: 0.8139 - val_loss: 0.0970 - val_acc: 0.8130\n",
            "Epoch 43/50\n",
            "60000/60000 [==============================] - 1s 23us/step - loss: 0.0985 - acc: 0.8139 - val_loss: 0.0968 - val_acc: 0.8130\n",
            "Epoch 44/50\n",
            "60000/60000 [==============================] - 1s 22us/step - loss: 0.0984 - acc: 0.8139 - val_loss: 0.0967 - val_acc: 0.8130\n",
            "Epoch 45/50\n",
            "60000/60000 [==============================] - 1s 22us/step - loss: 0.0982 - acc: 0.8139 - val_loss: 0.0966 - val_acc: 0.8130\n",
            "Epoch 46/50\n",
            "60000/60000 [==============================] - 1s 22us/step - loss: 0.0981 - acc: 0.8139 - val_loss: 0.0965 - val_acc: 0.8130\n",
            "Epoch 47/50\n",
            "60000/60000 [==============================] - 1s 21us/step - loss: 0.0980 - acc: 0.8139 - val_loss: 0.0963 - val_acc: 0.8130\n",
            "Epoch 48/50\n",
            "60000/60000 [==============================] - 1s 22us/step - loss: 0.0979 - acc: 0.8139 - val_loss: 0.0962 - val_acc: 0.8131\n",
            "Epoch 49/50\n",
            "60000/60000 [==============================] - 1s 22us/step - loss: 0.0977 - acc: 0.8139 - val_loss: 0.0961 - val_acc: 0.8130\n",
            "Epoch 50/50\n",
            "60000/60000 [==============================] - 1s 22us/step - loss: 0.0976 - acc: 0.8139 - val_loss: 0.0960 - val_acc: 0.8130\n"
          ],
          "name": "stdout"
        }
      ]
    },
    {
      "cell_type": "code",
      "metadata": {
        "id": "wyeiQrJyfPxj",
        "colab_type": "code",
        "outputId": "23089668-9926-4385-f8b5-3da598524fb6",
        "colab": {
          "base_uri": "https://localhost:8080/",
          "height": 68
        }
      },
      "source": [
        "#To evaluate our autoencoder model  and show the validation result \n",
        "score,acc = Q7_autoencoder.evaluate(X_test_Q7, X_test_Q7,verbose=2)\n",
        "print(\"Loss Score: %.2f\" % (score))\n",
        "print(\"Accuracy: %.2f%%\" % (acc*100))\n",
        "print(Q7_autoencoder.metrics_names)"
      ],
      "execution_count": 52,
      "outputs": [
        {
          "output_type": "stream",
          "text": [
            "Loss Score: 0.10\n",
            "Accuracy: 81.30%\n",
            "['loss', 'acc']\n"
          ],
          "name": "stdout"
        }
      ]
    },
    {
      "cell_type": "code",
      "metadata": {
        "id": "H2GRrWDXfVjB",
        "colab_type": "code",
        "outputId": "362ca037-6884-4f3e-8013-c3d3f6970079",
        "colab": {
          "base_uri": "https://localhost:8080/",
          "height": 312
        }
      },
      "source": [
        "#plot the loss and accuracy for training data \n",
        "import matplotlib.pyplot as plt\n",
        "plt.figure()\n",
        "plt.plot(np.arange(0, 50), Q7_history.history[\"loss\"], label=\"training Loss\")\n",
        "plt.plot(np.arange(0, 50), Q7_history.history[\"acc\"], label=\"training accuracy\")\n",
        "plt.title(\"the loss and accuracy for training data\")\n",
        "plt.xlabel(\"Epoch #\")\n",
        "plt.ylabel(\"Loss/Accuracy\")\n",
        "plt.legend(loc=\"best\")"
      ],
      "execution_count": 53,
      "outputs": [
        {
          "output_type": "execute_result",
          "data": {
            "text/plain": [
              "<matplotlib.legend.Legend at 0x7fd7fb77be10>"
            ]
          },
          "metadata": {
            "tags": []
          },
          "execution_count": 53
        },
        {
          "output_type": "display_data",
          "data": {
            "image/png": "[encoded data removed]",
            "text/plain": [
              "<Figure size 432x288 with 1 Axes>"
            ]
          },
          "metadata": {
            "tags": []
          }
        }
      ]
    },
    {
      "cell_type": "code",
      "metadata": {
        "id": "TPcHKFrlfcaQ",
        "colab_type": "code",
        "outputId": "43ea4967-a4ae-4ed5-9ee9-92b0228f8368",
        "colab": {
          "base_uri": "https://localhost:8080/",
          "height": 312
        }
      },
      "source": [
        "#plot the loss and accuracy for validation data. \n",
        "plt.figure()\n",
        "plt.plot(np.arange(0, 50), Q7_history.history[\"val_loss\"], label=\"validation loss\")\n",
        "plt.plot(np.arange(0, 50), Q7_history.history[\"val_acc\"], label=\"validation accuracy\")\n",
        "\n",
        "plt.title(\"the loss and accuracy for validation data\")\n",
        "plt.xlabel(\"Epoch #\")\n",
        "plt.ylabel(\"Loss/Accuracy\")\n",
        "plt.legend(loc=\"best\")"
      ],
      "execution_count": 54,
      "outputs": [
        {
          "output_type": "execute_result",
          "data": {
            "text/plain": [
              "<matplotlib.legend.Legend at 0x7fd7fb4dfe48>"
            ]
          },
          "metadata": {
            "tags": []
          },
          "execution_count": 54
        },
        {
          "output_type": "display_data",
          "data": {
            "image/png": "[encoded data removed]",
            "text/plain": [
              "<Figure size 432x288 with 1 Axes>"
            ]
          },
          "metadata": {
            "tags": []
          }
        }
      ]
    },
    {
      "cell_type": "code",
      "metadata": {
        "id": "lAwwXVj7fmof",
        "colab_type": "code",
        "outputId": "ea90903b-0900-4c00-c8df-6b6b113554b2",
        "colab": {
          "base_uri": "https://localhost:8080/",
          "height": 547
        }
      },
      "source": [
        "#show the encoding and decoding on a particular image.\n",
        "\n",
        "#To predict a new image using the encoder model first\n",
        "Q7_encoded_image =  Q7_encoder.predict(X_test_Q7[[5999],:])\n",
        "\n",
        "#To predict the encoded image using the decoder model \n",
        "Q7_decoded_imgs = Q7_decoder.predict(Q7_encoded_image)\n",
        "\n",
        "\n",
        "#To dispaly the input image \n",
        "print(\"The input image is: \")\n",
        "plt.imshow(X_test_Q7[5999].reshape((28, 28)), cmap = 'gray')\n",
        "plt.show()\n",
        "\n",
        "#To display the decoded image \n",
        "print(\"The input image: \")\n",
        "plt.imshow(Q7_decoded_imgs[0].reshape((28, 28)), cmap = 'gray')\n",
        "plt.show()"
      ],
      "execution_count": 57,
      "outputs": [
        {
          "output_type": "stream",
          "text": [
            "The input image is: \n"
          ],
          "name": "stdout"
        },
        {
          "output_type": "display_data",
          "data": {
            "image/png": "[encoded data removed]",
            "text/plain": [
              "<Figure size 432x288 with 1 Axes>"
            ]
          },
          "metadata": {
            "tags": []
          }
        },
        {
          "output_type": "stream",
          "text": [
            "The input image: \n"
          ],
          "name": "stdout"
        },
        {
          "output_type": "display_data",
          "data": {
            "image/png": "[encoded data removed]",
            "text/plain": [
              "<Figure size 432x288 with 1 Axes>"
            ]
          },
          "metadata": {
            "tags": []
          }
        }
      ]
    }
  ]
}