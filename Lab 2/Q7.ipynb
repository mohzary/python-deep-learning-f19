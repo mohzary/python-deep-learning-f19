{
  "nbformat": 4,
  "nbformat_minor": 0,
  "metadata": {
    "colab": {
      "name": "Q7.ipynb",
      "provenance": [],
      "include_colab_link": true
    },
    "kernelspec": {
      "name": "python3",
      "display_name": "Python 3"
    },
    "accelerator": "GPU"
  },
  "cells": [
    {
      "cell_type": "markdown",
      "metadata": {
        "id": "view-in-github",
        "colab_type": "text"
      },
      "source": [
        "<a href=\"https://colab.research.google.com/github/mohzary/python-deep-learning-f19/blob/master/Lab%202/Q7.ipynb\" target=\"_parent\"><img src=\"https://colab.research.google.com/assets/colab-badge.svg\" alt=\"Open In Colab\"/></a>"
      ]
    },
    {
      "cell_type": "code",
      "metadata": {
        "id": "XBrUt6oXeE3D",
        "colab_type": "code",
        "colab": {}
      },
      "source": [
        "# To immport layers that we need to solve q6\n",
        "from keras.layers import Input, Dense\n",
        "\n",
        "# In this question we choose to use functional API that why we import model\n",
        "from keras.models import Model\n",
        "\n",
        "# this is the size of our encoded layer\n",
        "Q7_encoding_dim_size = 32  \n",
        "\n",
        "# our input layer it is of size 784 and its type is Input, we call it Q7_input_img_layer \n",
        "Q7_input_img_layer = Input(shape=(3072,))\n",
        "\n",
        "# our \"encoder\" layer it is of size 32 since it must be smaller than the input layer, its type is Dense \n",
        "Q7_encoded_Layer = Dense(Q7_encoding_dim_size, activation='relu')(Q7_input_img_layer)\n",
        "\n",
        "# # our \"decoder\" layer it is of size 3072 since it must be similar to the input layer, its type is Dense \n",
        "Q7_decoded_Layer= Dense(3072, activation='sigmoid')(Q7_encoded_Layer)\n",
        "\n",
        "# to map input image to its reconstruction image\n",
        "Q7_autoencoder = Model(Q7_input_img_layer, Q7_decoded_Layer)\n",
        "\n",
        "# To map an input image to its encoded output\n",
        "Q7_encoder = Model(Q7_input_img_layer, Q7_encoded_Layer)\n",
        "\n",
        "# To make a placeholder for an encodedlayer input\n",
        "Q7_encoded_input = Input(shape=(Q7_encoding_dim_size,))\n",
        "\n",
        "# To get the last layer of the Q7_autoencoder model\n",
        "Q7_decoder_layer = Q7_autoencoder.layers[-1]\n",
        "\n",
        "# To create the decoder model\n",
        "Q7_decoder = Model(Q7_encoded_input, Q7_decoder_layer(Q7_encoded_input))\n",
        "\n",
        "# To compile our model\n",
        "Q7_autoencoder.compile(optimizer='adadelta', loss='binary_crossentropy', metrics=['accuracy'])"
      ],
      "execution_count": 0,
      "outputs": []
    },
    {
      "cell_type": "code",
      "metadata": {
        "id": "mCcK0Ddvembf",
        "colab_type": "code",
        "colab": {}
      },
      "source": [
        "# To load images dataset (Cifar10)\n",
        "\n",
        "from keras.datasets import cifar10\n",
        "import numpy as np\n",
        "\n",
        "# to load the dataset\n",
        "(X_train_Q7, _), (X_test_Q7, _) = cifar10.load_data()\n",
        "\n",
        "#To normalize images \n",
        "X_train_Q7 = X_train_Q7.astype('float32') / 255.\n",
        "X_test_Q7 = X_test_Q7.astype('float32') / 255.\n",
        "\n",
        "# To reshape the image matrics\n",
        "X_train_Q7 = X_train_Q7.reshape((len(X_train_Q7), np.prod(X_train_Q7.shape[1:])))\n",
        "X_test_Q7 = X_test_Q7.reshape((len(X_test_Q7), np.prod(X_test_Q7.shape[1:])))"
      ],
      "execution_count": 0,
      "outputs": []
    },
    {
      "cell_type": "code",
      "metadata": {
        "id": "AmQ_nZP0etRX",
        "colab_type": "code",
        "outputId": "1f1ee54d-242c-45c4-f056-f485810066c0",
        "colab": {
          "base_uri": "https://localhost:8080/",
          "height": 1000
        }
      },
      "source": [
        "# To start the trainig we use history variable to save trainig data so we can visualize the training and validition results later\n",
        "Q7_history = Q7_autoencoder.fit(X_train_Q7, X_train_Q7,\n",
        "                epochs=150,\n",
        "                batch_size=256,\n",
        "                shuffle=True,\n",
        "                validation_data=(X_test_Q7, X_test_Q7))\n"
      ],
      "execution_count": 13,
      "outputs": [
        {
          "output_type": "stream",
          "text": [
            "Train on 50000 samples, validate on 10000 samples\n",
            "Epoch 1/150\n",
            "50000/50000 [==============================] - 1s 28us/step - loss: 0.6118 - acc: 0.0119 - val_loss: 0.6170 - val_acc: 0.0120\n",
            "Epoch 2/150\n",
            "50000/50000 [==============================] - 1s 28us/step - loss: 0.6109 - acc: 0.0119 - val_loss: 0.6107 - val_acc: 0.0120\n",
            "Epoch 3/150\n",
            "50000/50000 [==============================] - 1s 28us/step - loss: 0.6109 - acc: 0.0119 - val_loss: 0.6084 - val_acc: 0.0120\n",
            "Epoch 4/150\n",
            "50000/50000 [==============================] - 1s 29us/step - loss: 0.6096 - acc: 0.0119 - val_loss: 0.6061 - val_acc: 0.0120\n",
            "Epoch 5/150\n",
            "50000/50000 [==============================] - 1s 29us/step - loss: 0.6089 - acc: 0.0119 - val_loss: 0.6131 - val_acc: 0.0118\n",
            "Epoch 6/150\n",
            "50000/50000 [==============================] - 1s 28us/step - loss: 0.6092 - acc: 0.0119 - val_loss: 0.6141 - val_acc: 0.0120\n",
            "Epoch 7/150\n",
            "50000/50000 [==============================] - 1s 28us/step - loss: 0.6088 - acc: 0.0119 - val_loss: 0.6104 - val_acc: 0.0120\n",
            "Epoch 8/150\n",
            "50000/50000 [==============================] - 1s 29us/step - loss: 0.6082 - acc: 0.0119 - val_loss: 0.6062 - val_acc: 0.0120\n",
            "Epoch 9/150\n",
            "50000/50000 [==============================] - 1s 29us/step - loss: 0.6059 - acc: 0.0119 - val_loss: 0.6103 - val_acc: 0.0120\n",
            "Epoch 10/150\n",
            "50000/50000 [==============================] - 1s 28us/step - loss: 0.6075 - acc: 0.0119 - val_loss: 0.6044 - val_acc: 0.0120\n",
            "Epoch 11/150\n",
            "50000/50000 [==============================] - 1s 28us/step - loss: 0.6064 - acc: 0.0119 - val_loss: 0.6091 - val_acc: 0.0120\n",
            "Epoch 12/150\n",
            "50000/50000 [==============================] - 1s 28us/step - loss: 0.6064 - acc: 0.0119 - val_loss: 0.6060 - val_acc: 0.0120\n",
            "Epoch 13/150\n",
            "50000/50000 [==============================] - 1s 27us/step - loss: 0.6053 - acc: 0.0119 - val_loss: 0.6091 - val_acc: 0.0120\n",
            "Epoch 14/150\n",
            "50000/50000 [==============================] - 1s 29us/step - loss: 0.6054 - acc: 0.0119 - val_loss: 0.6008 - val_acc: 0.0120\n",
            "Epoch 15/150\n",
            "50000/50000 [==============================] - 1s 29us/step - loss: 0.6043 - acc: 0.0119 - val_loss: 0.6053 - val_acc: 0.0120\n",
            "Epoch 16/150\n",
            "50000/50000 [==============================] - 1s 29us/step - loss: 0.6048 - acc: 0.0119 - val_loss: 0.6010 - val_acc: 0.0120\n",
            "Epoch 17/150\n",
            "50000/50000 [==============================] - 1s 28us/step - loss: 0.6038 - acc: 0.0119 - val_loss: 0.5991 - val_acc: 0.0120\n",
            "Epoch 18/150\n",
            "50000/50000 [==============================] - 1s 28us/step - loss: 0.6028 - acc: 0.0119 - val_loss: 0.6009 - val_acc: 0.0120\n",
            "Epoch 19/150\n",
            "50000/50000 [==============================] - 1s 28us/step - loss: 0.6034 - acc: 0.0119 - val_loss: 0.6021 - val_acc: 0.0120\n",
            "Epoch 20/150\n",
            "50000/50000 [==============================] - 1s 28us/step - loss: 0.6034 - acc: 0.0119 - val_loss: 0.5993 - val_acc: 0.0120\n",
            "Epoch 21/150\n",
            "50000/50000 [==============================] - 1s 28us/step - loss: 0.6025 - acc: 0.0119 - val_loss: 0.6093 - val_acc: 0.0119\n",
            "Epoch 22/150\n",
            "50000/50000 [==============================] - 1s 29us/step - loss: 0.6012 - acc: 0.0119 - val_loss: 0.6009 - val_acc: 0.0120\n",
            "Epoch 23/150\n",
            "50000/50000 [==============================] - 1s 28us/step - loss: 0.6023 - acc: 0.0119 - val_loss: 0.6036 - val_acc: 0.0120\n",
            "Epoch 24/150\n",
            "50000/50000 [==============================] - 1s 28us/step - loss: 0.6008 - acc: 0.0120 - val_loss: 0.6024 - val_acc: 0.0120\n",
            "Epoch 25/150\n",
            "50000/50000 [==============================] - 1s 28us/step - loss: 0.6010 - acc: 0.0120 - val_loss: 0.6048 - val_acc: 0.0119\n",
            "Epoch 26/150\n",
            "50000/50000 [==============================] - 1s 27us/step - loss: 0.6010 - acc: 0.0120 - val_loss: 0.6027 - val_acc: 0.0120\n",
            "Epoch 27/150\n",
            "50000/50000 [==============================] - 1s 29us/step - loss: 0.6005 - acc: 0.0120 - val_loss: 0.5991 - val_acc: 0.0120\n",
            "Epoch 28/150\n",
            "50000/50000 [==============================] - 1s 29us/step - loss: 0.5997 - acc: 0.0120 - val_loss: 0.5990 - val_acc: 0.0120\n",
            "Epoch 29/150\n",
            "50000/50000 [==============================] - 1s 29us/step - loss: 0.5997 - acc: 0.0120 - val_loss: 0.5989 - val_acc: 0.0121\n",
            "Epoch 30/150\n",
            "50000/50000 [==============================] - 1s 27us/step - loss: 0.5996 - acc: 0.0120 - val_loss: 0.6135 - val_acc: 0.0120\n",
            "Epoch 31/150\n",
            "50000/50000 [==============================] - 1s 28us/step - loss: 0.5991 - acc: 0.0120 - val_loss: 0.5979 - val_acc: 0.0121\n",
            "Epoch 32/150\n",
            "50000/50000 [==============================] - 1s 28us/step - loss: 0.5987 - acc: 0.0120 - val_loss: 0.6024 - val_acc: 0.0121\n",
            "Epoch 33/150\n",
            "50000/50000 [==============================] - 1s 29us/step - loss: 0.5986 - acc: 0.0120 - val_loss: 0.5944 - val_acc: 0.0121\n",
            "Epoch 34/150\n",
            "50000/50000 [==============================] - 1s 29us/step - loss: 0.5979 - acc: 0.0120 - val_loss: 0.5987 - val_acc: 0.0121\n",
            "Epoch 35/150\n",
            "50000/50000 [==============================] - 1s 28us/step - loss: 0.5979 - acc: 0.0120 - val_loss: 0.5983 - val_acc: 0.0121\n",
            "Epoch 36/150\n",
            "50000/50000 [==============================] - 1s 28us/step - loss: 0.5978 - acc: 0.0120 - val_loss: 0.5959 - val_acc: 0.0121\n",
            "Epoch 37/150\n",
            "50000/50000 [==============================] - 1s 28us/step - loss: 0.5975 - acc: 0.0120 - val_loss: 0.5961 - val_acc: 0.0121\n",
            "Epoch 38/150\n",
            "50000/50000 [==============================] - 1s 29us/step - loss: 0.5971 - acc: 0.0120 - val_loss: 0.6088 - val_acc: 0.0120\n",
            "Epoch 39/150\n",
            "50000/50000 [==============================] - 1s 28us/step - loss: 0.5966 - acc: 0.0120 - val_loss: 0.6025 - val_acc: 0.0121\n",
            "Epoch 40/150\n",
            "50000/50000 [==============================] - 1s 28us/step - loss: 0.5970 - acc: 0.0120 - val_loss: 0.6021 - val_acc: 0.0121\n",
            "Epoch 41/150\n",
            "50000/50000 [==============================] - 1s 28us/step - loss: 0.5962 - acc: 0.0120 - val_loss: 0.6006 - val_acc: 0.0121\n",
            "Epoch 42/150\n",
            "50000/50000 [==============================] - 1s 28us/step - loss: 0.5967 - acc: 0.0120 - val_loss: 0.6045 - val_acc: 0.0121\n",
            "Epoch 43/150\n",
            "50000/50000 [==============================] - 1s 28us/step - loss: 0.5954 - acc: 0.0120 - val_loss: 0.5951 - val_acc: 0.0120\n",
            "Epoch 44/150\n",
            "50000/50000 [==============================] - 1s 29us/step - loss: 0.5957 - acc: 0.0120 - val_loss: 0.5938 - val_acc: 0.0120\n",
            "Epoch 45/150\n",
            "50000/50000 [==============================] - 1s 29us/step - loss: 0.5959 - acc: 0.0120 - val_loss: 0.5917 - val_acc: 0.0120\n",
            "Epoch 46/150\n",
            "50000/50000 [==============================] - 1s 29us/step - loss: 0.5951 - acc: 0.0120 - val_loss: 0.5973 - val_acc: 0.0121\n",
            "Epoch 47/150\n",
            "50000/50000 [==============================] - 1s 28us/step - loss: 0.5953 - acc: 0.0120 - val_loss: 0.5941 - val_acc: 0.0121\n",
            "Epoch 48/150\n",
            "50000/50000 [==============================] - 1s 28us/step - loss: 0.5947 - acc: 0.0120 - val_loss: 0.5931 - val_acc: 0.0120\n",
            "Epoch 49/150\n",
            "50000/50000 [==============================] - 1s 29us/step - loss: 0.5944 - acc: 0.0120 - val_loss: 0.5933 - val_acc: 0.0120\n",
            "Epoch 50/150\n",
            "50000/50000 [==============================] - 1s 28us/step - loss: 0.5947 - acc: 0.0120 - val_loss: 0.5937 - val_acc: 0.0120\n",
            "Epoch 51/150\n",
            "50000/50000 [==============================] - 1s 28us/step - loss: 0.5948 - acc: 0.0120 - val_loss: 0.5928 - val_acc: 0.0120\n",
            "Epoch 52/150\n",
            "50000/50000 [==============================] - 1s 28us/step - loss: 0.5943 - acc: 0.0120 - val_loss: 0.5974 - val_acc: 0.0120\n",
            "Epoch 53/150\n",
            "50000/50000 [==============================] - 1s 28us/step - loss: 0.5944 - acc: 0.0120 - val_loss: 0.5942 - val_acc: 0.0120\n",
            "Epoch 54/150\n",
            "50000/50000 [==============================] - 1s 28us/step - loss: 0.5937 - acc: 0.0120 - val_loss: 0.5932 - val_acc: 0.0120\n",
            "Epoch 55/150\n",
            "50000/50000 [==============================] - 1s 28us/step - loss: 0.5937 - acc: 0.0120 - val_loss: 0.5992 - val_acc: 0.0120\n",
            "Epoch 56/150\n",
            "50000/50000 [==============================] - 1s 29us/step - loss: 0.5938 - acc: 0.0120 - val_loss: 0.5935 - val_acc: 0.0120\n",
            "Epoch 57/150\n",
            "50000/50000 [==============================] - 1s 27us/step - loss: 0.5932 - acc: 0.0120 - val_loss: 0.5932 - val_acc: 0.0120\n",
            "Epoch 58/150\n",
            "50000/50000 [==============================] - 1s 28us/step - loss: 0.5936 - acc: 0.0120 - val_loss: 0.5948 - val_acc: 0.0120\n",
            "Epoch 59/150\n",
            "50000/50000 [==============================] - 1s 29us/step - loss: 0.5926 - acc: 0.0120 - val_loss: 0.5967 - val_acc: 0.0120\n",
            "Epoch 60/150\n",
            "50000/50000 [==============================] - 1s 28us/step - loss: 0.5931 - acc: 0.0120 - val_loss: 0.5959 - val_acc: 0.0120\n",
            "Epoch 61/150\n",
            "50000/50000 [==============================] - 1s 28us/step - loss: 0.5933 - acc: 0.0120 - val_loss: 0.5948 - val_acc: 0.0120\n",
            "Epoch 62/150\n",
            "50000/50000 [==============================] - 1s 29us/step - loss: 0.5928 - acc: 0.0120 - val_loss: 0.5961 - val_acc: 0.0120\n",
            "Epoch 63/150\n",
            "50000/50000 [==============================] - 1s 29us/step - loss: 0.5926 - acc: 0.0120 - val_loss: 0.5940 - val_acc: 0.0120\n",
            "Epoch 64/150\n",
            "50000/50000 [==============================] - 1s 28us/step - loss: 0.5925 - acc: 0.0120 - val_loss: 0.5926 - val_acc: 0.0120\n",
            "Epoch 65/150\n",
            "50000/50000 [==============================] - 2s 30us/step - loss: 0.5922 - acc: 0.0120 - val_loss: 0.5929 - val_acc: 0.0120\n",
            "Epoch 66/150\n",
            "50000/50000 [==============================] - 1s 29us/step - loss: 0.5922 - acc: 0.0120 - val_loss: 0.5913 - val_acc: 0.0120\n",
            "Epoch 67/150\n",
            "50000/50000 [==============================] - 1s 30us/step - loss: 0.5922 - acc: 0.0120 - val_loss: 0.5932 - val_acc: 0.0120\n",
            "Epoch 68/150\n",
            "50000/50000 [==============================] - 1s 30us/step - loss: 0.5918 - acc: 0.0120 - val_loss: 0.5962 - val_acc: 0.0120\n",
            "Epoch 69/150\n",
            "50000/50000 [==============================] - 1s 30us/step - loss: 0.5916 - acc: 0.0120 - val_loss: 0.5920 - val_acc: 0.0120\n",
            "Epoch 70/150\n",
            "50000/50000 [==============================] - 1s 29us/step - loss: 0.5916 - acc: 0.0120 - val_loss: 0.5903 - val_acc: 0.0121\n",
            "Epoch 71/150\n",
            "50000/50000 [==============================] - 1s 29us/step - loss: 0.5913 - acc: 0.0120 - val_loss: 0.5915 - val_acc: 0.0120\n",
            "Epoch 72/150\n",
            "50000/50000 [==============================] - 1s 28us/step - loss: 0.5917 - acc: 0.0120 - val_loss: 0.5913 - val_acc: 0.0120\n",
            "Epoch 73/150\n",
            "50000/50000 [==============================] - 1s 29us/step - loss: 0.5911 - acc: 0.0120 - val_loss: 0.5927 - val_acc: 0.0120\n",
            "Epoch 74/150\n",
            "50000/50000 [==============================] - 1s 29us/step - loss: 0.5910 - acc: 0.0120 - val_loss: 0.5909 - val_acc: 0.0120\n",
            "Epoch 75/150\n",
            "50000/50000 [==============================] - 2s 31us/step - loss: 0.5910 - acc: 0.0120 - val_loss: 0.5908 - val_acc: 0.0121\n",
            "Epoch 76/150\n",
            "50000/50000 [==============================] - 1s 28us/step - loss: 0.5909 - acc: 0.0120 - val_loss: 0.5923 - val_acc: 0.0120\n",
            "Epoch 77/150\n",
            "50000/50000 [==============================] - 1s 28us/step - loss: 0.5907 - acc: 0.0120 - val_loss: 0.5890 - val_acc: 0.0121\n",
            "Epoch 78/150\n",
            "50000/50000 [==============================] - 1s 28us/step - loss: 0.5904 - acc: 0.0120 - val_loss: 0.5891 - val_acc: 0.0121\n",
            "Epoch 79/150\n",
            "50000/50000 [==============================] - 1s 28us/step - loss: 0.5908 - acc: 0.0120 - val_loss: 0.5918 - val_acc: 0.0120\n",
            "Epoch 80/150\n",
            "50000/50000 [==============================] - 1s 29us/step - loss: 0.5904 - acc: 0.0120 - val_loss: 0.5906 - val_acc: 0.0121\n",
            "Epoch 81/150\n",
            "50000/50000 [==============================] - 1s 28us/step - loss: 0.5905 - acc: 0.0120 - val_loss: 0.5905 - val_acc: 0.0121\n",
            "Epoch 82/150\n",
            "50000/50000 [==============================] - 1s 28us/step - loss: 0.5904 - acc: 0.0120 - val_loss: 0.5911 - val_acc: 0.0121\n",
            "Epoch 83/150\n",
            "50000/50000 [==============================] - 1s 28us/step - loss: 0.5900 - acc: 0.0120 - val_loss: 0.5906 - val_acc: 0.0121\n",
            "Epoch 84/150\n",
            "50000/50000 [==============================] - 1s 29us/step - loss: 0.5898 - acc: 0.0120 - val_loss: 0.5901 - val_acc: 0.0121\n",
            "Epoch 85/150\n",
            "50000/50000 [==============================] - 1s 28us/step - loss: 0.5900 - acc: 0.0120 - val_loss: 0.5889 - val_acc: 0.0121\n",
            "Epoch 86/150\n",
            "50000/50000 [==============================] - 1s 28us/step - loss: 0.5896 - acc: 0.0120 - val_loss: 0.5887 - val_acc: 0.0121\n",
            "Epoch 87/150\n",
            "50000/50000 [==============================] - 1s 28us/step - loss: 0.5897 - acc: 0.0120 - val_loss: 0.5892 - val_acc: 0.0121\n",
            "Epoch 88/150\n",
            "50000/50000 [==============================] - 1s 28us/step - loss: 0.5897 - acc: 0.0120 - val_loss: 0.5884 - val_acc: 0.0121\n",
            "Epoch 89/150\n",
            "50000/50000 [==============================] - 1s 29us/step - loss: 0.5893 - acc: 0.0120 - val_loss: 0.5914 - val_acc: 0.0120\n",
            "Epoch 90/150\n",
            "50000/50000 [==============================] - 1s 28us/step - loss: 0.5897 - acc: 0.0120 - val_loss: 0.5925 - val_acc: 0.0120\n",
            "Epoch 91/150\n",
            "50000/50000 [==============================] - 1s 28us/step - loss: 0.5892 - acc: 0.0120 - val_loss: 0.5892 - val_acc: 0.0121\n",
            "Epoch 92/150\n",
            "50000/50000 [==============================] - 1s 29us/step - loss: 0.5893 - acc: 0.0120 - val_loss: 0.5894 - val_acc: 0.0121\n",
            "Epoch 93/150\n",
            "50000/50000 [==============================] - 1s 28us/step - loss: 0.5892 - acc: 0.0120 - val_loss: 0.5903 - val_acc: 0.0121\n",
            "Epoch 94/150\n",
            "50000/50000 [==============================] - 1s 29us/step - loss: 0.5893 - acc: 0.0120 - val_loss: 0.5882 - val_acc: 0.0121\n",
            "Epoch 95/150\n",
            "50000/50000 [==============================] - 1s 28us/step - loss: 0.5888 - acc: 0.0120 - val_loss: 0.5904 - val_acc: 0.0121\n",
            "Epoch 96/150\n",
            "50000/50000 [==============================] - 1s 30us/step - loss: 0.5889 - acc: 0.0120 - val_loss: 0.5902 - val_acc: 0.0121\n",
            "Epoch 97/150\n",
            "50000/50000 [==============================] - 1s 28us/step - loss: 0.5890 - acc: 0.0120 - val_loss: 0.5888 - val_acc: 0.0121\n",
            "Epoch 98/150\n",
            "50000/50000 [==============================] - 1s 28us/step - loss: 0.5887 - acc: 0.0120 - val_loss: 0.5923 - val_acc: 0.0120\n",
            "Epoch 99/150\n",
            "50000/50000 [==============================] - 1s 27us/step - loss: 0.5885 - acc: 0.0120 - val_loss: 0.5883 - val_acc: 0.0121\n",
            "Epoch 100/150\n",
            "50000/50000 [==============================] - 1s 28us/step - loss: 0.5888 - acc: 0.0120 - val_loss: 0.5899 - val_acc: 0.0121\n",
            "Epoch 101/150\n",
            "50000/50000 [==============================] - 1s 29us/step - loss: 0.5888 - acc: 0.0120 - val_loss: 0.5885 - val_acc: 0.0121\n",
            "Epoch 102/150\n",
            "50000/50000 [==============================] - 1s 27us/step - loss: 0.5885 - acc: 0.0120 - val_loss: 0.5893 - val_acc: 0.0121\n",
            "Epoch 103/150\n",
            "50000/50000 [==============================] - 1s 27us/step - loss: 0.5885 - acc: 0.0120 - val_loss: 0.5898 - val_acc: 0.0121\n",
            "Epoch 104/150\n",
            "50000/50000 [==============================] - 1s 29us/step - loss: 0.5884 - acc: 0.0120 - val_loss: 0.5890 - val_acc: 0.0121\n",
            "Epoch 105/150\n",
            "50000/50000 [==============================] - 1s 28us/step - loss: 0.5880 - acc: 0.0120 - val_loss: 0.5889 - val_acc: 0.0121\n",
            "Epoch 106/150\n",
            "50000/50000 [==============================] - 1s 28us/step - loss: 0.5883 - acc: 0.0120 - val_loss: 0.5895 - val_acc: 0.0121\n",
            "Epoch 107/150\n",
            "50000/50000 [==============================] - 1s 28us/step - loss: 0.5883 - acc: 0.0120 - val_loss: 0.5904 - val_acc: 0.0121\n",
            "Epoch 108/150\n",
            "50000/50000 [==============================] - 1s 27us/step - loss: 0.5882 - acc: 0.0120 - val_loss: 0.5932 - val_acc: 0.0121\n",
            "Epoch 109/150\n",
            "50000/50000 [==============================] - 1s 28us/step - loss: 0.5880 - acc: 0.0120 - val_loss: 0.5891 - val_acc: 0.0121\n",
            "Epoch 110/150\n",
            "50000/50000 [==============================] - 1s 29us/step - loss: 0.5878 - acc: 0.0120 - val_loss: 0.5886 - val_acc: 0.0121\n",
            "Epoch 111/150\n",
            "50000/50000 [==============================] - 1s 29us/step - loss: 0.5880 - acc: 0.0120 - val_loss: 0.5890 - val_acc: 0.0121\n",
            "Epoch 112/150\n",
            "50000/50000 [==============================] - 1s 28us/step - loss: 0.5881 - acc: 0.0120 - val_loss: 0.5891 - val_acc: 0.0121\n",
            "Epoch 113/150\n",
            "50000/50000 [==============================] - 1s 28us/step - loss: 0.5880 - acc: 0.0120 - val_loss: 0.5870 - val_acc: 0.0121\n",
            "Epoch 114/150\n",
            "50000/50000 [==============================] - 1s 28us/step - loss: 0.5878 - acc: 0.0120 - val_loss: 0.5898 - val_acc: 0.0121\n",
            "Epoch 115/150\n",
            "50000/50000 [==============================] - 1s 28us/step - loss: 0.5879 - acc: 0.0120 - val_loss: 0.5877 - val_acc: 0.0121\n",
            "Epoch 116/150\n",
            "50000/50000 [==============================] - 1s 29us/step - loss: 0.5877 - acc: 0.0120 - val_loss: 0.5892 - val_acc: 0.0121\n",
            "Epoch 117/150\n",
            "50000/50000 [==============================] - 1s 29us/step - loss: 0.5875 - acc: 0.0120 - val_loss: 0.5879 - val_acc: 0.0121\n",
            "Epoch 118/150\n",
            "50000/50000 [==============================] - 1s 29us/step - loss: 0.5878 - acc: 0.0120 - val_loss: 0.5886 - val_acc: 0.0121\n",
            "Epoch 119/150\n",
            "50000/50000 [==============================] - 1s 30us/step - loss: 0.5876 - acc: 0.0120 - val_loss: 0.5895 - val_acc: 0.0121\n",
            "Epoch 120/150\n",
            "50000/50000 [==============================] - 1s 28us/step - loss: 0.5875 - acc: 0.0120 - val_loss: 0.5878 - val_acc: 0.0121\n",
            "Epoch 121/150\n",
            "50000/50000 [==============================] - 1s 29us/step - loss: 0.5875 - acc: 0.0120 - val_loss: 0.5901 - val_acc: 0.0121\n",
            "Epoch 122/150\n",
            "50000/50000 [==============================] - 1s 29us/step - loss: 0.5875 - acc: 0.0120 - val_loss: 0.5871 - val_acc: 0.0121\n",
            "Epoch 123/150\n",
            "50000/50000 [==============================] - 1s 28us/step - loss: 0.5875 - acc: 0.0120 - val_loss: 0.5882 - val_acc: 0.0121\n",
            "Epoch 124/150\n",
            "50000/50000 [==============================] - 1s 27us/step - loss: 0.5874 - acc: 0.0120 - val_loss: 0.5884 - val_acc: 0.0121\n",
            "Epoch 125/150\n",
            "50000/50000 [==============================] - 1s 28us/step - loss: 0.5871 - acc: 0.0120 - val_loss: 0.5894 - val_acc: 0.0121\n",
            "Epoch 126/150\n",
            "50000/50000 [==============================] - 1s 29us/step - loss: 0.5873 - acc: 0.0120 - val_loss: 0.5880 - val_acc: 0.0121\n",
            "Epoch 127/150\n",
            "50000/50000 [==============================] - 1s 28us/step - loss: 0.5873 - acc: 0.0120 - val_loss: 0.5907 - val_acc: 0.0121\n",
            "Epoch 128/150\n",
            "50000/50000 [==============================] - 1s 28us/step - loss: 0.5873 - acc: 0.0120 - val_loss: 0.5881 - val_acc: 0.0121\n",
            "Epoch 129/150\n",
            "50000/50000 [==============================] - 1s 28us/step - loss: 0.5871 - acc: 0.0120 - val_loss: 0.5869 - val_acc: 0.0121\n",
            "Epoch 130/150\n",
            "50000/50000 [==============================] - 1s 29us/step - loss: 0.5873 - acc: 0.0120 - val_loss: 0.5868 - val_acc: 0.0121\n",
            "Epoch 131/150\n",
            "50000/50000 [==============================] - 1s 28us/step - loss: 0.5870 - acc: 0.0120 - val_loss: 0.5885 - val_acc: 0.0121\n",
            "Epoch 132/150\n",
            "50000/50000 [==============================] - 1s 29us/step - loss: 0.5870 - acc: 0.0120 - val_loss: 0.5892 - val_acc: 0.0121\n",
            "Epoch 133/150\n",
            "50000/50000 [==============================] - 1s 29us/step - loss: 0.5868 - acc: 0.0120 - val_loss: 0.5893 - val_acc: 0.0121\n",
            "Epoch 134/150\n",
            "50000/50000 [==============================] - 1s 29us/step - loss: 0.5874 - acc: 0.0120 - val_loss: 0.5903 - val_acc: 0.0121\n",
            "Epoch 135/150\n",
            "50000/50000 [==============================] - 1s 29us/step - loss: 0.5868 - acc: 0.0120 - val_loss: 0.5869 - val_acc: 0.0121\n",
            "Epoch 136/150\n",
            "50000/50000 [==============================] - 1s 28us/step - loss: 0.5872 - acc: 0.0120 - val_loss: 0.5878 - val_acc: 0.0121\n",
            "Epoch 137/150\n",
            "50000/50000 [==============================] - 1s 28us/step - loss: 0.5870 - acc: 0.0120 - val_loss: 0.5903 - val_acc: 0.0121\n",
            "Epoch 138/150\n",
            "50000/50000 [==============================] - 1s 29us/step - loss: 0.5870 - acc: 0.0120 - val_loss: 0.5871 - val_acc: 0.0121\n",
            "Epoch 139/150\n",
            "50000/50000 [==============================] - 1s 28us/step - loss: 0.5867 - acc: 0.0120 - val_loss: 0.5862 - val_acc: 0.0121\n",
            "Epoch 140/150\n",
            "50000/50000 [==============================] - 1s 28us/step - loss: 0.5869 - acc: 0.0120 - val_loss: 0.5893 - val_acc: 0.0121\n",
            "Epoch 141/150\n",
            "50000/50000 [==============================] - 1s 29us/step - loss: 0.5866 - acc: 0.0120 - val_loss: 0.5870 - val_acc: 0.0121\n",
            "Epoch 142/150\n",
            "50000/50000 [==============================] - 1s 28us/step - loss: 0.5867 - acc: 0.0120 - val_loss: 0.5865 - val_acc: 0.0121\n",
            "Epoch 143/150\n",
            "50000/50000 [==============================] - 1s 29us/step - loss: 0.5868 - acc: 0.0120 - val_loss: 0.5886 - val_acc: 0.0121\n",
            "Epoch 144/150\n",
            "50000/50000 [==============================] - 1s 29us/step - loss: 0.5866 - acc: 0.0120 - val_loss: 0.5885 - val_acc: 0.0121\n",
            "Epoch 145/150\n",
            "50000/50000 [==============================] - 1s 28us/step - loss: 0.5868 - acc: 0.0120 - val_loss: 0.5891 - val_acc: 0.0121\n",
            "Epoch 146/150\n",
            "50000/50000 [==============================] - 1s 29us/step - loss: 0.5866 - acc: 0.0120 - val_loss: 0.5863 - val_acc: 0.0121\n",
            "Epoch 147/150\n",
            "50000/50000 [==============================] - 1s 29us/step - loss: 0.5866 - acc: 0.0120 - val_loss: 0.5888 - val_acc: 0.0121\n",
            "Epoch 148/150\n",
            "50000/50000 [==============================] - 1s 28us/step - loss: 0.5864 - acc: 0.0120 - val_loss: 0.5861 - val_acc: 0.0121\n",
            "Epoch 149/150\n",
            "50000/50000 [==============================] - 1s 29us/step - loss: 0.5867 - acc: 0.0120 - val_loss: 0.5867 - val_acc: 0.0121\n",
            "Epoch 150/150\n",
            "50000/50000 [==============================] - 1s 28us/step - loss: 0.5865 - acc: 0.0120 - val_loss: 0.5875 - val_acc: 0.0121\n"
          ],
          "name": "stdout"
        }
      ]
    },
    {
      "cell_type": "code",
      "metadata": {
        "id": "wyeiQrJyfPxj",
        "colab_type": "code",
        "outputId": "8cd894f4-d670-45ba-e49a-5bb897a92c00",
        "colab": {
          "base_uri": "https://localhost:8080/",
          "height": 68
        }
      },
      "source": [
        "#To evaluate our autoencoder model  and show the validation result \n",
        "score,acc = Q7_autoencoder.evaluate(X_test_Q7, X_test_Q7,verbose=2)\n",
        "print(\"Loss Score: %.2f\" % (score))\n",
        "print(\"Accuracy: %.2f%%\" % (acc*100))\n",
        "print(Q7_autoencoder.metrics_names)"
      ],
      "execution_count": 14,
      "outputs": [
        {
          "output_type": "stream",
          "text": [
            "Loss Score: 0.59\n",
            "Accuracy: 1.21%\n",
            "['loss', 'acc']\n"
          ],
          "name": "stdout"
        }
      ]
    },
    {
      "cell_type": "code",
      "metadata": {
        "id": "H2GRrWDXfVjB",
        "colab_type": "code",
        "outputId": "615c89c9-86e3-4b8f-c902-1001b93aac5a",
        "colab": {
          "base_uri": "https://localhost:8080/",
          "height": 312
        }
      },
      "source": [
        "#plot the loss and accuracy for training data \n",
        "import matplotlib.pyplot as plt\n",
        "plt.figure()\n",
        "plt.plot(np.arange(0, 150), Q7_history.history[\"loss\"], label=\"training Loss\")\n",
        "plt.plot(np.arange(0, 150), Q7_history.history[\"acc\"], label=\"training accuracy\")\n",
        "plt.title(\"the loss and accuracy for training data\")\n",
        "plt.xlabel(\"Epoch #\")\n",
        "plt.ylabel(\"Loss/Accuracy\")\n",
        "plt.legend(loc=\"best\")"
      ],
      "execution_count": 16,
      "outputs": [
        {
          "output_type": "execute_result",
          "data": {
            "text/plain": [
              "<matplotlib.legend.Legend at 0x7fd7fbc5ca20>"
            ]
          },
          "metadata": {
            "tags": []
          },
          "execution_count": 16
        },
        {
          "output_type": "display_data",
          "data": {
            "image/png": "[encoded data removed]",
            "text/plain": [
              "<Figure size 432x288 with 1 Axes>"
            ]
          },
          "metadata": {
            "tags": []
          }
        }
      ]
    },
    {
      "cell_type": "code",
      "metadata": {
        "id": "TPcHKFrlfcaQ",
        "colab_type": "code",
        "outputId": "a7a5e7d5-7190-4a04-a902-e15c0ea4581c",
        "colab": {
          "base_uri": "https://localhost:8080/",
          "height": 312
        }
      },
      "source": [
        "#plot the loss and accuracy for validation data. \n",
        "plt.figure()\n",
        "plt.plot(np.arange(0, 150), Q7_history.history[\"val_loss\"], label=\"validation loss\")\n",
        "plt.plot(np.arange(0, 150), Q7_history.history[\"val_acc\"], label=\"validation accuracy\")\n",
        "\n",
        "plt.title(\"the loss and accuracy for validation data\")\n",
        "plt.xlabel(\"Epoch #\")\n",
        "plt.ylabel(\"Loss/Accuracy\")\n",
        "plt.legend(loc=\"best\")"
      ],
      "execution_count": 17,
      "outputs": [
        {
          "output_type": "execute_result",
          "data": {
            "text/plain": [
              "<matplotlib.legend.Legend at 0x7fd7fbc48c88>"
            ]
          },
          "metadata": {
            "tags": []
          },
          "execution_count": 17
        },
        {
          "output_type": "display_data",
          "data": {
            "image/png": "[encoded data removed]",
            "text/plain": [
              "<Figure size 432x288 with 1 Axes>"
            ]
          },
          "metadata": {
            "tags": []
          }
        }
      ]
    },
    {
      "cell_type": "code",
      "metadata": {
        "id": "lAwwXVj7fmof",
        "colab_type": "code",
        "outputId": "5798ed77-99a9-43b0-a1cc-bcc6028b5703",
        "colab": {
          "base_uri": "https://localhost:8080/",
          "height": 549
        }
      },
      "source": [
        "#show the encoding and decoding on a particular image.\n",
        "\n",
        "#To predict a new image using the encoder model first\n",
        "Q7_encoded_image =  Q7_encoder.predict(X_test_Q7[[50],:])\n",
        "\n",
        "#To predict the encoded image using the decoder model \n",
        "Q7_decoded_imgs = Q7_decoder.predict(Q7_encoded_image)\n",
        "\n",
        "\n",
        "#To dispaly the input image \n",
        "print(\"The input image is: \")\n",
        "plt.imshow(X_test_Q7[50].reshape((32, 32, 3)))\n",
        "plt.show()\n",
        "\n",
        "#To display the decoded image \n",
        "print(\"The input image: \")\n",
        "plt.imshow(Q7_decoded_imgs[0].reshape((32, 32, 3)))\n",
        "plt.show()"
      ],
      "execution_count": 46,
      "outputs": [
        {
          "output_type": "stream",
          "text": [
            "The input image is: \n"
          ],
          "name": "stdout"
        },
        {
          "output_type": "display_data",
          "data": {
            "image/png": "[encoded data removed]",
            "text/plain": [
              "<Figure size 432x288 with 1 Axes>"
            ]
          },
          "metadata": {
            "tags": []
          }
        },
        {
          "output_type": "stream",
          "text": [
            "The input image: \n"
          ],
          "name": "stdout"
        },
        {
          "output_type": "display_data",
          "data": {
            "image/png": "[encoded data removed]",
            "text/plain": [
              "<Figure size 432x288 with 1 Axes>"
            ]
          },
          "metadata": {
            "tags": []
          }
        }
      ]
    }
  ]
}