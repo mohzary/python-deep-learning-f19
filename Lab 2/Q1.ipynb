{
  "nbformat": 4,
  "nbformat_minor": 0,
  "metadata": {
    "colab": {
      "name": "Q1.ipynb",
      "provenance": [],
      "collapsed_sections": []
    },
    "kernelspec": {
      "name": "python3",
      "display_name": "Python 3"
    },
    "accelerator": "GPU"
  },
  "cells": [
    {
      "cell_type": "markdown",
      "metadata": {
        "id": "E4cX7YpEGthj",
        "colab_type": "text"
      },
      "source": [
        "# Insurance Classification with Linear Regression \n",
        "\n",
        "Dataset: insurance | [download](https://www.kaggle.com/bmarco/health-insurance-data)"
      ]
    },
    {
      "cell_type": "code",
      "metadata": {
        "id": "tWcxLuncZxrA",
        "colab_type": "code",
        "colab": {}
      },
      "source": [
        "import io\n",
        "import pandas as pd\n",
        "from google.colab import files\n",
        "import numpy as np"
      ],
      "execution_count": 0,
      "outputs": []
    },
    {
      "cell_type": "code",
      "metadata": {
        "id": "D8E3l32TZ51V",
        "colab_type": "code",
        "outputId": "caa833ed-8d1c-45b5-f946-24d02491170e",
        "colab": {
          "resources": {
            "http://localhost:8080/nbextensions/google.colab/files.js": {
              "data": "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",
              "ok": true,
              "headers": [
                [
                  "content-type",
                  "application/javascript"
                ]
              ],
              "status": 200,
              "status_text": ""
            }
          },
          "base_uri": "https://localhost:8080/",
          "height": 74
        }
      },
      "source": [
        "# To upload file and open it using pandas \n",
        "playStoreFile = files.upload()"
      ],
      "execution_count": 0,
      "outputs": [
        {
          "output_type": "display_data",
          "data": {
            "text/html": [
              "\n",
              "     <input type=\"file\" id=\"files-8fb5a328-181e-4a37-b75c-7d7f1046a767\" name=\"files[]\" multiple disabled />\n",
              "     <output id=\"result-8fb5a328-181e-4a37-b75c-7d7f1046a767\">\n",
              "      Upload widget is only available when the cell has been executed in the\n",
              "      current browser session. Please rerun this cell to enable.\n",
              "      </output>\n",
              "      <script src=\"/nbextensions/google.colab/files.js\"></script> "
            ],
            "text/plain": [
              "<IPython.core.display.HTML object>"
            ]
          },
          "metadata": {
            "tags": []
          }
        },
        {
          "output_type": "stream",
          "text": [
            "Saving insurance.csv to insurance.csv\n"
          ],
          "name": "stdout"
        }
      ]
    },
    {
      "cell_type": "code",
      "metadata": {
        "id": "oxGxwBH0Z-57",
        "colab_type": "code",
        "colab": {}
      },
      "source": [
        "# Reading the insurance dataset\n",
        "insuDTLab2 = pd.read_csv(io.StringIO(playStoreFile['insurance.csv'].decode('utf-8')))"
      ],
      "execution_count": 0,
      "outputs": []
    },
    {
      "cell_type": "code",
      "metadata": {
        "id": "akBstQI1aBdO",
        "colab_type": "code",
        "colab": {}
      },
      "source": [
        "# Implementing Lable Encoding for three features \n",
        "from sklearn import preprocessing\n",
        "LabEnc = preprocessing.LabelEncoder()\n",
        "insuDTLab2['sex'] = LabEnc.fit_transform(insuDTLab2['sex'])\n",
        "insuDTLab2['smoker'] = LabEnc.fit_transform(insuDTLab2['smoker'])\n",
        "insuDTLab2['region'] = LabEnc.fit_transform(insuDTLab2['region'])"
      ],
      "execution_count": 0,
      "outputs": []
    },
    {
      "cell_type": "code",
      "metadata": {
        "id": "42_xiU1PaDzK",
        "colab_type": "code",
        "outputId": "4ea8b7db-2149-4447-bbbe-f1e90f01e025",
        "colab": {
          "base_uri": "https://localhost:8080/",
          "height": 101
        }
      },
      "source": [
        "# To show the correlation with the target\n",
        "import numpy as np\n",
        "import seaborn as sns\n",
        "InsuDTCorrs = insuDTLab2.corr()['charges'].abs()\n",
        "columns = InsuDTCorrs[InsuDTCorrs > .1].index\n",
        "InsuDTCorrs = InsuDTCorrs.filter(columns)\n",
        "print(InsuDTCorrs)"
      ],
      "execution_count": 0,
      "outputs": [
        {
          "output_type": "stream",
          "text": [
            "age        0.299008\n",
            "bmi        0.198341\n",
            "smoker     0.787251\n",
            "charges    1.000000\n",
            "Name: charges, dtype: float64\n"
          ],
          "name": "stdout"
        }
      ]
    },
    {
      "cell_type": "code",
      "metadata": {
        "id": "qBoQHpZFaIYU",
        "colab_type": "code",
        "colab": {}
      },
      "source": [
        "# Split the features and the target\n",
        "# insuDTLab2 = insuDTLab2.values\n",
        "xTrain_insuDTLab2 = insuDTLab2[:,[0,4]]\n",
        "yTrain_insuDTLab2 = insuDTLab2[:,6]"
      ],
      "execution_count": 0,
      "outputs": []
    },
    {
      "cell_type": "code",
      "metadata": {
        "id": "2l6Rjed4apf2",
        "colab_type": "code",
        "colab": {}
      },
      "source": [
        "from sklearn.preprocessing import MinMaxScaler\n",
        "sc_insuDTLab2 = MinMaxScaler()\n",
        "xTrain_insuDTLab2 = sc_insuDTLab2.fit_transform(xTrain_insuDTLab2)\n",
        "yTrain_insuDTLab2 = yTrain_insuDTLab2.reshape(-1,1)\n",
        "yTrain_insuDTLab2 = sc_insuDTLab2.fit_transform(yTrain_insuDTLab2)"
      ],
      "execution_count": 0,
      "outputs": []
    },
    {
      "cell_type": "code",
      "metadata": {
        "id": "gVUwTiUpaMG0",
        "colab_type": "code",
        "colab": {}
      },
      "source": [
        "from sklearn.model_selection import train_test_split\n",
        "from keras_preprocessing import sequence\n",
        "\n",
        "X_trainLab2, x_testLab2, Y_trainLab2, y_testLab2 = train_test_split(xTrain_insuDTLab2, yTrain_insuDTLab2,\n",
        "                                                    test_size=0.25, random_state=87)"
      ],
      "execution_count": 0,
      "outputs": []
    },
    {
      "cell_type": "code",
      "metadata": {
        "id": "VH_YRn2UaX8M",
        "colab_type": "code",
        "outputId": "d45d44ff-2f4c-4782-f3b3-6ff33ef07aa3",
        "colab": {
          "base_uri": "https://localhost:8080/",
          "height": 34
        }
      },
      "source": [
        "X_trainLab2.shape"
      ],
      "execution_count": 0,
      "outputs": [
        {
          "output_type": "execute_result",
          "data": {
            "text/plain": [
              "(1003, 2)"
            ]
          },
          "metadata": {
            "tags": []
          },
          "execution_count": 11
        }
      ]
    },
    {
      "cell_type": "code",
      "metadata": {
        "id": "SkY_M2AJabXw",
        "colab_type": "code",
        "colab": {}
      },
      "source": [
        "from keras.models import Sequential\n",
        "from keras.layers import Dense, Dropout, Flatten\n",
        "from keras.layers import Conv1D, MaxPooling1D\n",
        "import keras\n",
        "from keras.layers.embeddings import Embedding\n",
        "import tensorflow\n",
        "#Creating the model\n",
        "np.random.seed(155)\n",
        "insuDTLab2Model = Sequential() # create model\n",
        "insuDTLab2Model.add(Dense(50, input_dim=2, activation='relu')) # hidden layer\n",
        "# insuDTLab2Model.add(Dropout(rate = 0.1)) \n",
        "insuDTLab2Model.add(Dense(15, activation='relu')) # hidden layer\n",
        "# insuDTLab2Model.add(Dropout(p = 0.1)) \n",
        "insuDTLab2Model.add(Dense(30, activation='relu')) # hidden layer\n",
        "# insuDTLab2Model.add(Dropout(p = 0.1)) \n",
        "insuDTLab2Model.add(Dense(1, activation='sigmoid')) # output layer\n",
        "insuDTLab2Model.compile(loss='mean_squared_error', optimizer='adam')"
      ],
      "execution_count": 0,
      "outputs": []
    },
    {
      "cell_type": "code",
      "metadata": {
        "id": "qR-GsGqcd2Ok",
        "colab_type": "code",
        "outputId": "04bdb85b-76b3-4cf0-fc34-36e7a996df8c",
        "colab": {
          "base_uri": "https://localhost:8080/",
          "height": 1000
        }
      },
      "source": [
        "from tensorflow import keras\n",
        "\n",
        "TensorBoardLab2 = keras.callbacks.TensorBoard(log_dir='./Graph2', histogram_freq=0, write_graph=True, write_images=True)\n",
        "\n",
        "insuDTModel = insuDTLab2Model.fit(X_trainLab2, Y_trainLab2, epochs=50, verbose=1,\n",
        "                                     initial_epoch=0, callbacks=[TensorBoardLab2])"
      ],
      "execution_count": 0,
      "outputs": [
        {
          "output_type": "stream",
          "text": [
            "Epoch 1/50\n",
            "1003/1003 [==============================] - 2s 2ms/step - loss: 0.1229\n",
            "Epoch 2/50\n",
            "1003/1003 [==============================] - 0s 110us/step - loss: 0.0864\n",
            "Epoch 3/50\n",
            "1003/1003 [==============================] - 0s 123us/step - loss: 0.0420\n",
            "Epoch 4/50\n",
            "1003/1003 [==============================] - 0s 110us/step - loss: 0.0212\n",
            "Epoch 5/50\n",
            "1003/1003 [==============================] - 0s 113us/step - loss: 0.0164\n",
            "Epoch 6/50\n",
            "1003/1003 [==============================] - 0s 126us/step - loss: 0.0139\n",
            "Epoch 7/50\n",
            "1003/1003 [==============================] - 0s 120us/step - loss: 0.0125\n",
            "Epoch 8/50\n",
            "1003/1003 [==============================] - 0s 107us/step - loss: 0.0116\n",
            "Epoch 9/50\n",
            "1003/1003 [==============================] - 0s 127us/step - loss: 0.0112\n",
            "Epoch 10/50\n",
            "1003/1003 [==============================] - 0s 116us/step - loss: 0.0110\n",
            "Epoch 11/50\n",
            "1003/1003 [==============================] - 0s 116us/step - loss: 0.0108\n",
            "Epoch 12/50\n",
            "1003/1003 [==============================] - 0s 115us/step - loss: 0.0108\n",
            "Epoch 13/50\n",
            "1003/1003 [==============================] - 0s 116us/step - loss: 0.0107\n",
            "Epoch 14/50\n",
            "1003/1003 [==============================] - 0s 118us/step - loss: 0.0106\n",
            "Epoch 15/50\n",
            "1003/1003 [==============================] - 0s 127us/step - loss: 0.0107\n",
            "Epoch 16/50\n",
            "1003/1003 [==============================] - 0s 123us/step - loss: 0.0108\n",
            "Epoch 17/50\n",
            "1003/1003 [==============================] - 0s 122us/step - loss: 0.0107\n",
            "Epoch 18/50\n",
            "1003/1003 [==============================] - 0s 121us/step - loss: 0.0106\n",
            "Epoch 19/50\n",
            "1003/1003 [==============================] - 0s 117us/step - loss: 0.0106\n",
            "Epoch 20/50\n",
            "1003/1003 [==============================] - 0s 115us/step - loss: 0.0109\n",
            "Epoch 21/50\n",
            "1003/1003 [==============================] - 0s 125us/step - loss: 0.0106\n",
            "Epoch 22/50\n",
            "1003/1003 [==============================] - 0s 135us/step - loss: 0.0106\n",
            "Epoch 23/50\n",
            "1003/1003 [==============================] - 0s 115us/step - loss: 0.0107\n",
            "Epoch 24/50\n",
            "1003/1003 [==============================] - 0s 128us/step - loss: 0.0105\n",
            "Epoch 25/50\n",
            "1003/1003 [==============================] - 0s 116us/step - loss: 0.0107\n",
            "Epoch 26/50\n",
            "1003/1003 [==============================] - 0s 109us/step - loss: 0.0105\n",
            "Epoch 27/50\n",
            "1003/1003 [==============================] - 0s 105us/step - loss: 0.0107\n",
            "Epoch 28/50\n",
            "1003/1003 [==============================] - 0s 106us/step - loss: 0.0107\n",
            "Epoch 29/50\n",
            "1003/1003 [==============================] - 0s 109us/step - loss: 0.0107\n",
            "Epoch 30/50\n",
            "1003/1003 [==============================] - 0s 117us/step - loss: 0.0107\n",
            "Epoch 31/50\n",
            "1003/1003 [==============================] - 0s 114us/step - loss: 0.0106\n",
            "Epoch 32/50\n",
            "1003/1003 [==============================] - 0s 126us/step - loss: 0.0106\n",
            "Epoch 33/50\n",
            "1003/1003 [==============================] - 0s 125us/step - loss: 0.0107\n",
            "Epoch 34/50\n",
            "1003/1003 [==============================] - 0s 117us/step - loss: 0.0105\n",
            "Epoch 35/50\n",
            "1003/1003 [==============================] - 0s 122us/step - loss: 0.0106\n",
            "Epoch 36/50\n",
            "1003/1003 [==============================] - 0s 122us/step - loss: 0.0106\n",
            "Epoch 37/50\n",
            "1003/1003 [==============================] - 0s 111us/step - loss: 0.0106\n",
            "Epoch 38/50\n",
            "1003/1003 [==============================] - 0s 123us/step - loss: 0.0108\n",
            "Epoch 39/50\n",
            "1003/1003 [==============================] - 0s 108us/step - loss: 0.0106\n",
            "Epoch 40/50\n",
            "1003/1003 [==============================] - 0s 111us/step - loss: 0.0106\n",
            "Epoch 41/50\n",
            "1003/1003 [==============================] - 0s 124us/step - loss: 0.0106\n",
            "Epoch 42/50\n",
            "1003/1003 [==============================] - 0s 108us/step - loss: 0.0106\n",
            "Epoch 43/50\n",
            "1003/1003 [==============================] - 0s 112us/step - loss: 0.0106\n",
            "Epoch 44/50\n",
            "1003/1003 [==============================] - 0s 110us/step - loss: 0.0106\n",
            "Epoch 45/50\n",
            "1003/1003 [==============================] - 0s 107us/step - loss: 0.0106\n",
            "Epoch 46/50\n",
            "1003/1003 [==============================] - 0s 108us/step - loss: 0.0106\n",
            "Epoch 47/50\n",
            "1003/1003 [==============================] - 0s 125us/step - loss: 0.0105\n",
            "Epoch 48/50\n",
            "1003/1003 [==============================] - 0s 103us/step - loss: 0.0106\n",
            "Epoch 49/50\n",
            "1003/1003 [==============================] - 0s 114us/step - loss: 0.0106\n",
            "Epoch 50/50\n",
            "1003/1003 [==============================] - 0s 127us/step - loss: 0.0105\n"
          ],
          "name": "stdout"
        }
      ]
    },
    {
      "cell_type": "code",
      "metadata": {
        "id": "gvySsmGnazKO",
        "colab_type": "code",
        "colab": {}
      },
      "source": [
        "yPredinsuDTLab2 = insuDTLab2Model.predict(x_testLab2)"
      ],
      "execution_count": 0,
      "outputs": []
    },
    {
      "cell_type": "code",
      "metadata": {
        "id": "S1SDV7_FbTZC",
        "colab_type": "code",
        "outputId": "a3b297a9-2015-4faa-bc88-197cd7ba579c",
        "colab": {
          "base_uri": "https://localhost:8080/",
          "height": 118
        }
      },
      "source": [
        "# Implementation for model evaluation\n",
        "import sklearn.metrics, math\n",
        "print(\"\\n\")\n",
        "print(\"R square:                 %f\" % sklearn.metrics.r2_score(y_testLab2, yPredinsuDTLab2))\n",
        "print(\"Mean absolute error:      %f\" % sklearn.metrics.mean_absolute_error(y_testLab2, yPredinsuDTLab2))\n",
        "print(\"Mean squared error:       %f\" % sklearn.metrics.mean_squared_error(y_testLab2, yPredinsuDTLab2))\n",
        "print(\"Root mean squared error : %f\" % math.sqrt(sklearn.metrics.mean_squared_error(y_testLab2, yPredinsuDTLab2)))"
      ],
      "execution_count": 0,
      "outputs": [
        {
          "output_type": "stream",
          "text": [
            "\n",
            "\n",
            "R square:                 0.690544\n",
            "Mean absolute error:      0.068856\n",
            "Mean squared error:       0.010088\n",
            "Root mean squared error : 0.100439\n"
          ],
          "name": "stdout"
        }
      ]
    },
    {
      "cell_type": "markdown",
      "metadata": {
        "id": "SYISfHLHfBEB",
        "colab_type": "text"
      },
      "source": [
        "# Plot the loss and then change the below parameter and report your view how the result changes in each case\n",
        "a.\tlearning rate\n",
        "\n",
        "b.\tbatch size\n",
        "\n",
        "c.\toptimizer\n",
        "\n",
        "d.\tactivation function\n"
      ]
    },
    {
      "cell_type": "code",
      "metadata": {
        "id": "xxP9ghVYfNmM",
        "colab_type": "code",
        "outputId": "a062bfeb-8e6d-4424-c896-e882c896d468",
        "colab": {
          "base_uri": "https://localhost:8080/",
          "height": 295
        }
      },
      "source": [
        "import matplotlib.pyplot as plt\n",
        "plt.plot(insuDTModel.history['loss'])\n",
        "plt.title('model loss')\n",
        "plt.ylabel('loss')\n",
        "plt.xlabel('epoch')\n",
        "plt.show()"
      ],
      "execution_count": 0,
      "outputs": [
        {
          "output_type": "display_data",
          "data": {
            "image/png": "[encoded data removed]",
            "text/plain": [
              "<Figure size 432x288 with 1 Axes>"
            ]
          },
          "metadata": {
            "tags": []
          }
        }
      ]
    },
    {
      "cell_type": "code",
      "metadata": {
        "id": "tXbTOm9Itp9v",
        "colab_type": "code",
        "colab": {}
      },
      "source": [
        "from keras.models import Sequential\n",
        "from keras.layers import Dense, Dropout, Flatten\n",
        "from keras.layers import Conv1D, MaxPooling1D\n",
        "import keras\n",
        "from keras.layers.embeddings import Embedding\n",
        "import tensorflow\n",
        "from keras.optimizers import SGD\n",
        "lrLab2, decayLab2, momentumLab2 = 0.01, 1e-6, 0.9\n",
        "\n",
        "sgd = SGD(lr=lrLab2, decay=decayLab2, momentum=momentumLab2, nesterov=True)\n",
        "\n",
        "#Creating the model\n",
        "np.random.seed(60)\n",
        "insuDTLab2Model = Sequential() # create model\n",
        "insuDTLab2Model.add(Dense(50, input_dim=2, activation='tanh')) # hidden layer\n",
        "insuDTLab2Model.add(Dropout(rate = 0.1)) \n",
        "insuDTLab2Model.add(Dense(15, activation='relu')) # hidden layer\n",
        "insuDTLab2Model.add(Dense(30, activation='relu')) # hidden layer\n",
        "insuDTLab2Model.add(Dense(1, activation='sigmoid')) # output layer\n",
        "insuDTLab2Model.compile(loss='mean_squared_error', optimizer=sgd)"
      ],
      "execution_count": 0,
      "outputs": []
    },
    {
      "cell_type": "code",
      "metadata": {
        "id": "YCFZCP-7t2MZ",
        "colab_type": "code",
        "outputId": "d3babdb9-acfb-4228-9f3d-ef073ee613d2",
        "colab": {
          "base_uri": "https://localhost:8080/",
          "height": 1000
        }
      },
      "source": [
        "from tensorflow import keras\n",
        "TensorBoardLab2 = keras.callbacks.TensorBoard(log_dir='./Graph2', histogram_freq=0, write_graph=True, write_images=True)\n",
        "\n",
        "insuDTModel = insuDTLab2Model.fit(X_trainLab2, Y_trainLab2, epochs=50, batch_size=3, verbose=1,\n",
        "                                     initial_epoch=0, callbacks=[TensorBoardLab2])"
      ],
      "execution_count": 0,
      "outputs": [
        {
          "output_type": "stream",
          "text": [
            "Epoch 1/50\n",
            "1003/1003 [==============================] - 3s 3ms/step - loss: 0.0379\n",
            "Epoch 2/50\n",
            "1003/1003 [==============================] - 1s 1ms/step - loss: 0.0128\n",
            "Epoch 3/50\n",
            "1003/1003 [==============================] - 1s 1ms/step - loss: 0.0116\n",
            "Epoch 4/50\n",
            "1003/1003 [==============================] - 1s 1ms/step - loss: 0.0116\n",
            "Epoch 5/50\n",
            "1003/1003 [==============================] - 1s 1ms/step - loss: 0.0112\n",
            "Epoch 6/50\n",
            "1003/1003 [==============================] - 1s 993us/step - loss: 0.0114\n",
            "Epoch 7/50\n",
            "1003/1003 [==============================] - 1s 1ms/step - loss: 0.0112\n",
            "Epoch 8/50\n",
            "1003/1003 [==============================] - 1s 1ms/step - loss: 0.0113\n",
            "Epoch 9/50\n",
            "1003/1003 [==============================] - 1s 1ms/step - loss: 0.0110\n",
            "Epoch 10/50\n",
            "1003/1003 [==============================] - 1s 1ms/step - loss: 0.0109\n",
            "Epoch 11/50\n",
            "1003/1003 [==============================] - 1s 1ms/step - loss: 0.0111\n",
            "Epoch 12/50\n",
            "1003/1003 [==============================] - 1s 1ms/step - loss: 0.0110\n",
            "Epoch 13/50\n",
            "1003/1003 [==============================] - 1s 992us/step - loss: 0.0109\n",
            "Epoch 14/50\n",
            "1003/1003 [==============================] - 1s 1ms/step - loss: 0.0112\n",
            "Epoch 15/50\n",
            "1003/1003 [==============================] - 1s 990us/step - loss: 0.0109\n",
            "Epoch 16/50\n",
            "1003/1003 [==============================] - 1s 1ms/step - loss: 0.0110\n",
            "Epoch 17/50\n",
            "1003/1003 [==============================] - 1s 1ms/step - loss: 0.0110\n",
            "Epoch 18/50\n",
            "1003/1003 [==============================] - 1s 1ms/step - loss: 0.0109\n",
            "Epoch 19/50\n",
            "1003/1003 [==============================] - 1s 1ms/step - loss: 0.0108\n",
            "Epoch 20/50\n",
            "1003/1003 [==============================] - 1s 1ms/step - loss: 0.0110\n",
            "Epoch 21/50\n",
            "1003/1003 [==============================] - 1s 1ms/step - loss: 0.0111\n",
            "Epoch 22/50\n",
            "1003/1003 [==============================] - 1s 1ms/step - loss: 0.0110\n",
            "Epoch 23/50\n",
            "1003/1003 [==============================] - 1s 1ms/step - loss: 0.0110\n",
            "Epoch 24/50\n",
            "1003/1003 [==============================] - 1s 1ms/step - loss: 0.0110\n",
            "Epoch 25/50\n",
            "1003/1003 [==============================] - 1s 1ms/step - loss: 0.0108\n",
            "Epoch 26/50\n",
            "1003/1003 [==============================] - 1s 1ms/step - loss: 0.0109\n",
            "Epoch 27/50\n",
            "1003/1003 [==============================] - 1s 1ms/step - loss: 0.0109\n",
            "Epoch 28/50\n",
            "1003/1003 [==============================] - 1s 1ms/step - loss: 0.0110\n",
            "Epoch 29/50\n",
            "1003/1003 [==============================] - 1s 1ms/step - loss: 0.0110\n",
            "Epoch 30/50\n",
            "1003/1003 [==============================] - 1s 1ms/step - loss: 0.0106\n",
            "Epoch 31/50\n",
            "1003/1003 [==============================] - 1s 1ms/step - loss: 0.0108\n",
            "Epoch 32/50\n",
            "1003/1003 [==============================] - 1s 1ms/step - loss: 0.0109\n",
            "Epoch 33/50\n",
            "1003/1003 [==============================] - 1s 1ms/step - loss: 0.0110\n",
            "Epoch 34/50\n",
            "1003/1003 [==============================] - 1s 1ms/step - loss: 0.0109\n",
            "Epoch 35/50\n",
            "1003/1003 [==============================] - 1s 1ms/step - loss: 0.0108\n",
            "Epoch 36/50\n",
            "1003/1003 [==============================] - 1s 1ms/step - loss: 0.0108\n",
            "Epoch 37/50\n",
            "1003/1003 [==============================] - 1s 1ms/step - loss: 0.0109\n",
            "Epoch 38/50\n",
            "1003/1003 [==============================] - 1s 1ms/step - loss: 0.0107\n",
            "Epoch 39/50\n",
            "1003/1003 [==============================] - 1s 1ms/step - loss: 0.0107\n",
            "Epoch 40/50\n",
            "1003/1003 [==============================] - 1s 1ms/step - loss: 0.0109\n",
            "Epoch 41/50\n",
            "1003/1003 [==============================] - 1s 1ms/step - loss: 0.0108\n",
            "Epoch 42/50\n",
            "1003/1003 [==============================] - 1s 1ms/step - loss: 0.0108\n",
            "Epoch 43/50\n",
            "1003/1003 [==============================] - 1s 998us/step - loss: 0.0109\n",
            "Epoch 44/50\n",
            "1003/1003 [==============================] - 1s 996us/step - loss: 0.0108\n",
            "Epoch 45/50\n",
            "1003/1003 [==============================] - 1s 962us/step - loss: 0.0107\n",
            "Epoch 46/50\n",
            "1003/1003 [==============================] - 1s 1ms/step - loss: 0.0105\n",
            "Epoch 47/50\n",
            "1003/1003 [==============================] - 1s 1ms/step - loss: 0.0108\n",
            "Epoch 48/50\n",
            "1003/1003 [==============================] - 1s 968us/step - loss: 0.0108\n",
            "Epoch 49/50\n",
            "1003/1003 [==============================] - 1s 1ms/step - loss: 0.0108\n",
            "Epoch 50/50\n",
            "1003/1003 [==============================] - 1s 1ms/step - loss: 0.0107\n"
          ],
          "name": "stdout"
        }
      ]
    },
    {
      "cell_type": "code",
      "metadata": {
        "id": "ZmtJRP6uxWNv",
        "colab_type": "code",
        "colab": {}
      },
      "source": [
        "yPredinsuDTLab2 = insuDTLab2Model.predict(x_testLab2)"
      ],
      "execution_count": 0,
      "outputs": []
    },
    {
      "cell_type": "code",
      "metadata": {
        "id": "flmHkpZ9xXNr",
        "colab_type": "code",
        "outputId": "e7a6fac7-10c7-403c-96a9-ca498d6087ed",
        "colab": {
          "base_uri": "https://localhost:8080/",
          "height": 118
        }
      },
      "source": [
        "# Implementation for model evaluation\n",
        "import sklearn.metrics, math\n",
        "print(\"\\n\")\n",
        "print(\"R square:                 %f\" % sklearn.metrics.r2_score(y_testLab2, yPredinsuDTLab2))\n",
        "print(\"Mean absolute error:      %f\" % sklearn.metrics.mean_absolute_error(y_testLab2, yPredinsuDTLab2))\n",
        "print(\"Mean squared error:       %f\" % sklearn.metrics.mean_squared_error(y_testLab2, yPredinsuDTLab2))\n",
        "print(\"Root mean squared error : %f\" % math.sqrt(sklearn.metrics.mean_squared_error(y_testLab2, yPredinsuDTLab2)))"
      ],
      "execution_count": 0,
      "outputs": [
        {
          "output_type": "stream",
          "text": [
            "\n",
            "\n",
            "R square:                 0.673350\n",
            "Mean absolute error:      0.069241\n",
            "Mean squared error:       0.010649\n",
            "Root mean squared error : 0.103192\n"
          ],
          "name": "stdout"
        }
      ]
    },
    {
      "cell_type": "code",
      "metadata": {
        "id": "VZLxckQ33VZP",
        "colab_type": "code",
        "outputId": "5b252e9a-0c0f-48df-92a8-44045864c22e",
        "colab": {
          "base_uri": "https://localhost:8080/",
          "height": 295
        }
      },
      "source": [
        "import matplotlib.pyplot as pltLab2\n",
        "pltLab2.plot(insuDTModel.history['loss'])\n",
        "pltLab2.title('model loss')\n",
        "pltLab2.ylabel('loss')\n",
        "pltLab2.xlabel('epoch')\n",
        "pltLab2.show()"
      ],
      "execution_count": 0,
      "outputs": [
        {
          "output_type": "display_data",
          "data": {
            "image/png": "[encoded data removed]",
            "text/plain": [
              "<Figure size 432x288 with 1 Axes>"
            ]
          },
          "metadata": {
            "tags": []
          }
        }
      ]
    }
  ]
}