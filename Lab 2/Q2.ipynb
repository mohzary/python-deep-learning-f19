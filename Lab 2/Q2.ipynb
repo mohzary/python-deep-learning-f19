{
  "nbformat": 4,
  "nbformat_minor": 0,
  "metadata": {
    "colab": {
      "name": "Q2.ipynb",
      "provenance": [],
      "collapsed_sections": []
    },
    "kernelspec": {
      "name": "python3",
      "display_name": "Python 3"
    }
  },
  "cells": [
    {
      "cell_type": "markdown",
      "metadata": {
        "id": "vOLZqkzNFX5q",
        "colab_type": "text"
      },
      "source": [
        "# Heart Disease Classification with Logistic Regression \n",
        "\n",
        "Dataset: Heart Disease | [download](https://www.kaggle.com/ronitf/heart-disease-uci)"
      ]
    },
    {
      "cell_type": "code",
      "metadata": {
        "id": "zQ_-CsjR4Blh",
        "colab_type": "code",
        "colab": {}
      },
      "source": [
        "import io\n",
        "import pandas as pd\n",
        "from google.colab import files\n",
        "import numpy as np"
      ],
      "execution_count": 0,
      "outputs": []
    },
    {
      "cell_type": "code",
      "metadata": {
        "id": "XTAqC2IT4MLd",
        "colab_type": "code",
        "outputId": "c0bf08a2-fbfe-471d-e6ff-deb08742f8af",
        "colab": {
          "resources": {
            "http://localhost:8080/nbextensions/google.colab/files.js": {
              "data": "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",
              "ok": true,
              "headers": [
                [
                  "content-type",
                  "application/javascript"
                ]
              ],
              "status": 200,
              "status_text": ""
            }
          },
          "base_uri": "https://localhost:8080/",
          "height": 74
        }
      },
      "source": [
        "# To upload file and open it using pandas \n",
        "playStoreFile = files.upload()"
      ],
      "execution_count": 0,
      "outputs": [
        {
          "output_type": "display_data",
          "data": {
            "text/html": [
              "\n",
              "     <input type=\"file\" id=\"files-11a36438-fec1-499c-86b9-d43fe4a4889d\" name=\"files[]\" multiple disabled />\n",
              "     <output id=\"result-11a36438-fec1-499c-86b9-d43fe4a4889d\">\n",
              "      Upload widget is only available when the cell has been executed in the\n",
              "      current browser session. Please rerun this cell to enable.\n",
              "      </output>\n",
              "      <script src=\"/nbextensions/google.colab/files.js\"></script> "
            ],
            "text/plain": [
              "<IPython.core.display.HTML object>"
            ]
          },
          "metadata": {
            "tags": []
          }
        },
        {
          "output_type": "stream",
          "text": [
            "Saving heart.csv to heart (1).csv\n"
          ],
          "name": "stdout"
        }
      ]
    },
    {
      "cell_type": "code",
      "metadata": {
        "id": "TuKkhQP04Q2m",
        "colab_type": "code",
        "colab": {}
      },
      "source": [
        "# Reading the heart dataset\n",
        "heartDTlab2 = pd.read_csv(io.StringIO(playStoreFile['heart.csv'].decode('utf-8')))"
      ],
      "execution_count": 0,
      "outputs": []
    },
    {
      "cell_type": "code",
      "metadata": {
        "id": "efRAVojd4XUc",
        "colab_type": "code",
        "outputId": "fecb270a-240c-4e3d-e662-87391560bf39",
        "colab": {
          "base_uri": "https://localhost:8080/",
          "height": 106
        }
      },
      "source": [
        "# showcasing the first two data\n",
        "heartDTlab2.head(2)"
      ],
      "execution_count": 0,
      "outputs": [
        {
          "output_type": "execute_result",
          "data": {
            "text/html": [
              "<div>\n",
              "<style scoped>\n",
              "    .dataframe tbody tr th:only-of-type {\n",
              "        vertical-align: middle;\n",
              "    }\n",
              "\n",
              "    .dataframe tbody tr th {\n",
              "        vertical-align: top;\n",
              "    }\n",
              "\n",
              "    .dataframe thead th {\n",
              "        text-align: right;\n",
              "    }\n",
              "</style>\n",
              "<table border=\"1\" class=\"dataframe\">\n",
              "  <thead>\n",
              "    <tr style=\"text-align: right;\">\n",
              "      <th></th>\n",
              "      <th>age</th>\n",
              "      <th>sex</th>\n",
              "      <th>cp</th>\n",
              "      <th>trestbps</th>\n",
              "      <th>chol</th>\n",
              "      <th>fbs</th>\n",
              "      <th>restecg</th>\n",
              "      <th>thalach</th>\n",
              "      <th>exang</th>\n",
              "      <th>oldpeak</th>\n",
              "      <th>slope</th>\n",
              "      <th>ca</th>\n",
              "      <th>thal</th>\n",
              "      <th>target</th>\n",
              "    </tr>\n",
              "  </thead>\n",
              "  <tbody>\n",
              "    <tr>\n",
              "      <th>0</th>\n",
              "      <td>63</td>\n",
              "      <td>1</td>\n",
              "      <td>3</td>\n",
              "      <td>145</td>\n",
              "      <td>233</td>\n",
              "      <td>1</td>\n",
              "      <td>0</td>\n",
              "      <td>150</td>\n",
              "      <td>0</td>\n",
              "      <td>2.3</td>\n",
              "      <td>0</td>\n",
              "      <td>0</td>\n",
              "      <td>1</td>\n",
              "      <td>1</td>\n",
              "    </tr>\n",
              "    <tr>\n",
              "      <th>1</th>\n",
              "      <td>37</td>\n",
              "      <td>1</td>\n",
              "      <td>2</td>\n",
              "      <td>130</td>\n",
              "      <td>250</td>\n",
              "      <td>0</td>\n",
              "      <td>1</td>\n",
              "      <td>187</td>\n",
              "      <td>0</td>\n",
              "      <td>3.5</td>\n",
              "      <td>0</td>\n",
              "      <td>0</td>\n",
              "      <td>2</td>\n",
              "      <td>1</td>\n",
              "    </tr>\n",
              "  </tbody>\n",
              "</table>\n",
              "</div>"
            ],
            "text/plain": [
              "   age  sex  cp  trestbps  chol  fbs  ...  exang  oldpeak  slope  ca  thal  target\n",
              "0   63    1   3       145   233    1  ...      0      2.3      0   0     1       1\n",
              "1   37    1   2       130   250    0  ...      0      3.5      0   0     2       1\n",
              "\n",
              "[2 rows x 14 columns]"
            ]
          },
          "metadata": {
            "tags": []
          },
          "execution_count": 6
        }
      ]
    },
    {
      "cell_type": "code",
      "metadata": {
        "id": "3GXEP9sJ4kUo",
        "colab_type": "code",
        "colab": {}
      },
      "source": [
        "# Split the features and the target\n",
        "x_heartDTlab2 = heartDTlab2[heartDTlab2.columns[:13]]\n",
        "y_heartDTlab2 = heartDTlab2.target"
      ],
      "execution_count": 0,
      "outputs": []
    },
    {
      "cell_type": "code",
      "metadata": {
        "id": "iw_H59yi4o5V",
        "colab_type": "code",
        "outputId": "39306962-6453-446a-c321-90e35c8e98b4",
        "colab": {
          "base_uri": "https://localhost:8080/",
          "height": 279
        }
      },
      "source": [
        "import seaborn as snsLab2\n",
        "import matplotlib.pyplot as pltLab2\n",
        "\n",
        "# illustrate the values of the target feature\n",
        "snsLab2.countplot(x = y_heartDTlab2, data=heartDTlab2, palette=\"bwr\")\n",
        "pltLab2.show()"
      ],
      "execution_count": 0,
      "outputs": [
        {
          "output_type": "display_data",
          "data": {
            "image/png": "[encoded data removed]",
            "text/plain": [
              "<Figure size 432x288 with 1 Axes>"
            ]
          },
          "metadata": {
            "tags": []
          }
        }
      ]
    },
    {
      "cell_type": "code",
      "metadata": {
        "id": "BGwMVcmK5aoS",
        "colab_type": "code",
        "colab": {}
      },
      "source": [
        "from sklearn.model_selection import train_test_split\n",
        "# Divding the data to two parts; one is for traning, and the other one is for the testing\n",
        "x_trainLab2, x_testLab2, y_trainLab2, y_testLab2 = train_test_split(x_heartDTlab2, y_heartDTlab2, test_size = 0.2, random_state=0)"
      ],
      "execution_count": 0,
      "outputs": []
    },
    {
      "cell_type": "code",
      "metadata": {
        "id": "rYIoBiNd5nwd",
        "colab_type": "code",
        "outputId": "72e9a4e3-4f51-4013-da4b-d8e51a1e8c4d",
        "colab": {
          "base_uri": "https://localhost:8080/",
          "height": 34
        }
      },
      "source": [
        "x_trainLab2.shape"
      ],
      "execution_count": 0,
      "outputs": [
        {
          "output_type": "execute_result",
          "data": {
            "text/plain": [
              "(242, 13)"
            ]
          },
          "metadata": {
            "tags": []
          },
          "execution_count": 10
        }
      ]
    },
    {
      "cell_type": "markdown",
      "metadata": {
        "id": "Dzd9T1DBGGIk",
        "colab_type": "text"
      },
      "source": [
        "### Normalizing the data"
      ]
    },
    {
      "cell_type": "code",
      "metadata": {
        "id": "nJx7q-qF8Bla",
        "colab_type": "code",
        "colab": {}
      },
      "source": [
        "from sklearn.preprocessing import StandardScaler\n",
        "# implementation of normalization the data\n",
        "scLab2 = StandardScaler()\n",
        "x_trainLab2 = scLab2.fit_transform(x_trainLab2)\n",
        "x_testLab2 = scLab2.transform(x_testLab2)"
      ],
      "execution_count": 0,
      "outputs": []
    },
    {
      "cell_type": "code",
      "metadata": {
        "id": "MAVc9DXN5v-4",
        "colab_type": "code",
        "colab": {}
      },
      "source": [
        "from keras.models import Sequential,load_model\n",
        "import keras\n",
        "from keras.layers import Dense, Dropout, Flatten\n",
        "#Creating the model\n",
        "HeartLab2Model = Sequential()\n",
        "\n",
        "HeartLab2Model.add(Dense(30, input_dim=13, activation='relu')) # hidden layer\n",
        "HeartLab2Model.add(Dense(15, activation='relu')) # hidden layer\n",
        "HeartLab2Model.add(Dense(1,activation= 'sigmoid'))\n",
        "HeartLab2Model.compile(loss='binary_crossentropy', optimizer='adam', metrics=['accuracy'])"
      ],
      "execution_count": 0,
      "outputs": []
    },
    {
      "cell_type": "code",
      "metadata": {
        "id": "XsKAxfAO6TLq",
        "colab_type": "code",
        "outputId": "deb72407-b0e5-4e2d-999c-cd56b3a95220",
        "colab": {
          "base_uri": "https://localhost:8080/",
          "height": 1000
        }
      },
      "source": [
        "from tensorflow import keras\n",
        "TensorBoardLab2 = keras.callbacks.TensorBoard(log_dir='./Graph2', histogram_freq=0, write_graph=True, write_images=True)\n",
        "\n",
        "# Train the model\n",
        "HeartLab2 = HeartLab2Model.fit(x_trainLab2, y_trainLab2, epochs=50, verbose=1, callbacks=[TensorBoardLab2],\n",
        "          validation_data=(x_testLab2, y_testLab2))"
      ],
      "execution_count": 0,
      "outputs": [
        {
          "output_type": "stream",
          "text": [
            "Train on 242 samples, validate on 61 samples\n",
            "Epoch 1/50\n",
            "242/242 [==============================] - 0s 2ms/step - loss: 0.7171 - acc: 0.4835 - val_loss: 0.7428 - val_acc: 0.4590\n",
            "Epoch 2/50\n",
            "242/242 [==============================] - 0s 76us/step - loss: 0.6774 - acc: 0.5661 - val_loss: 0.6986 - val_acc: 0.5574\n",
            "Epoch 3/50\n",
            "242/242 [==============================] - 0s 65us/step - loss: 0.6437 - acc: 0.6405 - val_loss: 0.6580 - val_acc: 0.6393\n",
            "Epoch 4/50\n",
            "242/242 [==============================] - 0s 68us/step - loss: 0.6151 - acc: 0.6901 - val_loss: 0.6249 - val_acc: 0.7049\n",
            "Epoch 5/50\n",
            "242/242 [==============================] - 0s 53us/step - loss: 0.5875 - acc: 0.7231 - val_loss: 0.5972 - val_acc: 0.7049\n",
            "Epoch 6/50\n",
            "242/242 [==============================] - 0s 61us/step - loss: 0.5631 - acc: 0.7727 - val_loss: 0.5726 - val_acc: 0.7541\n",
            "Epoch 7/50\n",
            "242/242 [==============================] - 0s 66us/step - loss: 0.5398 - acc: 0.7893 - val_loss: 0.5525 - val_acc: 0.7705\n",
            "Epoch 8/50\n",
            "242/242 [==============================] - 0s 58us/step - loss: 0.5183 - acc: 0.7893 - val_loss: 0.5311 - val_acc: 0.7705\n",
            "Epoch 9/50\n",
            "242/242 [==============================] - 0s 70us/step - loss: 0.4958 - acc: 0.8058 - val_loss: 0.5144 - val_acc: 0.7869\n",
            "Epoch 10/50\n",
            "242/242 [==============================] - 0s 58us/step - loss: 0.4758 - acc: 0.8264 - val_loss: 0.4986 - val_acc: 0.8033\n",
            "Epoch 11/50\n",
            "242/242 [==============================] - 0s 68us/step - loss: 0.4572 - acc: 0.8430 - val_loss: 0.4851 - val_acc: 0.8033\n",
            "Epoch 12/50\n",
            "242/242 [==============================] - 0s 86us/step - loss: 0.4377 - acc: 0.8430 - val_loss: 0.4724 - val_acc: 0.8033\n",
            "Epoch 13/50\n",
            "242/242 [==============================] - 0s 64us/step - loss: 0.4213 - acc: 0.8471 - val_loss: 0.4594 - val_acc: 0.8033\n",
            "Epoch 14/50\n",
            "242/242 [==============================] - 0s 64us/step - loss: 0.4055 - acc: 0.8471 - val_loss: 0.4485 - val_acc: 0.8033\n",
            "Epoch 15/50\n",
            "242/242 [==============================] - 0s 66us/step - loss: 0.3927 - acc: 0.8430 - val_loss: 0.4390 - val_acc: 0.8033\n",
            "Epoch 16/50\n",
            "242/242 [==============================] - 0s 76us/step - loss: 0.3795 - acc: 0.8388 - val_loss: 0.4327 - val_acc: 0.8033\n",
            "Epoch 17/50\n",
            "242/242 [==============================] - 0s 82us/step - loss: 0.3689 - acc: 0.8430 - val_loss: 0.4273 - val_acc: 0.8197\n",
            "Epoch 18/50\n",
            "242/242 [==============================] - 0s 77us/step - loss: 0.3583 - acc: 0.8512 - val_loss: 0.4234 - val_acc: 0.8197\n",
            "Epoch 19/50\n",
            "242/242 [==============================] - 0s 75us/step - loss: 0.3510 - acc: 0.8512 - val_loss: 0.4186 - val_acc: 0.8033\n",
            "Epoch 20/50\n",
            "242/242 [==============================] - 0s 72us/step - loss: 0.3433 - acc: 0.8595 - val_loss: 0.4143 - val_acc: 0.8033\n",
            "Epoch 21/50\n",
            "242/242 [==============================] - 0s 69us/step - loss: 0.3371 - acc: 0.8595 - val_loss: 0.4120 - val_acc: 0.8197\n",
            "Epoch 22/50\n",
            "242/242 [==============================] - 0s 67us/step - loss: 0.3313 - acc: 0.8595 - val_loss: 0.4103 - val_acc: 0.8361\n",
            "Epoch 23/50\n",
            "242/242 [==============================] - 0s 73us/step - loss: 0.3262 - acc: 0.8595 - val_loss: 0.4079 - val_acc: 0.8525\n",
            "Epoch 24/50\n",
            "242/242 [==============================] - 0s 70us/step - loss: 0.3219 - acc: 0.8595 - val_loss: 0.4054 - val_acc: 0.8525\n",
            "Epoch 25/50\n",
            "242/242 [==============================] - 0s 62us/step - loss: 0.3177 - acc: 0.8595 - val_loss: 0.4050 - val_acc: 0.8361\n",
            "Epoch 26/50\n",
            "242/242 [==============================] - 0s 62us/step - loss: 0.3146 - acc: 0.8554 - val_loss: 0.4040 - val_acc: 0.8525\n",
            "Epoch 27/50\n",
            "242/242 [==============================] - 0s 78us/step - loss: 0.3105 - acc: 0.8554 - val_loss: 0.4032 - val_acc: 0.8361\n",
            "Epoch 28/50\n",
            "242/242 [==============================] - 0s 76us/step - loss: 0.3066 - acc: 0.8595 - val_loss: 0.4020 - val_acc: 0.8525\n",
            "Epoch 29/50\n",
            "242/242 [==============================] - 0s 63us/step - loss: 0.3033 - acc: 0.8554 - val_loss: 0.4017 - val_acc: 0.8361\n",
            "Epoch 30/50\n",
            "242/242 [==============================] - 0s 67us/step - loss: 0.3004 - acc: 0.8595 - val_loss: 0.4013 - val_acc: 0.8361\n",
            "Epoch 31/50\n",
            "242/242 [==============================] - 0s 59us/step - loss: 0.2972 - acc: 0.8595 - val_loss: 0.3985 - val_acc: 0.8361\n",
            "Epoch 32/50\n",
            "242/242 [==============================] - 0s 72us/step - loss: 0.2939 - acc: 0.8595 - val_loss: 0.3981 - val_acc: 0.8361\n",
            "Epoch 33/50\n",
            "242/242 [==============================] - 0s 72us/step - loss: 0.2916 - acc: 0.8636 - val_loss: 0.3995 - val_acc: 0.8197\n",
            "Epoch 34/50\n",
            "242/242 [==============================] - 0s 67us/step - loss: 0.2882 - acc: 0.8636 - val_loss: 0.3986 - val_acc: 0.8197\n",
            "Epoch 35/50\n",
            "242/242 [==============================] - 0s 58us/step - loss: 0.2850 - acc: 0.8636 - val_loss: 0.4004 - val_acc: 0.8197\n",
            "Epoch 36/50\n",
            "242/242 [==============================] - 0s 62us/step - loss: 0.2822 - acc: 0.8636 - val_loss: 0.4003 - val_acc: 0.8197\n",
            "Epoch 37/50\n",
            "242/242 [==============================] - 0s 64us/step - loss: 0.2798 - acc: 0.8719 - val_loss: 0.4000 - val_acc: 0.8197\n",
            "Epoch 38/50\n",
            "242/242 [==============================] - 0s 61us/step - loss: 0.2768 - acc: 0.8719 - val_loss: 0.3987 - val_acc: 0.8197\n",
            "Epoch 39/50\n",
            "242/242 [==============================] - 0s 66us/step - loss: 0.2747 - acc: 0.8760 - val_loss: 0.3982 - val_acc: 0.8197\n",
            "Epoch 40/50\n",
            "242/242 [==============================] - 0s 82us/step - loss: 0.2717 - acc: 0.8760 - val_loss: 0.3991 - val_acc: 0.8197\n",
            "Epoch 41/50\n",
            "242/242 [==============================] - 0s 62us/step - loss: 0.2693 - acc: 0.8802 - val_loss: 0.3990 - val_acc: 0.8033\n",
            "Epoch 42/50\n",
            "242/242 [==============================] - 0s 57us/step - loss: 0.2671 - acc: 0.8802 - val_loss: 0.3986 - val_acc: 0.8033\n",
            "Epoch 43/50\n",
            "242/242 [==============================] - 0s 61us/step - loss: 0.2650 - acc: 0.8802 - val_loss: 0.3983 - val_acc: 0.8033\n",
            "Epoch 44/50\n",
            "242/242 [==============================] - 0s 62us/step - loss: 0.2632 - acc: 0.8843 - val_loss: 0.4007 - val_acc: 0.8197\n",
            "Epoch 45/50\n",
            "242/242 [==============================] - 0s 65us/step - loss: 0.2604 - acc: 0.8843 - val_loss: 0.3995 - val_acc: 0.8197\n",
            "Epoch 46/50\n",
            "242/242 [==============================] - 0s 61us/step - loss: 0.2581 - acc: 0.8843 - val_loss: 0.3985 - val_acc: 0.8033\n",
            "Epoch 47/50\n",
            "242/242 [==============================] - 0s 66us/step - loss: 0.2557 - acc: 0.8843 - val_loss: 0.3991 - val_acc: 0.8197\n",
            "Epoch 48/50\n",
            "242/242 [==============================] - 0s 60us/step - loss: 0.2538 - acc: 0.8884 - val_loss: 0.4000 - val_acc: 0.8197\n",
            "Epoch 49/50\n",
            "242/242 [==============================] - 0s 56us/step - loss: 0.2518 - acc: 0.8926 - val_loss: 0.4028 - val_acc: 0.8197\n",
            "Epoch 50/50\n",
            "242/242 [==============================] - 0s 87us/step - loss: 0.2491 - acc: 0.8926 - val_loss: 0.4009 - val_acc: 0.8197\n"
          ],
          "name": "stdout"
        }
      ]
    },
    {
      "cell_type": "code",
      "metadata": {
        "id": "-P0WfiC96wxT",
        "colab_type": "code",
        "outputId": "2daa1c42-037b-40d2-e7db-ad8e9bdff257",
        "colab": {
          "base_uri": "https://localhost:8080/",
          "height": 302
        }
      },
      "source": [
        "# printing the summary and evaluation\n",
        "print(HeartLab2Model.summary())\n",
        "print(HeartLab2Model.evaluate(x_testLab2, y_testLab2))"
      ],
      "execution_count": 0,
      "outputs": [
        {
          "output_type": "stream",
          "text": [
            "Model: \"sequential_3\"\n",
            "_________________________________________________________________\n",
            "Layer (type)                 Output Shape              Param #   \n",
            "=================================================================\n",
            "dense_7 (Dense)              (None, 30)                420       \n",
            "_________________________________________________________________\n",
            "dense_8 (Dense)              (None, 15)                465       \n",
            "_________________________________________________________________\n",
            "dense_9 (Dense)              (None, 1)                 16        \n",
            "=================================================================\n",
            "Total params: 901\n",
            "Trainable params: 901\n",
            "Non-trainable params: 0\n",
            "_________________________________________________________________\n",
            "None\n",
            "61/61 [==============================] - 0s 115us/step\n",
            "[0.40087541644690466, 0.8196721350560423]\n"
          ],
          "name": "stdout"
        }
      ]
    },
    {
      "cell_type": "code",
      "metadata": {
        "id": "mfj389D563J9",
        "colab_type": "code",
        "outputId": "a2c4e052-e50e-499c-ee2b-c0b3e96e1f92",
        "colab": {
          "base_uri": "https://localhost:8080/",
          "height": 295
        }
      },
      "source": [
        "import matplotlib.pyplot as pltLab2\n",
        "# plot the loss and val_loss\n",
        "pltLab2.plot(HeartLab2.history['loss'])\n",
        "pltLab2.plot(HeartLab2.history['val_loss'])\n",
        "pltLab2.title('model loss')\n",
        "pltLab2.ylabel('loss')\n",
        "pltLab2.xlabel('epoch')\n",
        "pltLab2.legend(['loss', 'val_loss'], loc='upper left')\n",
        "pltLab2.show()\n"
      ],
      "execution_count": 0,
      "outputs": [
        {
          "output_type": "display_data",
          "data": {
            "image/png": "[encoded data removed]",
            "text/plain": [
              "<Figure size 432x288 with 1 Axes>"
            ]
          },
          "metadata": {
            "tags": []
          }
        }
      ]
    },
    {
      "cell_type": "code",
      "metadata": {
        "id": "PM_hIXn0_RmU",
        "colab_type": "code",
        "outputId": "c14b0317-7086-4a41-bca2-ab3166f7d109",
        "colab": {
          "base_uri": "https://localhost:8080/",
          "height": 295
        }
      },
      "source": [
        "import matplotlib.pyplot as pltLab2\n",
        "# plot the acc and val_acc\n",
        "pltLab2.plot(HeartLab2.history['acc'])\n",
        "pltLab2.plot(HeartLab2.history['val_acc'])\n",
        "pltLab2.title('model loss')\n",
        "pltLab2.ylabel('loss')\n",
        "pltLab2.xlabel('epoch')\n",
        "pltLab2.legend(['acc', 'val_acc'], loc='upper left')\n",
        "pltLab2.show()\n"
      ],
      "execution_count": 0,
      "outputs": [
        {
          "output_type": "display_data",
          "data": {
            "image/png": "[encoded data removed]",
            "text/plain": [
              "<Figure size 432x288 with 1 Axes>"
            ]
          },
          "metadata": {
            "tags": []
          }
        }
      ]
    },
    {
      "cell_type": "markdown",
      "metadata": {
        "id": "3IIcX_udBMf2",
        "colab_type": "text"
      },
      "source": [
        "# Change three hyperparameter and report how the accuracy changes"
      ]
    },
    {
      "cell_type": "code",
      "metadata": {
        "id": "-7y22CVVBK80",
        "colab_type": "code",
        "colab": {}
      },
      "source": [
        "from keras.models import Sequential,load_model\n",
        "import keras\n",
        "from keras.layers import Dense, Dropout, Flatten\n",
        "#Creating the model\n",
        "HeartLab2Model = Sequential()\n",
        "\n",
        "HeartLab2Model.add(Dense(25, input_dim=13, activation='relu')) # hidden layer\n",
        "HeartLab2Model.add(Dropout(rate=0.0005)) # hidden layer\n",
        "HeartLab2Model.add(Dense(8, activation='relu')) # hidden layer\n",
        "HeartLab2Model.add(Dense(1,activation= 'sigmoid'))\n",
        "HeartLab2Model.compile(loss='binary_crossentropy', optimizer=keras.optimizers.adam(lr = 0.0005), metrics=['accuracy'])"
      ],
      "execution_count": 0,
      "outputs": []
    },
    {
      "cell_type": "code",
      "metadata": {
        "id": "JNlk5MfCB2ii",
        "colab_type": "code",
        "colab": {}
      },
      "source": [
        "from tensorflow import keras\n",
        "# TensorBoardLab2 = keras.callbacks.TensorBoard(log_dir='./Graph2', histogram_freq=0, write_graph=True, write_images=True)\n",
        "\n",
        "# Train the model\n",
        "HeartLab2 = HeartLab2Model.fit(x_trainLab2, y_trainLab2, epochs=100, verbose=0,\n",
        "          validation_data=(x_testLab2, y_testLab2))"
      ],
      "execution_count": 0,
      "outputs": []
    },
    {
      "cell_type": "code",
      "metadata": {
        "id": "3jnf4ZlgB-iA",
        "colab_type": "code",
        "outputId": "bd04f25c-e954-4385-b174-1f0f175319ba",
        "colab": {
          "base_uri": "https://localhost:8080/",
          "height": 50
        }
      },
      "source": [
        "print(HeartLab2Model.evaluate(x_testLab2, y_testLab2))"
      ],
      "execution_count": 0,
      "outputs": [
        {
          "output_type": "stream",
          "text": [
            "61/61 [==============================] - 0s 68us/step\n",
            "[0.37226890687082637, 0.8360655669306145]\n"
          ],
          "name": "stdout"
        }
      ]
    },
    {
      "cell_type": "code",
      "metadata": {
        "id": "wTyq3gd6CDD5",
        "colab_type": "code",
        "outputId": "4c23202e-2734-46ad-8141-9442cb8a822d",
        "colab": {
          "base_uri": "https://localhost:8080/",
          "height": 295
        }
      },
      "source": [
        "import matplotlib.pyplot as pltLab2\n",
        "# plot the loss and val_loss\n",
        "pltLab2.plot(HeartLab2.history['loss'])\n",
        "pltLab2.plot(HeartLab2.history['val_loss'])\n",
        "pltLab2.title('model loss')\n",
        "pltLab2.ylabel('loss')\n",
        "pltLab2.xlabel('epoch')\n",
        "pltLab2.legend(['loss', 'val_loss'], loc='upper left')\n",
        "pltLab2.show()\n"
      ],
      "execution_count": 0,
      "outputs": [
        {
          "output_type": "display_data",
          "data": {
            "image/png": "[encoded data removed]",
            "text/plain": [
              "<Figure size 432x288 with 1 Axes>"
            ]
          },
          "metadata": {
            "tags": []
          }
        }
      ]
    },
    {
      "cell_type": "code",
      "metadata": {
        "id": "2NRx8RlQCGTH",
        "colab_type": "code",
        "outputId": "29a2d23a-1a79-4bc6-d0e4-288c1a107bb3",
        "colab": {
          "base_uri": "https://localhost:8080/",
          "height": 295
        }
      },
      "source": [
        "import matplotlib.pyplot as pltLab2\n",
        "# plot the acc and val_acc\n",
        "pltLab2.plot(HeartLab2.history['acc'])\n",
        "pltLab2.plot(HeartLab2.history['val_acc'])\n",
        "pltLab2.title('model acc')\n",
        "pltLab2.ylabel('loss')\n",
        "pltLab2.xlabel('epoch')\n",
        "pltLab2.legend(['acc', 'val_acc'], loc='upper left')\n",
        "pltLab2.show()\n"
      ],
      "execution_count": 0,
      "outputs": [
        {
          "output_type": "display_data",
          "data": {
            "image/png": "[encoded data removed]",
            "text/plain": [
              "<Figure size 432x288 with 1 Axes>"
            ]
          },
          "metadata": {
            "tags": []
          }
        }
      ]
    }
  ]
}